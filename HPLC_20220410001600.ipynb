{
  "cells": [
    {
      "cell_type": "markdown",
      "metadata": {
        "id": "view-in-github",
        "colab_type": "text"
      },
      "source": [
        "<a href=\"https://colab.research.google.com/github/sipocz/LSTM_HPLC/blob/main/HPLC_20220410001600.ipynb\" target=\"_parent\"><img src=\"https://colab.research.google.com/assets/colab-badge.svg\" alt=\"Open In Colab\"/></a>"
      ]
    },
    {
      "cell_type": "code",
      "execution_count": 74,
      "metadata": {
        "id": "3VoDnJFuApPY"
      },
      "outputs": [],
      "source": [
        ""
      ]
    },
    {
      "cell_type": "code",
      "execution_count": 75,
      "metadata": {
        "id": "lS8T-dxnwfjO"
      },
      "outputs": [],
      "source": [
        "import pandas as pd"
      ]
    },
    {
      "cell_type": "code",
      "execution_count": 76,
      "metadata": {
        "id": "xFjap2PTfYbv"
      },
      "outputs": [],
      "source": [
        "#emoji_url=\"https://github.com/sipocz/Twitter-Sentiment-Analysis-AI-Challenge/raw/5e7d7d29f58be438f33fa0c0bc2fd251dea0b453/emoji.py\"\n",
        "#!rm emoji.py\n",
        "#!wget $emoji_url\n",
        "#import emoji"
      ]
    },
    {
      "cell_type": "code",
      "execution_count": 77,
      "metadata": {
        "colab": {
          "base_uri": "https://localhost:8080/"
        },
        "id": "lDUZMjUkgIIe",
        "outputId": "399f97e7-f890-4a3a-8233-2cfa175fd1a6"
      },
      "outputs": [
        {
          "output_type": "stream",
          "name": "stdout",
          "text": [
            "--2022-04-09 18:23:39--  https://github.com/sipocz/LSTM_HPLC/raw/3a447ab5d1d37cdcbcb4d931ce7d73518359c8b2/orig/Nmer2.csv\n",
            "Resolving github.com (github.com)... 140.82.114.4\n",
            "Connecting to github.com (github.com)|140.82.114.4|:443... connected.\n",
            "HTTP request sent, awaiting response... 302 Found\n",
            "Location: https://raw.githubusercontent.com/sipocz/LSTM_HPLC/3a447ab5d1d37cdcbcb4d931ce7d73518359c8b2/orig/Nmer2.csv [following]\n",
            "--2022-04-09 18:23:39--  https://raw.githubusercontent.com/sipocz/LSTM_HPLC/3a447ab5d1d37cdcbcb4d931ce7d73518359c8b2/orig/Nmer2.csv\n",
            "Resolving raw.githubusercontent.com (raw.githubusercontent.com)... 185.199.108.133, 185.199.111.133, 185.199.109.133, ...\n",
            "Connecting to raw.githubusercontent.com (raw.githubusercontent.com)|185.199.108.133|:443... connected.\n",
            "HTTP request sent, awaiting response... 200 OK\n",
            "Length: 15772588 (15M) [text/plain]\n",
            "Saving to: ‘Nmer2.csv’\n",
            "\n",
            "Nmer2.csv           100%[===================>]  15.04M  --.-KB/s    in 0.1s    \n",
            "\n",
            "2022-04-09 18:23:39 (124 MB/s) - ‘Nmer2.csv’ saved [15772588/15772588]\n",
            "\n"
          ]
        }
      ],
      "source": [
        "!rm *Nmer2*\n",
        "\n",
        "!wget https://github.com/sipocz/LSTM_HPLC/raw/3a447ab5d1d37cdcbcb4d931ce7d73518359c8b2/orig/Nmer2.csv\n",
        "#!wget https://github.com/sipocz/LSTM_HPLC/raw/4371b1ef331c9d0f304e25117f160b979bb39661/orig/N_m3.csv\n",
        "\n",
        "_MODE_=\"Tesztel\"\n"
      ]
    },
    {
      "cell_type": "code",
      "execution_count": 78,
      "metadata": {
        "id": "NFiNZuPMkfGl"
      },
      "outputs": [],
      "source": [
        "df=pd.read_csv(\"Nmer2.csv\",sep=\",\",skiprows=1,)\n"
      ]
    },
    {
      "cell_type": "code",
      "execution_count": 78,
      "metadata": {
        "id": "nCjVAcb2iJZy"
      },
      "outputs": [],
      "source": [
        ""
      ]
    },
    {
      "cell_type": "code",
      "execution_count": 79,
      "metadata": {
        "colab": {
          "base_uri": "https://localhost:8080/",
          "height": 317
        },
        "id": "YDtEcJB5haQF",
        "outputId": "fdb73642-809c-4249-b6ec-33f54d911b0e"
      },
      "outputs": [
        {
          "output_type": "execute_result",
          "data": {
            "text/plain": [
              "                 time        0  0.00333333  0.00666667      0.01  0.0133333  \\\n",
              "0  M13127N_detect3020  1.68793     1.41315    0.755643  0.480864   0.255152   \n",
              "1  M13144N_detect3020  1.92345     1.32483    0.863592  0.559372   0.323847   \n",
              "2  M13153N_detect3020  1.88420     1.27576    0.853778  0.569185   0.333661   \n",
              "3  M14028N_detect3020  0.00000     1.42296    0.942100  0.598626   0.382728   \n",
              "4  M14049N_detect3020  1.59961     1.07949    0.706575  0.441609   0.235525   \n",
              "\n",
              "   0.0166667      0.02  0.0233333  0.0266667  ...  47.9167  47.92  47.9233  \\\n",
              "0   0.107949  0.000000        0.0        0.0  ...      0.0    0.0      0.0   \n",
              "1   0.176644  0.039254        0.0        0.0  ...      0.0    0.0      0.0   \n",
              "2   0.166830  0.039254        0.0        0.0  ...      0.0    0.0      0.0   \n",
              "3   0.206084  0.058881        0.0        0.0  ...      0.0    0.0      0.0   \n",
              "4   0.117762  0.000000        0.0        0.0  ...      0.0    0.0      0.0   \n",
              "\n",
              "   47.9267  47.93  47.9333  47.9367  47.94  Unnamed: 14384  Unnamed: 14385  \n",
              "0      0.0    0.0      0.0      0.0    0.0     2524.709798        megfelel  \n",
              "1      0.0    0.0      0.0      0.0    0.0     2422.244040        megfelel  \n",
              "2      0.0    0.0      0.0      0.0    0.0     2529.530277        megfelel  \n",
              "3      0.0    0.0      0.0      0.0    0.0     2433.146990        megfelel  \n",
              "4      0.0    0.0      0.0      0.0    0.0     2652.605677        megfelel  \n",
              "\n",
              "[5 rows x 14386 columns]"
            ],
            "text/html": [
              "\n",
              "  <div id=\"df-510c078b-2a70-406c-af03-34a7c1adb13c\">\n",
              "    <div class=\"colab-df-container\">\n",
              "      <div>\n",
              "<style scoped>\n",
              "    .dataframe tbody tr th:only-of-type {\n",
              "        vertical-align: middle;\n",
              "    }\n",
              "\n",
              "    .dataframe tbody tr th {\n",
              "        vertical-align: top;\n",
              "    }\n",
              "\n",
              "    .dataframe thead th {\n",
              "        text-align: right;\n",
              "    }\n",
              "</style>\n",
              "<table border=\"1\" class=\"dataframe\">\n",
              "  <thead>\n",
              "    <tr style=\"text-align: right;\">\n",
              "      <th></th>\n",
              "      <th>time</th>\n",
              "      <th>0</th>\n",
              "      <th>0.00333333</th>\n",
              "      <th>0.00666667</th>\n",
              "      <th>0.01</th>\n",
              "      <th>0.0133333</th>\n",
              "      <th>0.0166667</th>\n",
              "      <th>0.02</th>\n",
              "      <th>0.0233333</th>\n",
              "      <th>0.0266667</th>\n",
              "      <th>...</th>\n",
              "      <th>47.9167</th>\n",
              "      <th>47.92</th>\n",
              "      <th>47.9233</th>\n",
              "      <th>47.9267</th>\n",
              "      <th>47.93</th>\n",
              "      <th>47.9333</th>\n",
              "      <th>47.9367</th>\n",
              "      <th>47.94</th>\n",
              "      <th>Unnamed: 14384</th>\n",
              "      <th>Unnamed: 14385</th>\n",
              "    </tr>\n",
              "  </thead>\n",
              "  <tbody>\n",
              "    <tr>\n",
              "      <th>0</th>\n",
              "      <td>M13127N_detect3020</td>\n",
              "      <td>1.68793</td>\n",
              "      <td>1.41315</td>\n",
              "      <td>0.755643</td>\n",
              "      <td>0.480864</td>\n",
              "      <td>0.255152</td>\n",
              "      <td>0.107949</td>\n",
              "      <td>0.000000</td>\n",
              "      <td>0.0</td>\n",
              "      <td>0.0</td>\n",
              "      <td>...</td>\n",
              "      <td>0.0</td>\n",
              "      <td>0.0</td>\n",
              "      <td>0.0</td>\n",
              "      <td>0.0</td>\n",
              "      <td>0.0</td>\n",
              "      <td>0.0</td>\n",
              "      <td>0.0</td>\n",
              "      <td>0.0</td>\n",
              "      <td>2524.709798</td>\n",
              "      <td>megfelel</td>\n",
              "    </tr>\n",
              "    <tr>\n",
              "      <th>1</th>\n",
              "      <td>M13144N_detect3020</td>\n",
              "      <td>1.92345</td>\n",
              "      <td>1.32483</td>\n",
              "      <td>0.863592</td>\n",
              "      <td>0.559372</td>\n",
              "      <td>0.323847</td>\n",
              "      <td>0.176644</td>\n",
              "      <td>0.039254</td>\n",
              "      <td>0.0</td>\n",
              "      <td>0.0</td>\n",
              "      <td>...</td>\n",
              "      <td>0.0</td>\n",
              "      <td>0.0</td>\n",
              "      <td>0.0</td>\n",
              "      <td>0.0</td>\n",
              "      <td>0.0</td>\n",
              "      <td>0.0</td>\n",
              "      <td>0.0</td>\n",
              "      <td>0.0</td>\n",
              "      <td>2422.244040</td>\n",
              "      <td>megfelel</td>\n",
              "    </tr>\n",
              "    <tr>\n",
              "      <th>2</th>\n",
              "      <td>M13153N_detect3020</td>\n",
              "      <td>1.88420</td>\n",
              "      <td>1.27576</td>\n",
              "      <td>0.853778</td>\n",
              "      <td>0.569185</td>\n",
              "      <td>0.333661</td>\n",
              "      <td>0.166830</td>\n",
              "      <td>0.039254</td>\n",
              "      <td>0.0</td>\n",
              "      <td>0.0</td>\n",
              "      <td>...</td>\n",
              "      <td>0.0</td>\n",
              "      <td>0.0</td>\n",
              "      <td>0.0</td>\n",
              "      <td>0.0</td>\n",
              "      <td>0.0</td>\n",
              "      <td>0.0</td>\n",
              "      <td>0.0</td>\n",
              "      <td>0.0</td>\n",
              "      <td>2529.530277</td>\n",
              "      <td>megfelel</td>\n",
              "    </tr>\n",
              "    <tr>\n",
              "      <th>3</th>\n",
              "      <td>M14028N_detect3020</td>\n",
              "      <td>0.00000</td>\n",
              "      <td>1.42296</td>\n",
              "      <td>0.942100</td>\n",
              "      <td>0.598626</td>\n",
              "      <td>0.382728</td>\n",
              "      <td>0.206084</td>\n",
              "      <td>0.058881</td>\n",
              "      <td>0.0</td>\n",
              "      <td>0.0</td>\n",
              "      <td>...</td>\n",
              "      <td>0.0</td>\n",
              "      <td>0.0</td>\n",
              "      <td>0.0</td>\n",
              "      <td>0.0</td>\n",
              "      <td>0.0</td>\n",
              "      <td>0.0</td>\n",
              "      <td>0.0</td>\n",
              "      <td>0.0</td>\n",
              "      <td>2433.146990</td>\n",
              "      <td>megfelel</td>\n",
              "    </tr>\n",
              "    <tr>\n",
              "      <th>4</th>\n",
              "      <td>M14049N_detect3020</td>\n",
              "      <td>1.59961</td>\n",
              "      <td>1.07949</td>\n",
              "      <td>0.706575</td>\n",
              "      <td>0.441609</td>\n",
              "      <td>0.235525</td>\n",
              "      <td>0.117762</td>\n",
              "      <td>0.000000</td>\n",
              "      <td>0.0</td>\n",
              "      <td>0.0</td>\n",
              "      <td>...</td>\n",
              "      <td>0.0</td>\n",
              "      <td>0.0</td>\n",
              "      <td>0.0</td>\n",
              "      <td>0.0</td>\n",
              "      <td>0.0</td>\n",
              "      <td>0.0</td>\n",
              "      <td>0.0</td>\n",
              "      <td>0.0</td>\n",
              "      <td>2652.605677</td>\n",
              "      <td>megfelel</td>\n",
              "    </tr>\n",
              "  </tbody>\n",
              "</table>\n",
              "<p>5 rows × 14386 columns</p>\n",
              "</div>\n",
              "      <button class=\"colab-df-convert\" onclick=\"convertToInteractive('df-510c078b-2a70-406c-af03-34a7c1adb13c')\"\n",
              "              title=\"Convert this dataframe to an interactive table.\"\n",
              "              style=\"display:none;\">\n",
              "        \n",
              "  <svg xmlns=\"http://www.w3.org/2000/svg\" height=\"24px\"viewBox=\"0 0 24 24\"\n",
              "       width=\"24px\">\n",
              "    <path d=\"M0 0h24v24H0V0z\" fill=\"none\"/>\n",
              "    <path d=\"M18.56 5.44l.94 2.06.94-2.06 2.06-.94-2.06-.94-.94-2.06-.94 2.06-2.06.94zm-11 1L8.5 8.5l.94-2.06 2.06-.94-2.06-.94L8.5 2.5l-.94 2.06-2.06.94zm10 10l.94 2.06.94-2.06 2.06-.94-2.06-.94-.94-2.06-.94 2.06-2.06.94z\"/><path d=\"M17.41 7.96l-1.37-1.37c-.4-.4-.92-.59-1.43-.59-.52 0-1.04.2-1.43.59L10.3 9.45l-7.72 7.72c-.78.78-.78 2.05 0 2.83L4 21.41c.39.39.9.59 1.41.59.51 0 1.02-.2 1.41-.59l7.78-7.78 2.81-2.81c.8-.78.8-2.07 0-2.86zM5.41 20L4 18.59l7.72-7.72 1.47 1.35L5.41 20z\"/>\n",
              "  </svg>\n",
              "      </button>\n",
              "      \n",
              "  <style>\n",
              "    .colab-df-container {\n",
              "      display:flex;\n",
              "      flex-wrap:wrap;\n",
              "      gap: 12px;\n",
              "    }\n",
              "\n",
              "    .colab-df-convert {\n",
              "      background-color: #E8F0FE;\n",
              "      border: none;\n",
              "      border-radius: 50%;\n",
              "      cursor: pointer;\n",
              "      display: none;\n",
              "      fill: #1967D2;\n",
              "      height: 32px;\n",
              "      padding: 0 0 0 0;\n",
              "      width: 32px;\n",
              "    }\n",
              "\n",
              "    .colab-df-convert:hover {\n",
              "      background-color: #E2EBFA;\n",
              "      box-shadow: 0px 1px 2px rgba(60, 64, 67, 0.3), 0px 1px 3px 1px rgba(60, 64, 67, 0.15);\n",
              "      fill: #174EA6;\n",
              "    }\n",
              "\n",
              "    [theme=dark] .colab-df-convert {\n",
              "      background-color: #3B4455;\n",
              "      fill: #D2E3FC;\n",
              "    }\n",
              "\n",
              "    [theme=dark] .colab-df-convert:hover {\n",
              "      background-color: #434B5C;\n",
              "      box-shadow: 0px 1px 3px 1px rgba(0, 0, 0, 0.15);\n",
              "      filter: drop-shadow(0px 1px 2px rgba(0, 0, 0, 0.3));\n",
              "      fill: #FFFFFF;\n",
              "    }\n",
              "  </style>\n",
              "\n",
              "      <script>\n",
              "        const buttonEl =\n",
              "          document.querySelector('#df-510c078b-2a70-406c-af03-34a7c1adb13c button.colab-df-convert');\n",
              "        buttonEl.style.display =\n",
              "          google.colab.kernel.accessAllowed ? 'block' : 'none';\n",
              "\n",
              "        async function convertToInteractive(key) {\n",
              "          const element = document.querySelector('#df-510c078b-2a70-406c-af03-34a7c1adb13c');\n",
              "          const dataTable =\n",
              "            await google.colab.kernel.invokeFunction('convertToInteractive',\n",
              "                                                     [key], {});\n",
              "          if (!dataTable) return;\n",
              "\n",
              "          const docLinkHtml = 'Like what you see? Visit the ' +\n",
              "            '<a target=\"_blank\" href=https://colab.research.google.com/notebooks/data_table.ipynb>data table notebook</a>'\n",
              "            + ' to learn more about interactive tables.';\n",
              "          element.innerHTML = '';\n",
              "          dataTable['output_type'] = 'display_data';\n",
              "          await google.colab.output.renderOutput(dataTable, element);\n",
              "          const docLink = document.createElement('div');\n",
              "          docLink.innerHTML = docLinkHtml;\n",
              "          element.appendChild(docLink);\n",
              "        }\n",
              "      </script>\n",
              "    </div>\n",
              "  </div>\n",
              "  "
            ]
          },
          "metadata": {},
          "execution_count": 79
        }
      ],
      "source": [
        "df.head()\n",
        "\n"
      ]
    },
    {
      "cell_type": "code",
      "source": [
        "df.iloc[31]"
      ],
      "metadata": {
        "colab": {
          "base_uri": "https://localhost:8080/"
        },
        "id": "JGJM5jz-elNX",
        "outputId": "4f0971cc-f6d8-42f0-b51f-aa19571d3cdb"
      },
      "execution_count": 80,
      "outputs": [
        {
          "output_type": "execute_result",
          "data": {
            "text/plain": [
              "time              M5C011N_detect3020\n",
              "0                                0.0\n",
              "0.00333333                   1.21688\n",
              "0.00666667                  0.755643\n",
              "0.01                         0.47105\n",
              "                         ...        \n",
              "47.9333                          0.0\n",
              "47.9367                          0.0\n",
              "47.94                            0.0\n",
              "Unnamed: 14384            2190.83243\n",
              "Unnamed: 14385              megfelel\n",
              "Name: 31, Length: 14386, dtype: object"
            ]
          },
          "metadata": {},
          "execution_count": 80
        }
      ]
    },
    {
      "cell_type": "code",
      "execution_count": 81,
      "metadata": {
        "id": "4arFXoEAuVVh"
      },
      "outputs": [],
      "source": [
        "col=df.columns"
      ]
    },
    {
      "cell_type": "code",
      "source": [
        ""
      ],
      "metadata": {
        "id": "DxpDNE_3TgCM"
      },
      "execution_count": 81,
      "outputs": []
    },
    {
      "cell_type": "code",
      "execution_count": 82,
      "metadata": {
        "id": "dA8Mk878pUdU"
      },
      "outputs": [],
      "source": [
        "df_X=df[col[11000:-2]]\n"
      ]
    },
    {
      "cell_type": "code",
      "execution_count": 83,
      "metadata": {
        "colab": {
          "base_uri": "https://localhost:8080/",
          "height": 235
        },
        "id": "fkrSKZswuyF1",
        "outputId": "c14535eb-a0e1-4d07-aad7-51f4152e5ff4"
      },
      "outputs": [
        {
          "output_type": "execute_result",
          "data": {
            "text/plain": [
              "   36.6633  36.6667  36.67  36.6733  36.6767  36.68  36.6833  36.6867  36.69  \\\n",
              "0      0.0      0.0    0.0      0.0      0.0    0.0      0.0      0.0    0.0   \n",
              "1      0.0      0.0    0.0      0.0      0.0    0.0      0.0      0.0    0.0   \n",
              "2      0.0      0.0    0.0      0.0      0.0    0.0      0.0      0.0    0.0   \n",
              "3      0.0      0.0    0.0      0.0      0.0    0.0      0.0      0.0    0.0   \n",
              "4      0.0      0.0    0.0      0.0      0.0    0.0      0.0      0.0    0.0   \n",
              "\n",
              "   36.6933  ...  47.91  47.9133  47.9167  47.92  47.9233  47.9267  47.93  \\\n",
              "0      0.0  ...    0.0      0.0      0.0    0.0      0.0      0.0    0.0   \n",
              "1      0.0  ...    0.0      0.0      0.0    0.0      0.0      0.0    0.0   \n",
              "2      0.0  ...    0.0      0.0      0.0    0.0      0.0      0.0    0.0   \n",
              "3      0.0  ...    0.0      0.0      0.0    0.0      0.0      0.0    0.0   \n",
              "4      0.0  ...    0.0      0.0      0.0    0.0      0.0      0.0    0.0   \n",
              "\n",
              "   47.9333  47.9367  47.94  \n",
              "0      0.0      0.0    0.0  \n",
              "1      0.0      0.0    0.0  \n",
              "2      0.0      0.0    0.0  \n",
              "3      0.0      0.0    0.0  \n",
              "4      0.0      0.0    0.0  \n",
              "\n",
              "[5 rows x 3384 columns]"
            ],
            "text/html": [
              "\n",
              "  <div id=\"df-b8e48fa5-1fec-40c5-8e20-f094c631d554\">\n",
              "    <div class=\"colab-df-container\">\n",
              "      <div>\n",
              "<style scoped>\n",
              "    .dataframe tbody tr th:only-of-type {\n",
              "        vertical-align: middle;\n",
              "    }\n",
              "\n",
              "    .dataframe tbody tr th {\n",
              "        vertical-align: top;\n",
              "    }\n",
              "\n",
              "    .dataframe thead th {\n",
              "        text-align: right;\n",
              "    }\n",
              "</style>\n",
              "<table border=\"1\" class=\"dataframe\">\n",
              "  <thead>\n",
              "    <tr style=\"text-align: right;\">\n",
              "      <th></th>\n",
              "      <th>36.6633</th>\n",
              "      <th>36.6667</th>\n",
              "      <th>36.67</th>\n",
              "      <th>36.6733</th>\n",
              "      <th>36.6767</th>\n",
              "      <th>36.68</th>\n",
              "      <th>36.6833</th>\n",
              "      <th>36.6867</th>\n",
              "      <th>36.69</th>\n",
              "      <th>36.6933</th>\n",
              "      <th>...</th>\n",
              "      <th>47.91</th>\n",
              "      <th>47.9133</th>\n",
              "      <th>47.9167</th>\n",
              "      <th>47.92</th>\n",
              "      <th>47.9233</th>\n",
              "      <th>47.9267</th>\n",
              "      <th>47.93</th>\n",
              "      <th>47.9333</th>\n",
              "      <th>47.9367</th>\n",
              "      <th>47.94</th>\n",
              "    </tr>\n",
              "  </thead>\n",
              "  <tbody>\n",
              "    <tr>\n",
              "      <th>0</th>\n",
              "      <td>0.0</td>\n",
              "      <td>0.0</td>\n",
              "      <td>0.0</td>\n",
              "      <td>0.0</td>\n",
              "      <td>0.0</td>\n",
              "      <td>0.0</td>\n",
              "      <td>0.0</td>\n",
              "      <td>0.0</td>\n",
              "      <td>0.0</td>\n",
              "      <td>0.0</td>\n",
              "      <td>...</td>\n",
              "      <td>0.0</td>\n",
              "      <td>0.0</td>\n",
              "      <td>0.0</td>\n",
              "      <td>0.0</td>\n",
              "      <td>0.0</td>\n",
              "      <td>0.0</td>\n",
              "      <td>0.0</td>\n",
              "      <td>0.0</td>\n",
              "      <td>0.0</td>\n",
              "      <td>0.0</td>\n",
              "    </tr>\n",
              "    <tr>\n",
              "      <th>1</th>\n",
              "      <td>0.0</td>\n",
              "      <td>0.0</td>\n",
              "      <td>0.0</td>\n",
              "      <td>0.0</td>\n",
              "      <td>0.0</td>\n",
              "      <td>0.0</td>\n",
              "      <td>0.0</td>\n",
              "      <td>0.0</td>\n",
              "      <td>0.0</td>\n",
              "      <td>0.0</td>\n",
              "      <td>...</td>\n",
              "      <td>0.0</td>\n",
              "      <td>0.0</td>\n",
              "      <td>0.0</td>\n",
              "      <td>0.0</td>\n",
              "      <td>0.0</td>\n",
              "      <td>0.0</td>\n",
              "      <td>0.0</td>\n",
              "      <td>0.0</td>\n",
              "      <td>0.0</td>\n",
              "      <td>0.0</td>\n",
              "    </tr>\n",
              "    <tr>\n",
              "      <th>2</th>\n",
              "      <td>0.0</td>\n",
              "      <td>0.0</td>\n",
              "      <td>0.0</td>\n",
              "      <td>0.0</td>\n",
              "      <td>0.0</td>\n",
              "      <td>0.0</td>\n",
              "      <td>0.0</td>\n",
              "      <td>0.0</td>\n",
              "      <td>0.0</td>\n",
              "      <td>0.0</td>\n",
              "      <td>...</td>\n",
              "      <td>0.0</td>\n",
              "      <td>0.0</td>\n",
              "      <td>0.0</td>\n",
              "      <td>0.0</td>\n",
              "      <td>0.0</td>\n",
              "      <td>0.0</td>\n",
              "      <td>0.0</td>\n",
              "      <td>0.0</td>\n",
              "      <td>0.0</td>\n",
              "      <td>0.0</td>\n",
              "    </tr>\n",
              "    <tr>\n",
              "      <th>3</th>\n",
              "      <td>0.0</td>\n",
              "      <td>0.0</td>\n",
              "      <td>0.0</td>\n",
              "      <td>0.0</td>\n",
              "      <td>0.0</td>\n",
              "      <td>0.0</td>\n",
              "      <td>0.0</td>\n",
              "      <td>0.0</td>\n",
              "      <td>0.0</td>\n",
              "      <td>0.0</td>\n",
              "      <td>...</td>\n",
              "      <td>0.0</td>\n",
              "      <td>0.0</td>\n",
              "      <td>0.0</td>\n",
              "      <td>0.0</td>\n",
              "      <td>0.0</td>\n",
              "      <td>0.0</td>\n",
              "      <td>0.0</td>\n",
              "      <td>0.0</td>\n",
              "      <td>0.0</td>\n",
              "      <td>0.0</td>\n",
              "    </tr>\n",
              "    <tr>\n",
              "      <th>4</th>\n",
              "      <td>0.0</td>\n",
              "      <td>0.0</td>\n",
              "      <td>0.0</td>\n",
              "      <td>0.0</td>\n",
              "      <td>0.0</td>\n",
              "      <td>0.0</td>\n",
              "      <td>0.0</td>\n",
              "      <td>0.0</td>\n",
              "      <td>0.0</td>\n",
              "      <td>0.0</td>\n",
              "      <td>...</td>\n",
              "      <td>0.0</td>\n",
              "      <td>0.0</td>\n",
              "      <td>0.0</td>\n",
              "      <td>0.0</td>\n",
              "      <td>0.0</td>\n",
              "      <td>0.0</td>\n",
              "      <td>0.0</td>\n",
              "      <td>0.0</td>\n",
              "      <td>0.0</td>\n",
              "      <td>0.0</td>\n",
              "    </tr>\n",
              "  </tbody>\n",
              "</table>\n",
              "<p>5 rows × 3384 columns</p>\n",
              "</div>\n",
              "      <button class=\"colab-df-convert\" onclick=\"convertToInteractive('df-b8e48fa5-1fec-40c5-8e20-f094c631d554')\"\n",
              "              title=\"Convert this dataframe to an interactive table.\"\n",
              "              style=\"display:none;\">\n",
              "        \n",
              "  <svg xmlns=\"http://www.w3.org/2000/svg\" height=\"24px\"viewBox=\"0 0 24 24\"\n",
              "       width=\"24px\">\n",
              "    <path d=\"M0 0h24v24H0V0z\" fill=\"none\"/>\n",
              "    <path d=\"M18.56 5.44l.94 2.06.94-2.06 2.06-.94-2.06-.94-.94-2.06-.94 2.06-2.06.94zm-11 1L8.5 8.5l.94-2.06 2.06-.94-2.06-.94L8.5 2.5l-.94 2.06-2.06.94zm10 10l.94 2.06.94-2.06 2.06-.94-2.06-.94-.94-2.06-.94 2.06-2.06.94z\"/><path d=\"M17.41 7.96l-1.37-1.37c-.4-.4-.92-.59-1.43-.59-.52 0-1.04.2-1.43.59L10.3 9.45l-7.72 7.72c-.78.78-.78 2.05 0 2.83L4 21.41c.39.39.9.59 1.41.59.51 0 1.02-.2 1.41-.59l7.78-7.78 2.81-2.81c.8-.78.8-2.07 0-2.86zM5.41 20L4 18.59l7.72-7.72 1.47 1.35L5.41 20z\"/>\n",
              "  </svg>\n",
              "      </button>\n",
              "      \n",
              "  <style>\n",
              "    .colab-df-container {\n",
              "      display:flex;\n",
              "      flex-wrap:wrap;\n",
              "      gap: 12px;\n",
              "    }\n",
              "\n",
              "    .colab-df-convert {\n",
              "      background-color: #E8F0FE;\n",
              "      border: none;\n",
              "      border-radius: 50%;\n",
              "      cursor: pointer;\n",
              "      display: none;\n",
              "      fill: #1967D2;\n",
              "      height: 32px;\n",
              "      padding: 0 0 0 0;\n",
              "      width: 32px;\n",
              "    }\n",
              "\n",
              "    .colab-df-convert:hover {\n",
              "      background-color: #E2EBFA;\n",
              "      box-shadow: 0px 1px 2px rgba(60, 64, 67, 0.3), 0px 1px 3px 1px rgba(60, 64, 67, 0.15);\n",
              "      fill: #174EA6;\n",
              "    }\n",
              "\n",
              "    [theme=dark] .colab-df-convert {\n",
              "      background-color: #3B4455;\n",
              "      fill: #D2E3FC;\n",
              "    }\n",
              "\n",
              "    [theme=dark] .colab-df-convert:hover {\n",
              "      background-color: #434B5C;\n",
              "      box-shadow: 0px 1px 3px 1px rgba(0, 0, 0, 0.15);\n",
              "      filter: drop-shadow(0px 1px 2px rgba(0, 0, 0, 0.3));\n",
              "      fill: #FFFFFF;\n",
              "    }\n",
              "  </style>\n",
              "\n",
              "      <script>\n",
              "        const buttonEl =\n",
              "          document.querySelector('#df-b8e48fa5-1fec-40c5-8e20-f094c631d554 button.colab-df-convert');\n",
              "        buttonEl.style.display =\n",
              "          google.colab.kernel.accessAllowed ? 'block' : 'none';\n",
              "\n",
              "        async function convertToInteractive(key) {\n",
              "          const element = document.querySelector('#df-b8e48fa5-1fec-40c5-8e20-f094c631d554');\n",
              "          const dataTable =\n",
              "            await google.colab.kernel.invokeFunction('convertToInteractive',\n",
              "                                                     [key], {});\n",
              "          if (!dataTable) return;\n",
              "\n",
              "          const docLinkHtml = 'Like what you see? Visit the ' +\n",
              "            '<a target=\"_blank\" href=https://colab.research.google.com/notebooks/data_table.ipynb>data table notebook</a>'\n",
              "            + ' to learn more about interactive tables.';\n",
              "          element.innerHTML = '';\n",
              "          dataTable['output_type'] = 'display_data';\n",
              "          await google.colab.output.renderOutput(dataTable, element);\n",
              "          const docLink = document.createElement('div');\n",
              "          docLink.innerHTML = docLinkHtml;\n",
              "          element.appendChild(docLink);\n",
              "        }\n",
              "      </script>\n",
              "    </div>\n",
              "  </div>\n",
              "  "
            ]
          },
          "metadata": {},
          "execution_count": 83
        }
      ],
      "source": [
        "df_X.head()"
      ]
    },
    {
      "cell_type": "code",
      "source": [
        ""
      ],
      "metadata": {
        "id": "x0YQyPvuTa_9"
      },
      "execution_count": 83,
      "outputs": []
    },
    {
      "cell_type": "code",
      "execution_count": 84,
      "metadata": {
        "id": "OczaGqbTqKgz"
      },
      "outputs": [],
      "source": [
        "df_y=df[col[-2:-1]]"
      ]
    },
    {
      "cell_type": "code",
      "execution_count": 85,
      "metadata": {
        "id": "dLG_fYjUiUSU"
      },
      "outputs": [],
      "source": [
        "df_y2=df[col[-1]]"
      ]
    },
    {
      "cell_type": "code",
      "execution_count": 86,
      "metadata": {
        "colab": {
          "base_uri": "https://localhost:8080/"
        },
        "id": "NCzr89LSiaM8",
        "outputId": "deda37e3-f709-4297-85da-d251010bbc92"
      },
      "outputs": [
        {
          "output_type": "execute_result",
          "data": {
            "text/plain": [
              "0      megfelel\n",
              "1      megfelel\n",
              "2      megfelel\n",
              "3      megfelel\n",
              "4      megfelel\n",
              "         ...   \n",
              "200    megfelel\n",
              "201    megfelel\n",
              "202    megfelel\n",
              "203    megfelel\n",
              "204    megfelel\n",
              "Name: Unnamed: 14385, Length: 205, dtype: object"
            ]
          },
          "metadata": {},
          "execution_count": 86
        }
      ],
      "source": [
        "df_y2"
      ]
    },
    {
      "cell_type": "code",
      "execution_count": 87,
      "metadata": {
        "id": "K9oEj5UHjCg_"
      },
      "outputs": [],
      "source": [
        "from sklearn.preprocessing import LabelEncoder\n",
        "\n",
        "LE = LabelEncoder()\n",
        "df[\"coded\"] = LE.fit_transform(df_y2)\n",
        "\n"
      ]
    },
    {
      "cell_type": "code",
      "execution_count": 88,
      "metadata": {
        "id": "3B5dWWjxB2yN"
      },
      "outputs": [],
      "source": [
        "df_y.columns=[\"Value\"]"
      ]
    },
    {
      "cell_type": "code",
      "execution_count": 89,
      "metadata": {
        "colab": {
          "base_uri": "https://localhost:8080/"
        },
        "id": "I_b6_UVJN64t",
        "outputId": "bb3312d0-eb25-4831-eb9b-b4c8e9871c0d"
      },
      "outputs": [
        {
          "output_type": "execute_result",
          "data": {
            "text/plain": [
              "count     205.000000\n",
              "mean     2185.517049\n",
              "std       370.014482\n",
              "min       231.169975\n",
              "25%      2054.040078\n",
              "50%      2243.486861\n",
              "75%      2422.116922\n",
              "max      2739.643728\n",
              "Name: Value, dtype: float64"
            ]
          },
          "metadata": {},
          "execution_count": 89
        }
      ],
      "source": [
        "df_y.Value.describe()"
      ]
    },
    {
      "cell_type": "code",
      "execution_count": 90,
      "metadata": {
        "id": "LDFiWnELjilf"
      },
      "outputs": [],
      "source": [
        "df_y2=df[\"coded\"]"
      ]
    },
    {
      "cell_type": "code",
      "execution_count": 90,
      "metadata": {
        "id": "fo6w0xCWjij9"
      },
      "outputs": [],
      "source": [
        ""
      ]
    },
    {
      "cell_type": "code",
      "execution_count": 91,
      "metadata": {
        "id": "KOBK9cMiBw2h"
      },
      "outputs": [],
      "source": [
        "def min_max_scaling(series):\n",
        "    return (series - series.min()) / (series.max() - series.min())"
      ]
    },
    {
      "cell_type": "code",
      "execution_count": 92,
      "metadata": {
        "colab": {
          "base_uri": "https://localhost:8080/"
        },
        "id": "TflhyEeDCnWk",
        "outputId": "04667cf8-073a-4456-dfad-714d47fb3127"
      },
      "outputs": [
        {
          "output_type": "execute_result",
          "data": {
            "text/plain": [
              "231.1699753"
            ]
          },
          "metadata": {},
          "execution_count": 92
        }
      ],
      "source": [
        "df_y.Value.min()"
      ]
    },
    {
      "cell_type": "code",
      "execution_count": 93,
      "metadata": {
        "id": "d-MBR9tevMFW"
      },
      "outputs": [],
      "source": [
        "df_y_scaled=min_max_scaling(df_y.Value)"
      ]
    },
    {
      "cell_type": "code",
      "execution_count": 94,
      "metadata": {
        "colab": {
          "base_uri": "https://localhost:8080/"
        },
        "id": "2vGSDdwGqneG",
        "outputId": "921dff94-418f-44dc-bf4f-63001a5731bf"
      },
      "outputs": [
        {
          "output_type": "execute_result",
          "data": {
            "text/plain": [
              "0    0.914317\n",
              "1    0.873469\n",
              "2    0.916239\n",
              "3    0.877815\n",
              "4    0.965302\n",
              "Name: Value, dtype: float64"
            ]
          },
          "metadata": {},
          "execution_count": 94
        }
      ],
      "source": [
        "df_y_scaled.head()\n"
      ]
    },
    {
      "cell_type": "code",
      "execution_count": 94,
      "metadata": {
        "id": "UwyEcsOxmiC1"
      },
      "outputs": [],
      "source": [
        ""
      ]
    },
    {
      "cell_type": "markdown",
      "metadata": {
        "id": "KzMOTKbN2G3R"
      },
      "source": [
        "##Mentés"
      ]
    },
    {
      "cell_type": "code",
      "execution_count": 95,
      "metadata": {
        "id": "t8zcn0gafG-W"
      },
      "outputs": [],
      "source": [
        "import pandas as pd"
      ]
    },
    {
      "cell_type": "code",
      "execution_count": 95,
      "metadata": {
        "id": "fsQObqfegZ7M"
      },
      "outputs": [],
      "source": [
        ""
      ]
    },
    {
      "cell_type": "code",
      "execution_count": 96,
      "metadata": {
        "id": "LshFLrqKMVuR"
      },
      "outputs": [],
      "source": [
        "#df_train=pd.read_csv(\"train_200.csv\")\n",
        "#df_test=pd.read_csv(\"test_200.csv\")\n"
      ]
    },
    {
      "cell_type": "code",
      "execution_count": 97,
      "metadata": {
        "id": "x3HJcQ35MWAn"
      },
      "outputs": [],
      "source": [
        "import pandas as pd"
      ]
    },
    {
      "cell_type": "markdown",
      "metadata": {
        "id": "XomafEhUMWAp"
      },
      "source": [
        "### adatbetöltés mondatok betöltése"
      ]
    },
    {
      "cell_type": "code",
      "execution_count": 97,
      "metadata": {
        "id": "9w60OcdVMWAp"
      },
      "outputs": [],
      "source": [
        ""
      ]
    },
    {
      "cell_type": "markdown",
      "metadata": {
        "id": "oqbe8kFxgJav"
      },
      "source": [
        "##Tanulás"
      ]
    },
    {
      "cell_type": "code",
      "execution_count": 98,
      "metadata": {
        "id": "tRf3_wt9Bekb"
      },
      "outputs": [],
      "source": [
        "__MAXWORD__=len(df_X.columns)\n"
      ]
    },
    {
      "cell_type": "code",
      "execution_count": 99,
      "metadata": {
        "colab": {
          "base_uri": "https://localhost:8080/"
        },
        "id": "1UwmBdEkijzv",
        "outputId": "4e1d6da8-3448-40e1-ba03-625e574b8019"
      },
      "outputs": [
        {
          "output_type": "execute_result",
          "data": {
            "text/plain": [
              "3384"
            ]
          },
          "metadata": {},
          "execution_count": 99
        }
      ],
      "source": [
        "__MAXWORD__"
      ]
    },
    {
      "cell_type": "code",
      "execution_count": 100,
      "metadata": {
        "id": "59MTn_Fs3SvW"
      },
      "outputs": [],
      "source": [
        "lstm_size=25   #25 90% körül teljesített \n",
        "max_input_length=__MAXWORD__\n",
        "\n",
        "\n",
        "n_out=1"
      ]
    },
    {
      "cell_type": "code",
      "execution_count": 100,
      "metadata": {
        "id": "bD2F2akc1TJ5"
      },
      "outputs": [],
      "source": [
        ""
      ]
    },
    {
      "cell_type": "code",
      "execution_count": 101,
      "metadata": {
        "colab": {
          "base_uri": "https://localhost:8080/"
        },
        "id": "BS2bWgXsz2zc",
        "outputId": "4423ff17-c773-4c84-9577-c9912844f9dc"
      },
      "outputs": [
        {
          "output_type": "execute_result",
          "data": {
            "text/plain": [
              "1"
            ]
          },
          "metadata": {},
          "execution_count": 101
        }
      ],
      "source": [
        "\n",
        "#print(lens1)\n",
        "n_out"
      ]
    },
    {
      "cell_type": "code",
      "execution_count": 102,
      "metadata": {
        "colab": {
          "base_uri": "https://localhost:8080/",
          "height": 300
        },
        "id": "VKzA6vcSCEm-",
        "outputId": "95d724af-aba5-43d6-a99a-4628688d5652"
      },
      "outputs": [
        {
          "output_type": "execute_result",
          "data": {
            "text/plain": [
              "             Value\n",
              "count   205.000000\n",
              "mean   2185.517049\n",
              "std     370.014482\n",
              "min     231.169975\n",
              "25%    2054.040078\n",
              "50%    2243.486861\n",
              "75%    2422.116922\n",
              "max    2739.643728"
            ],
            "text/html": [
              "\n",
              "  <div id=\"df-d0239271-9ce2-4812-8d90-db914af52fdf\">\n",
              "    <div class=\"colab-df-container\">\n",
              "      <div>\n",
              "<style scoped>\n",
              "    .dataframe tbody tr th:only-of-type {\n",
              "        vertical-align: middle;\n",
              "    }\n",
              "\n",
              "    .dataframe tbody tr th {\n",
              "        vertical-align: top;\n",
              "    }\n",
              "\n",
              "    .dataframe thead th {\n",
              "        text-align: right;\n",
              "    }\n",
              "</style>\n",
              "<table border=\"1\" class=\"dataframe\">\n",
              "  <thead>\n",
              "    <tr style=\"text-align: right;\">\n",
              "      <th></th>\n",
              "      <th>Value</th>\n",
              "    </tr>\n",
              "  </thead>\n",
              "  <tbody>\n",
              "    <tr>\n",
              "      <th>count</th>\n",
              "      <td>205.000000</td>\n",
              "    </tr>\n",
              "    <tr>\n",
              "      <th>mean</th>\n",
              "      <td>2185.517049</td>\n",
              "    </tr>\n",
              "    <tr>\n",
              "      <th>std</th>\n",
              "      <td>370.014482</td>\n",
              "    </tr>\n",
              "    <tr>\n",
              "      <th>min</th>\n",
              "      <td>231.169975</td>\n",
              "    </tr>\n",
              "    <tr>\n",
              "      <th>25%</th>\n",
              "      <td>2054.040078</td>\n",
              "    </tr>\n",
              "    <tr>\n",
              "      <th>50%</th>\n",
              "      <td>2243.486861</td>\n",
              "    </tr>\n",
              "    <tr>\n",
              "      <th>75%</th>\n",
              "      <td>2422.116922</td>\n",
              "    </tr>\n",
              "    <tr>\n",
              "      <th>max</th>\n",
              "      <td>2739.643728</td>\n",
              "    </tr>\n",
              "  </tbody>\n",
              "</table>\n",
              "</div>\n",
              "      <button class=\"colab-df-convert\" onclick=\"convertToInteractive('df-d0239271-9ce2-4812-8d90-db914af52fdf')\"\n",
              "              title=\"Convert this dataframe to an interactive table.\"\n",
              "              style=\"display:none;\">\n",
              "        \n",
              "  <svg xmlns=\"http://www.w3.org/2000/svg\" height=\"24px\"viewBox=\"0 0 24 24\"\n",
              "       width=\"24px\">\n",
              "    <path d=\"M0 0h24v24H0V0z\" fill=\"none\"/>\n",
              "    <path d=\"M18.56 5.44l.94 2.06.94-2.06 2.06-.94-2.06-.94-.94-2.06-.94 2.06-2.06.94zm-11 1L8.5 8.5l.94-2.06 2.06-.94-2.06-.94L8.5 2.5l-.94 2.06-2.06.94zm10 10l.94 2.06.94-2.06 2.06-.94-2.06-.94-.94-2.06-.94 2.06-2.06.94z\"/><path d=\"M17.41 7.96l-1.37-1.37c-.4-.4-.92-.59-1.43-.59-.52 0-1.04.2-1.43.59L10.3 9.45l-7.72 7.72c-.78.78-.78 2.05 0 2.83L4 21.41c.39.39.9.59 1.41.59.51 0 1.02-.2 1.41-.59l7.78-7.78 2.81-2.81c.8-.78.8-2.07 0-2.86zM5.41 20L4 18.59l7.72-7.72 1.47 1.35L5.41 20z\"/>\n",
              "  </svg>\n",
              "      </button>\n",
              "      \n",
              "  <style>\n",
              "    .colab-df-container {\n",
              "      display:flex;\n",
              "      flex-wrap:wrap;\n",
              "      gap: 12px;\n",
              "    }\n",
              "\n",
              "    .colab-df-convert {\n",
              "      background-color: #E8F0FE;\n",
              "      border: none;\n",
              "      border-radius: 50%;\n",
              "      cursor: pointer;\n",
              "      display: none;\n",
              "      fill: #1967D2;\n",
              "      height: 32px;\n",
              "      padding: 0 0 0 0;\n",
              "      width: 32px;\n",
              "    }\n",
              "\n",
              "    .colab-df-convert:hover {\n",
              "      background-color: #E2EBFA;\n",
              "      box-shadow: 0px 1px 2px rgba(60, 64, 67, 0.3), 0px 1px 3px 1px rgba(60, 64, 67, 0.15);\n",
              "      fill: #174EA6;\n",
              "    }\n",
              "\n",
              "    [theme=dark] .colab-df-convert {\n",
              "      background-color: #3B4455;\n",
              "      fill: #D2E3FC;\n",
              "    }\n",
              "\n",
              "    [theme=dark] .colab-df-convert:hover {\n",
              "      background-color: #434B5C;\n",
              "      box-shadow: 0px 1px 3px 1px rgba(0, 0, 0, 0.15);\n",
              "      filter: drop-shadow(0px 1px 2px rgba(0, 0, 0, 0.3));\n",
              "      fill: #FFFFFF;\n",
              "    }\n",
              "  </style>\n",
              "\n",
              "      <script>\n",
              "        const buttonEl =\n",
              "          document.querySelector('#df-d0239271-9ce2-4812-8d90-db914af52fdf button.colab-df-convert');\n",
              "        buttonEl.style.display =\n",
              "          google.colab.kernel.accessAllowed ? 'block' : 'none';\n",
              "\n",
              "        async function convertToInteractive(key) {\n",
              "          const element = document.querySelector('#df-d0239271-9ce2-4812-8d90-db914af52fdf');\n",
              "          const dataTable =\n",
              "            await google.colab.kernel.invokeFunction('convertToInteractive',\n",
              "                                                     [key], {});\n",
              "          if (!dataTable) return;\n",
              "\n",
              "          const docLinkHtml = 'Like what you see? Visit the ' +\n",
              "            '<a target=\"_blank\" href=https://colab.research.google.com/notebooks/data_table.ipynb>data table notebook</a>'\n",
              "            + ' to learn more about interactive tables.';\n",
              "          element.innerHTML = '';\n",
              "          dataTable['output_type'] = 'display_data';\n",
              "          await google.colab.output.renderOutput(dataTable, element);\n",
              "          const docLink = document.createElement('div');\n",
              "          docLink.innerHTML = docLinkHtml;\n",
              "          element.appendChild(docLink);\n",
              "        }\n",
              "      </script>\n",
              "    </div>\n",
              "  </div>\n",
              "  "
            ]
          },
          "metadata": {},
          "execution_count": 102
        }
      ],
      "source": [
        "df_y.describe()"
      ]
    },
    {
      "cell_type": "code",
      "execution_count": 103,
      "metadata": {
        "id": "B7UMww7mFieO"
      },
      "outputs": [],
      "source": [
        "bins_list=[i*20 for i in range(150)]"
      ]
    },
    {
      "cell_type": "code",
      "execution_count": 104,
      "metadata": {
        "colab": {
          "base_uri": "https://localhost:8080/",
          "height": 206
        },
        "id": "8u2USy7wPTrB",
        "outputId": "e000085c-208c-47a2-ea5c-598d9d93b80f"
      },
      "outputs": [
        {
          "output_type": "execute_result",
          "data": {
            "text/plain": [
              "         Value\n",
              "0  2524.709798\n",
              "1  2422.244040\n",
              "2  2529.530277\n",
              "3  2433.146990\n",
              "4  2652.605677"
            ],
            "text/html": [
              "\n",
              "  <div id=\"df-24acd601-77c9-4d5a-b08d-45efdee90450\">\n",
              "    <div class=\"colab-df-container\">\n",
              "      <div>\n",
              "<style scoped>\n",
              "    .dataframe tbody tr th:only-of-type {\n",
              "        vertical-align: middle;\n",
              "    }\n",
              "\n",
              "    .dataframe tbody tr th {\n",
              "        vertical-align: top;\n",
              "    }\n",
              "\n",
              "    .dataframe thead th {\n",
              "        text-align: right;\n",
              "    }\n",
              "</style>\n",
              "<table border=\"1\" class=\"dataframe\">\n",
              "  <thead>\n",
              "    <tr style=\"text-align: right;\">\n",
              "      <th></th>\n",
              "      <th>Value</th>\n",
              "    </tr>\n",
              "  </thead>\n",
              "  <tbody>\n",
              "    <tr>\n",
              "      <th>0</th>\n",
              "      <td>2524.709798</td>\n",
              "    </tr>\n",
              "    <tr>\n",
              "      <th>1</th>\n",
              "      <td>2422.244040</td>\n",
              "    </tr>\n",
              "    <tr>\n",
              "      <th>2</th>\n",
              "      <td>2529.530277</td>\n",
              "    </tr>\n",
              "    <tr>\n",
              "      <th>3</th>\n",
              "      <td>2433.146990</td>\n",
              "    </tr>\n",
              "    <tr>\n",
              "      <th>4</th>\n",
              "      <td>2652.605677</td>\n",
              "    </tr>\n",
              "  </tbody>\n",
              "</table>\n",
              "</div>\n",
              "      <button class=\"colab-df-convert\" onclick=\"convertToInteractive('df-24acd601-77c9-4d5a-b08d-45efdee90450')\"\n",
              "              title=\"Convert this dataframe to an interactive table.\"\n",
              "              style=\"display:none;\">\n",
              "        \n",
              "  <svg xmlns=\"http://www.w3.org/2000/svg\" height=\"24px\"viewBox=\"0 0 24 24\"\n",
              "       width=\"24px\">\n",
              "    <path d=\"M0 0h24v24H0V0z\" fill=\"none\"/>\n",
              "    <path d=\"M18.56 5.44l.94 2.06.94-2.06 2.06-.94-2.06-.94-.94-2.06-.94 2.06-2.06.94zm-11 1L8.5 8.5l.94-2.06 2.06-.94-2.06-.94L8.5 2.5l-.94 2.06-2.06.94zm10 10l.94 2.06.94-2.06 2.06-.94-2.06-.94-.94-2.06-.94 2.06-2.06.94z\"/><path d=\"M17.41 7.96l-1.37-1.37c-.4-.4-.92-.59-1.43-.59-.52 0-1.04.2-1.43.59L10.3 9.45l-7.72 7.72c-.78.78-.78 2.05 0 2.83L4 21.41c.39.39.9.59 1.41.59.51 0 1.02-.2 1.41-.59l7.78-7.78 2.81-2.81c.8-.78.8-2.07 0-2.86zM5.41 20L4 18.59l7.72-7.72 1.47 1.35L5.41 20z\"/>\n",
              "  </svg>\n",
              "      </button>\n",
              "      \n",
              "  <style>\n",
              "    .colab-df-container {\n",
              "      display:flex;\n",
              "      flex-wrap:wrap;\n",
              "      gap: 12px;\n",
              "    }\n",
              "\n",
              "    .colab-df-convert {\n",
              "      background-color: #E8F0FE;\n",
              "      border: none;\n",
              "      border-radius: 50%;\n",
              "      cursor: pointer;\n",
              "      display: none;\n",
              "      fill: #1967D2;\n",
              "      height: 32px;\n",
              "      padding: 0 0 0 0;\n",
              "      width: 32px;\n",
              "    }\n",
              "\n",
              "    .colab-df-convert:hover {\n",
              "      background-color: #E2EBFA;\n",
              "      box-shadow: 0px 1px 2px rgba(60, 64, 67, 0.3), 0px 1px 3px 1px rgba(60, 64, 67, 0.15);\n",
              "      fill: #174EA6;\n",
              "    }\n",
              "\n",
              "    [theme=dark] .colab-df-convert {\n",
              "      background-color: #3B4455;\n",
              "      fill: #D2E3FC;\n",
              "    }\n",
              "\n",
              "    [theme=dark] .colab-df-convert:hover {\n",
              "      background-color: #434B5C;\n",
              "      box-shadow: 0px 1px 3px 1px rgba(0, 0, 0, 0.15);\n",
              "      filter: drop-shadow(0px 1px 2px rgba(0, 0, 0, 0.3));\n",
              "      fill: #FFFFFF;\n",
              "    }\n",
              "  </style>\n",
              "\n",
              "      <script>\n",
              "        const buttonEl =\n",
              "          document.querySelector('#df-24acd601-77c9-4d5a-b08d-45efdee90450 button.colab-df-convert');\n",
              "        buttonEl.style.display =\n",
              "          google.colab.kernel.accessAllowed ? 'block' : 'none';\n",
              "\n",
              "        async function convertToInteractive(key) {\n",
              "          const element = document.querySelector('#df-24acd601-77c9-4d5a-b08d-45efdee90450');\n",
              "          const dataTable =\n",
              "            await google.colab.kernel.invokeFunction('convertToInteractive',\n",
              "                                                     [key], {});\n",
              "          if (!dataTable) return;\n",
              "\n",
              "          const docLinkHtml = 'Like what you see? Visit the ' +\n",
              "            '<a target=\"_blank\" href=https://colab.research.google.com/notebooks/data_table.ipynb>data table notebook</a>'\n",
              "            + ' to learn more about interactive tables.';\n",
              "          element.innerHTML = '';\n",
              "          dataTable['output_type'] = 'display_data';\n",
              "          await google.colab.output.renderOutput(dataTable, element);\n",
              "          const docLink = document.createElement('div');\n",
              "          docLink.innerHTML = docLinkHtml;\n",
              "          element.appendChild(docLink);\n",
              "        }\n",
              "      </script>\n",
              "    </div>\n",
              "  </div>\n",
              "  "
            ]
          },
          "metadata": {},
          "execution_count": 104
        }
      ],
      "source": [
        "df_y.head()"
      ]
    },
    {
      "cell_type": "code",
      "execution_count": 105,
      "metadata": {
        "id": "dXmx6l3eFicN"
      },
      "outputs": [],
      "source": [
        "to_big=df_y.Value[df_y.Value>3000].index.to_list()"
      ]
    },
    {
      "cell_type": "code",
      "execution_count": 106,
      "metadata": {
        "colab": {
          "base_uri": "https://localhost:8080/"
        },
        "id": "QGwptS6DR5d1",
        "outputId": "b8615c97-a1f9-4e55-9648-40ac5852de48"
      },
      "outputs": [
        {
          "output_type": "execute_result",
          "data": {
            "text/plain": [
              "[]"
            ]
          },
          "metadata": {},
          "execution_count": 106
        }
      ],
      "source": [
        "to_big"
      ]
    },
    {
      "cell_type": "code",
      "execution_count": 107,
      "metadata": {
        "colab": {
          "base_uri": "https://localhost:8080/",
          "height": 316
        },
        "id": "cVrXRp4UE5Qk",
        "outputId": "035d736e-c042-47ed-8dd9-02028c7b4f03"
      },
      "outputs": [
        {
          "output_type": "execute_result",
          "data": {
            "text/plain": [
              "array([[<matplotlib.axes._subplots.AxesSubplot object at 0x7f551e6316d0>]],\n",
              "      dtype=object)"
            ]
          },
          "metadata": {},
          "execution_count": 107
        },
        {
          "output_type": "display_data",
          "data": {
            "text/plain": [
              "<Figure size 432x288 with 1 Axes>"
            ],
            "image/png": "[encoded data removed]"
          },
          "metadata": {
            "needs_background": "light"
          }
        }
      ],
      "source": [
        "df_y.hist(bins=bins_list)"
      ]
    },
    {
      "cell_type": "code",
      "execution_count": 108,
      "metadata": {
        "id": "JMwhuw-yQRZy"
      },
      "outputs": [],
      "source": [
        "for i in to_big:\n",
        "    df_X=df_X.drop(index=i)\n",
        "    df_y=df_y.drop(index=i)"
      ]
    },
    {
      "cell_type": "code",
      "execution_count": 109,
      "metadata": {
        "id": "9XgbsvsWRhX9"
      },
      "outputs": [],
      "source": [
        "max_y=df_y.Value.max()\n",
        "min_y=df_y.Value.min()\n"
      ]
    },
    {
      "cell_type": "code",
      "execution_count": 110,
      "metadata": {
        "colab": {
          "base_uri": "https://localhost:8080/"
        },
        "id": "3iyuQlwKRw72",
        "outputId": "02318a9b-4091-4408-beb8-e1fecedccfc6"
      },
      "outputs": [
        {
          "output_type": "execute_result",
          "data": {
            "text/plain": [
              "(2739.643728, 231.1699753)"
            ]
          },
          "metadata": {},
          "execution_count": 110
        }
      ],
      "source": [
        "(max_y,min_y)"
      ]
    },
    {
      "cell_type": "code",
      "execution_count": 111,
      "metadata": {
        "id": "V3ujsNSQTYe4"
      },
      "outputs": [],
      "source": [
        "from sklearn import preprocessing\n",
        "min_max_scaler = preprocessing.MinMaxScaler()\n",
        "df_y_minmax=min_max_scaler.fit_transform(pd.array(df_y.Value).reshape(-1,1))"
      ]
    },
    {
      "cell_type": "code",
      "execution_count": 111,
      "metadata": {
        "id": "N2AHvh8HU0JU"
      },
      "outputs": [],
      "source": [
        ""
      ]
    },
    {
      "cell_type": "code",
      "execution_count": 112,
      "metadata": {
        "id": "q019xqnl-vmH"
      },
      "outputs": [],
      "source": [
        "df_X_minmax=df_X/100"
      ]
    },
    {
      "cell_type": "code",
      "execution_count": 113,
      "metadata": {
        "id": "C01xxvPgJ1wP"
      },
      "outputs": [],
      "source": [
        "# start learning"
      ]
    },
    {
      "cell_type": "code",
      "execution_count": 114,
      "metadata": {
        "id": "26U6UXRhmSUE"
      },
      "outputs": [],
      "source": [
        "import tensorflow as tf\n",
        "from tensorflow.keras.callbacks import ModelCheckpoint\n",
        "model_name=\"HPLC\"\n",
        "def scheduler(epoch, lr):\n",
        "       #return 0.00003\n",
        "\n",
        "    '''    \n",
        "    maxx=0.00001\n",
        "    minn=0.001\n",
        "    frekvency=3\n",
        "    o=(epoch % frekvency)/frekvency * (maxx-minn)+minn\n",
        "    return o\n",
        "    '''\n",
        "        \n",
        "    if epoch<190:\n",
        "        return 0.005  \n",
        "    elif epoch <80:\n",
        "        return 0.0001\n",
        "    elif epoch <85:\n",
        "        return 0.0005\n",
        "    elif epoch <190:\n",
        "        return 0.0001\n",
        "    \n",
        "    \n",
        "    return 0.00001\n",
        "    \n",
        "callback_LR = tf.keras.callbacks.LearningRateScheduler(scheduler)\n",
        "\n",
        "callbacks = [callback_LR,\n",
        "            \n",
        "            #savemodela,\n",
        "            ModelCheckpoint(filepath=model_name+\"_loss_{loss:.4f}_acc_{binary_accuracy:.4f}_val_acc_{val_binary_accuracy:.4f}.hdf5\", monitor='val_binary_accuracy',\n",
        "                            verbose=1, save_best_only=False, mode='max')]"
      ]
    },
    {
      "cell_type": "code",
      "execution_count": 134,
      "metadata": {
        "id": "uvvPuVNSxNa7"
      },
      "outputs": [],
      "source": [
        "# Importáld a megfelelő rétegeket\n",
        "from tensorflow.keras.layers import Input,Dense,Embedding,LSTM,TimeDistributed, Flatten, Bidirectional, Conv1D, MaxPooling1D, Dropout\n",
        "from tensorflow.keras.models import Model\n",
        "from tensorflow.keras.optimizers import Adadelta,Adam,SGD,Adamax,RMSprop\n",
        "from tensorflow.keras.losses import sparse_categorical_crossentropy,categorical_crossentropy, mean_squared_error, mean_absolute_error, binary_crossentropy\n",
        "from tensorflow.keras import backend as K\n",
        "\n",
        "K.clear_session\n",
        "x= Input(shape=(max_input_length,1,))\n",
        "\n",
        "#conv1=Conv1D(filters=8, kernel_size=2, padding='same', activation='relu')(embedded_x)\n",
        "#MP=MaxPooling1D(pool_size=1)(conv1)\n",
        "lstm_output= Bidirectional(LSTM(units=lstm_size*3,return_sequences=True,dropout=0.1))(x)  #,return_state=True\n",
        "lstm_output= Bidirectional(LSTM(units=lstm_size*2,return_sequences=True,dropout=0.1))(lstm_output)\n",
        "lstm_output= Bidirectional(LSTM(units=lstm_size,return_sequences=True,dropout=0.1))(lstm_output)\n",
        "\n",
        "\n",
        "lstm_output=Dropout(0.1)(lstm_output)\n",
        "\n",
        "Dense_out=Flatten()(lstm_output)\n",
        "#Dense_out= Dense(50, activation=\"sigmoid\",kernel_initializer=\"HeNormal\")(Dense_out)\n",
        "\n",
        "predictions= Dense(n_out, activation=\"sigmoid\",kernel_initializer=\"HeNormal\")(Dense_out)\n",
        "model=Model(inputs=x, outputs=predictions)\n",
        "\n"
      ]
    },
    {
      "cell_type": "code",
      "source": [
        ""
      ],
      "metadata": {
        "id": "OPg96E_EHxew"
      },
      "execution_count": 134,
      "outputs": []
    },
    {
      "cell_type": "code",
      "source": [
        ""
      ],
      "metadata": {
        "id": "rK1gsmAC8Wm5"
      },
      "execution_count": 134,
      "outputs": []
    },
    {
      "cell_type": "markdown",
      "metadata": {
        "id": "J4e2OlSbPTxD"
      },
      "source": [
        ""
      ]
    },
    {
      "cell_type": "markdown",
      "metadata": {
        "id": "45ibq_LGCprS"
      },
      "source": [
        ""
      ]
    },
    {
      "cell_type": "markdown",
      "metadata": {
        "id": "cSRx_qeySr-3"
      },
      "source": [
        ""
      ]
    },
    {
      "cell_type": "code",
      "execution_count": 135,
      "metadata": {
        "colab": {
          "base_uri": "https://localhost:8080/"
        },
        "id": "NQpADS6gMHmd",
        "outputId": "e600a218-5b96-4826-a489-55b3d690c841"
      },
      "outputs": [
        {
          "output_type": "stream",
          "name": "stdout",
          "text": [
            "Model: \"model_5\"\n",
            "_________________________________________________________________\n",
            " Layer (type)                Output Shape              Param #   \n",
            "=================================================================\n",
            " input_7 (InputLayer)        [(None, 3384, 1)]         0         \n",
            "                                                                 \n",
            " bidirectional_15 (Bidirecti  (None, 3384, 150)        46200     \n",
            " onal)                                                           \n",
            "                                                                 \n",
            " bidirectional_16 (Bidirecti  (None, 3384, 100)        80400     \n",
            " onal)                                                           \n",
            "                                                                 \n",
            " bidirectional_17 (Bidirecti  (None, 3384, 50)         25200     \n",
            " onal)                                                           \n",
            "                                                                 \n",
            " dropout_5 (Dropout)         (None, 3384, 50)          0         \n",
            "                                                                 \n",
            " flatten_5 (Flatten)         (None, 169200)            0         \n",
            "                                                                 \n",
            " dense_5 (Dense)             (None, 1)                 169201    \n",
            "                                                                 \n",
            "=================================================================\n",
            "Total params: 321,001\n",
            "Trainable params: 321,001\n",
            "Non-trainable params: 0\n",
            "_________________________________________________________________\n"
          ]
        }
      ],
      "source": [
        "model.summary()"
      ]
    },
    {
      "cell_type": "code",
      "execution_count": 136,
      "metadata": {
        "id": "SzJYM8QeJyvI"
      },
      "outputs": [],
      "source": [
        "import numpy as np"
      ]
    },
    {
      "cell_type": "code",
      "execution_count": 137,
      "metadata": {
        "id": "MP22GO0AoZkD"
      },
      "outputs": [],
      "source": [
        "!rm  HPLC*"
      ]
    },
    {
      "cell_type": "code",
      "execution_count": 137,
      "metadata": {
        "id": "JssV4hq6oZih"
      },
      "outputs": [],
      "source": [
        ""
      ]
    },
    {
      "cell_type": "code",
      "execution_count": 138,
      "metadata": {
        "id": "ACrVf-TbJYDe"
      },
      "outputs": [],
      "source": [
        "#train_x = np.asarray(xtrain)\n",
        "#train_y = np.asarray(ytrain)"
      ]
    },
    {
      "cell_type": "code",
      "execution_count": 139,
      "metadata": {
        "colab": {
          "base_uri": "https://localhost:8080/"
        },
        "id": "Lj_fAh_eKaSl",
        "outputId": "9aeed632-64ea-492f-c7d3-1f6a0bd59f5c"
      },
      "outputs": [
        {
          "output_type": "execute_result",
          "data": {
            "text/plain": [
              "Index(['36.6633', '36.6667', '36.67', '36.6733', '36.6767', '36.68', '36.6833',\n",
              "       '36.6867', '36.69', '36.6933',\n",
              "       ...\n",
              "       '47.91', '47.9133', '47.9167', '47.92', '47.9233', '47.9267', '47.93',\n",
              "       '47.9333', '47.9367', '47.94'],\n",
              "      dtype='object', length=3384)"
            ]
          },
          "metadata": {},
          "execution_count": 139
        }
      ],
      "source": [
        "df_X.columns"
      ]
    },
    {
      "cell_type": "code",
      "execution_count": 140,
      "metadata": {
        "colab": {
          "base_uri": "https://localhost:8080/"
        },
        "id": "zuXvaxZE-rq-",
        "outputId": "9b2ca166-b866-4add-ffaa-7c45ffc6cc4d"
      },
      "outputs": [
        {
          "output_type": "execute_result",
          "data": {
            "text/plain": [
              "0      0\n",
              "1      0\n",
              "2      0\n",
              "3      0\n",
              "4      0\n",
              "      ..\n",
              "200    0\n",
              "201    0\n",
              "202    0\n",
              "203    0\n",
              "204    0\n",
              "Name: coded, Length: 205, dtype: int64"
            ]
          },
          "metadata": {},
          "execution_count": 140
        }
      ],
      "source": [
        "df_y2"
      ]
    },
    {
      "cell_type": "code",
      "execution_count": 140,
      "metadata": {
        "id": "jcUtrkpY_Ny-"
      },
      "outputs": [],
      "source": [
        ""
      ]
    },
    {
      "cell_type": "code",
      "execution_count": 141,
      "metadata": {
        "id": "RWIM4DP36S2L"
      },
      "outputs": [],
      "source": [
        "# Loss \n",
        "\n",
        "loss =binary_crossentropy  #mean_absolute_error #categorical_crossentropy \n",
        "# Optimizer\n",
        "optimizer = Adam(learning_rate=0.1) #Ízlés szerint...\n",
        " \n",
        "# Compilation\n",
        "#############\n",
        "\n",
        "model.compile(optimizer=optimizer,loss=loss,metrics=[\"binary_accuracy\"])"
      ]
    },
    {
      "cell_type": "code",
      "execution_count": 142,
      "metadata": {
        "id": "FK7a0SH9oYM3"
      },
      "outputs": [],
      "source": [
        "def save_model():\n",
        "    _MODEL_TYPE_=\"lstm_hplc\"\n",
        "\n",
        "    model_name=_MODEL_TYPE_.upper()\n",
        "    callbacks = [callback_LR,\n",
        "            \n",
        "            #savemodela,\n",
        "            ModelCheckpoint(filepath=model_name+\"_LOSS_{loss:.5f}_VLOSS_{val_loss:.5f}_ACC_{accuracy:.4f}_VACC_{val_accuracy:.4f}_.hdf5\", monitor='val_binary_accuracy',\n",
        "                            verbose=1, save_best_only=True, mode='max')]"
      ]
    },
    {
      "cell_type": "code",
      "execution_count": 143,
      "metadata": {
        "colab": {
          "base_uri": "https://localhost:8080/",
          "height": 235
        },
        "id": "ONvuYqbc-8qV",
        "outputId": "be4e760d-8f9a-4911-b390-12866e08e76e"
      },
      "outputs": [
        {
          "output_type": "execute_result",
          "data": {
            "text/plain": [
              "   36.6633  36.6667  36.67  36.6733  36.6767  36.68  36.6833  36.6867  36.69  \\\n",
              "0      0.0      0.0    0.0      0.0      0.0    0.0      0.0      0.0    0.0   \n",
              "1      0.0      0.0    0.0      0.0      0.0    0.0      0.0      0.0    0.0   \n",
              "2      0.0      0.0    0.0      0.0      0.0    0.0      0.0      0.0    0.0   \n",
              "3      0.0      0.0    0.0      0.0      0.0    0.0      0.0      0.0    0.0   \n",
              "4      0.0      0.0    0.0      0.0      0.0    0.0      0.0      0.0    0.0   \n",
              "\n",
              "   36.6933  ...  47.91  47.9133  47.9167  47.92  47.9233  47.9267  47.93  \\\n",
              "0      0.0  ...    0.0      0.0      0.0    0.0      0.0      0.0    0.0   \n",
              "1      0.0  ...    0.0      0.0      0.0    0.0      0.0      0.0    0.0   \n",
              "2      0.0  ...    0.0      0.0      0.0    0.0      0.0      0.0    0.0   \n",
              "3      0.0  ...    0.0      0.0      0.0    0.0      0.0      0.0    0.0   \n",
              "4      0.0  ...    0.0      0.0      0.0    0.0      0.0      0.0    0.0   \n",
              "\n",
              "   47.9333  47.9367  47.94  \n",
              "0      0.0      0.0    0.0  \n",
              "1      0.0      0.0    0.0  \n",
              "2      0.0      0.0    0.0  \n",
              "3      0.0      0.0    0.0  \n",
              "4      0.0      0.0    0.0  \n",
              "\n",
              "[5 rows x 3384 columns]"
            ],
            "text/html": [
              "\n",
              "  <div id=\"df-3f810041-7877-4d57-a9b3-0ea3db5bf084\">\n",
              "    <div class=\"colab-df-container\">\n",
              "      <div>\n",
              "<style scoped>\n",
              "    .dataframe tbody tr th:only-of-type {\n",
              "        vertical-align: middle;\n",
              "    }\n",
              "\n",
              "    .dataframe tbody tr th {\n",
              "        vertical-align: top;\n",
              "    }\n",
              "\n",
              "    .dataframe thead th {\n",
              "        text-align: right;\n",
              "    }\n",
              "</style>\n",
              "<table border=\"1\" class=\"dataframe\">\n",
              "  <thead>\n",
              "    <tr style=\"text-align: right;\">\n",
              "      <th></th>\n",
              "      <th>36.6633</th>\n",
              "      <th>36.6667</th>\n",
              "      <th>36.67</th>\n",
              "      <th>36.6733</th>\n",
              "      <th>36.6767</th>\n",
              "      <th>36.68</th>\n",
              "      <th>36.6833</th>\n",
              "      <th>36.6867</th>\n",
              "      <th>36.69</th>\n",
              "      <th>36.6933</th>\n",
              "      <th>...</th>\n",
              "      <th>47.91</th>\n",
              "      <th>47.9133</th>\n",
              "      <th>47.9167</th>\n",
              "      <th>47.92</th>\n",
              "      <th>47.9233</th>\n",
              "      <th>47.9267</th>\n",
              "      <th>47.93</th>\n",
              "      <th>47.9333</th>\n",
              "      <th>47.9367</th>\n",
              "      <th>47.94</th>\n",
              "    </tr>\n",
              "  </thead>\n",
              "  <tbody>\n",
              "    <tr>\n",
              "      <th>0</th>\n",
              "      <td>0.0</td>\n",
              "      <td>0.0</td>\n",
              "      <td>0.0</td>\n",
              "      <td>0.0</td>\n",
              "      <td>0.0</td>\n",
              "      <td>0.0</td>\n",
              "      <td>0.0</td>\n",
              "      <td>0.0</td>\n",
              "      <td>0.0</td>\n",
              "      <td>0.0</td>\n",
              "      <td>...</td>\n",
              "      <td>0.0</td>\n",
              "      <td>0.0</td>\n",
              "      <td>0.0</td>\n",
              "      <td>0.0</td>\n",
              "      <td>0.0</td>\n",
              "      <td>0.0</td>\n",
              "      <td>0.0</td>\n",
              "      <td>0.0</td>\n",
              "      <td>0.0</td>\n",
              "      <td>0.0</td>\n",
              "    </tr>\n",
              "    <tr>\n",
              "      <th>1</th>\n",
              "      <td>0.0</td>\n",
              "      <td>0.0</td>\n",
              "      <td>0.0</td>\n",
              "      <td>0.0</td>\n",
              "      <td>0.0</td>\n",
              "      <td>0.0</td>\n",
              "      <td>0.0</td>\n",
              "      <td>0.0</td>\n",
              "      <td>0.0</td>\n",
              "      <td>0.0</td>\n",
              "      <td>...</td>\n",
              "      <td>0.0</td>\n",
              "      <td>0.0</td>\n",
              "      <td>0.0</td>\n",
              "      <td>0.0</td>\n",
              "      <td>0.0</td>\n",
              "      <td>0.0</td>\n",
              "      <td>0.0</td>\n",
              "      <td>0.0</td>\n",
              "      <td>0.0</td>\n",
              "      <td>0.0</td>\n",
              "    </tr>\n",
              "    <tr>\n",
              "      <th>2</th>\n",
              "      <td>0.0</td>\n",
              "      <td>0.0</td>\n",
              "      <td>0.0</td>\n",
              "      <td>0.0</td>\n",
              "      <td>0.0</td>\n",
              "      <td>0.0</td>\n",
              "      <td>0.0</td>\n",
              "      <td>0.0</td>\n",
              "      <td>0.0</td>\n",
              "      <td>0.0</td>\n",
              "      <td>...</td>\n",
              "      <td>0.0</td>\n",
              "      <td>0.0</td>\n",
              "      <td>0.0</td>\n",
              "      <td>0.0</td>\n",
              "      <td>0.0</td>\n",
              "      <td>0.0</td>\n",
              "      <td>0.0</td>\n",
              "      <td>0.0</td>\n",
              "      <td>0.0</td>\n",
              "      <td>0.0</td>\n",
              "    </tr>\n",
              "    <tr>\n",
              "      <th>3</th>\n",
              "      <td>0.0</td>\n",
              "      <td>0.0</td>\n",
              "      <td>0.0</td>\n",
              "      <td>0.0</td>\n",
              "      <td>0.0</td>\n",
              "      <td>0.0</td>\n",
              "      <td>0.0</td>\n",
              "      <td>0.0</td>\n",
              "      <td>0.0</td>\n",
              "      <td>0.0</td>\n",
              "      <td>...</td>\n",
              "      <td>0.0</td>\n",
              "      <td>0.0</td>\n",
              "      <td>0.0</td>\n",
              "      <td>0.0</td>\n",
              "      <td>0.0</td>\n",
              "      <td>0.0</td>\n",
              "      <td>0.0</td>\n",
              "      <td>0.0</td>\n",
              "      <td>0.0</td>\n",
              "      <td>0.0</td>\n",
              "    </tr>\n",
              "    <tr>\n",
              "      <th>4</th>\n",
              "      <td>0.0</td>\n",
              "      <td>0.0</td>\n",
              "      <td>0.0</td>\n",
              "      <td>0.0</td>\n",
              "      <td>0.0</td>\n",
              "      <td>0.0</td>\n",
              "      <td>0.0</td>\n",
              "      <td>0.0</td>\n",
              "      <td>0.0</td>\n",
              "      <td>0.0</td>\n",
              "      <td>...</td>\n",
              "      <td>0.0</td>\n",
              "      <td>0.0</td>\n",
              "      <td>0.0</td>\n",
              "      <td>0.0</td>\n",
              "      <td>0.0</td>\n",
              "      <td>0.0</td>\n",
              "      <td>0.0</td>\n",
              "      <td>0.0</td>\n",
              "      <td>0.0</td>\n",
              "      <td>0.0</td>\n",
              "    </tr>\n",
              "  </tbody>\n",
              "</table>\n",
              "<p>5 rows × 3384 columns</p>\n",
              "</div>\n",
              "      <button class=\"colab-df-convert\" onclick=\"convertToInteractive('df-3f810041-7877-4d57-a9b3-0ea3db5bf084')\"\n",
              "              title=\"Convert this dataframe to an interactive table.\"\n",
              "              style=\"display:none;\">\n",
              "        \n",
              "  <svg xmlns=\"http://www.w3.org/2000/svg\" height=\"24px\"viewBox=\"0 0 24 24\"\n",
              "       width=\"24px\">\n",
              "    <path d=\"M0 0h24v24H0V0z\" fill=\"none\"/>\n",
              "    <path d=\"M18.56 5.44l.94 2.06.94-2.06 2.06-.94-2.06-.94-.94-2.06-.94 2.06-2.06.94zm-11 1L8.5 8.5l.94-2.06 2.06-.94-2.06-.94L8.5 2.5l-.94 2.06-2.06.94zm10 10l.94 2.06.94-2.06 2.06-.94-2.06-.94-.94-2.06-.94 2.06-2.06.94z\"/><path d=\"M17.41 7.96l-1.37-1.37c-.4-.4-.92-.59-1.43-.59-.52 0-1.04.2-1.43.59L10.3 9.45l-7.72 7.72c-.78.78-.78 2.05 0 2.83L4 21.41c.39.39.9.59 1.41.59.51 0 1.02-.2 1.41-.59l7.78-7.78 2.81-2.81c.8-.78.8-2.07 0-2.86zM5.41 20L4 18.59l7.72-7.72 1.47 1.35L5.41 20z\"/>\n",
              "  </svg>\n",
              "      </button>\n",
              "      \n",
              "  <style>\n",
              "    .colab-df-container {\n",
              "      display:flex;\n",
              "      flex-wrap:wrap;\n",
              "      gap: 12px;\n",
              "    }\n",
              "\n",
              "    .colab-df-convert {\n",
              "      background-color: #E8F0FE;\n",
              "      border: none;\n",
              "      border-radius: 50%;\n",
              "      cursor: pointer;\n",
              "      display: none;\n",
              "      fill: #1967D2;\n",
              "      height: 32px;\n",
              "      padding: 0 0 0 0;\n",
              "      width: 32px;\n",
              "    }\n",
              "\n",
              "    .colab-df-convert:hover {\n",
              "      background-color: #E2EBFA;\n",
              "      box-shadow: 0px 1px 2px rgba(60, 64, 67, 0.3), 0px 1px 3px 1px rgba(60, 64, 67, 0.15);\n",
              "      fill: #174EA6;\n",
              "    }\n",
              "\n",
              "    [theme=dark] .colab-df-convert {\n",
              "      background-color: #3B4455;\n",
              "      fill: #D2E3FC;\n",
              "    }\n",
              "\n",
              "    [theme=dark] .colab-df-convert:hover {\n",
              "      background-color: #434B5C;\n",
              "      box-shadow: 0px 1px 3px 1px rgba(0, 0, 0, 0.15);\n",
              "      filter: drop-shadow(0px 1px 2px rgba(0, 0, 0, 0.3));\n",
              "      fill: #FFFFFF;\n",
              "    }\n",
              "  </style>\n",
              "\n",
              "      <script>\n",
              "        const buttonEl =\n",
              "          document.querySelector('#df-3f810041-7877-4d57-a9b3-0ea3db5bf084 button.colab-df-convert');\n",
              "        buttonEl.style.display =\n",
              "          google.colab.kernel.accessAllowed ? 'block' : 'none';\n",
              "\n",
              "        async function convertToInteractive(key) {\n",
              "          const element = document.querySelector('#df-3f810041-7877-4d57-a9b3-0ea3db5bf084');\n",
              "          const dataTable =\n",
              "            await google.colab.kernel.invokeFunction('convertToInteractive',\n",
              "                                                     [key], {});\n",
              "          if (!dataTable) return;\n",
              "\n",
              "          const docLinkHtml = 'Like what you see? Visit the ' +\n",
              "            '<a target=\"_blank\" href=https://colab.research.google.com/notebooks/data_table.ipynb>data table notebook</a>'\n",
              "            + ' to learn more about interactive tables.';\n",
              "          element.innerHTML = '';\n",
              "          dataTable['output_type'] = 'display_data';\n",
              "          await google.colab.output.renderOutput(dataTable, element);\n",
              "          const docLink = document.createElement('div');\n",
              "          docLink.innerHTML = docLinkHtml;\n",
              "          element.appendChild(docLink);\n",
              "        }\n",
              "      </script>\n",
              "    </div>\n",
              "  </div>\n",
              "  "
            ]
          },
          "metadata": {},
          "execution_count": 143
        }
      ],
      "source": [
        "df_X_minmax.head()"
      ]
    },
    {
      "cell_type": "code",
      "execution_count": 144,
      "metadata": {
        "id": "wI1SqakKjNO6"
      },
      "outputs": [],
      "source": [
        "#model.load_weights(\"XXXX_0.06212.hdf5\")"
      ]
    },
    {
      "cell_type": "code",
      "source": [
        "df_y2[188]=0.0"
      ],
      "metadata": {
        "colab": {
          "base_uri": "https://localhost:8080/"
        },
        "id": "2yQ8xl2wAVOV",
        "outputId": "5c67534d-deee-44f1-9130-2928c12a5674"
      },
      "execution_count": 145,
      "outputs": [
        {
          "output_type": "stream",
          "name": "stderr",
          "text": [
            "/usr/local/lib/python3.7/dist-packages/ipykernel_launcher.py:1: SettingWithCopyWarning: \n",
            "A value is trying to be set on a copy of a slice from a DataFrame\n",
            "\n",
            "See the caveats in the documentation: https://pandas.pydata.org/pandas-docs/stable/user_guide/indexing.html#returning-a-view-versus-a-copy\n",
            "  \"\"\"Entry point for launching an IPython kernel.\n"
          ]
        }
      ]
    },
    {
      "cell_type": "code",
      "source": [
        "df_y2[188]"
      ],
      "metadata": {
        "colab": {
          "base_uri": "https://localhost:8080/"
        },
        "id": "TuuuxuvLAozz",
        "outputId": "4eb7cb22-5bfc-420e-b477-0412c4f6dd75"
      },
      "execution_count": 146,
      "outputs": [
        {
          "output_type": "execute_result",
          "data": {
            "text/plain": [
              "0"
            ]
          },
          "metadata": {},
          "execution_count": 146
        }
      ]
    },
    {
      "cell_type": "code",
      "source": [
        "_MODE_=\"Tanul\""
      ],
      "metadata": {
        "id": "cN_KulIeAoyW"
      },
      "execution_count": 147,
      "outputs": []
    },
    {
      "cell_type": "markdown",
      "source": [
        ""
      ],
      "metadata": {
        "id": "lDs1Ey1HAZnw"
      }
    },
    {
      "cell_type": "code",
      "execution_count": null,
      "metadata": {
        "id": "op-I834SFpUX",
        "colab": {
          "base_uri": "https://localhost:8080/"
        },
        "outputId": "2c9cb964-b20a-468d-d0e5-392c854eefe2"
      },
      "outputs": [
        {
          "output_type": "stream",
          "name": "stdout",
          "text": [
            "Epoch 1/190\n",
            "16/16 [==============================] - ETA: 0s - loss: 0.5950 - binary_accuracy: 0.7228 \n",
            "Epoch 1: saving model to HPLC_loss_0.5950_acc_0.7228_val_acc_0.7619.hdf5\n",
            "16/16 [==============================] - 187s 11s/step - loss: 0.5950 - binary_accuracy: 0.7228 - val_loss: 0.5944 - val_binary_accuracy: 0.7619 - lr: 5.0000e-04\n",
            "Epoch 2/190\n",
            "16/16 [==============================] - ETA: 0s - loss: 0.5543 - binary_accuracy: 0.7989 \n",
            "Epoch 2: saving model to HPLC_loss_0.5543_acc_0.7989_val_acc_0.7619.hdf5\n",
            "16/16 [==============================] - 171s 11s/step - loss: 0.5543 - binary_accuracy: 0.7989 - val_loss: 0.5758 - val_binary_accuracy: 0.7619 - lr: 5.0000e-04\n",
            "Epoch 3/190\n",
            "16/16 [==============================] - ETA: 0s - loss: 0.4977 - binary_accuracy: 0.8043 \n",
            "Epoch 3: saving model to HPLC_loss_0.4977_acc_0.8043_val_acc_0.7619.hdf5\n",
            "16/16 [==============================] - 173s 11s/step - loss: 0.4977 - binary_accuracy: 0.8043 - val_loss: 0.5871 - val_binary_accuracy: 0.7619 - lr: 5.0000e-04\n",
            "Epoch 4/190\n",
            "16/16 [==============================] - ETA: 0s - loss: 0.5128 - binary_accuracy: 0.7935 \n",
            "Epoch 4: saving model to HPLC_loss_0.5128_acc_0.7935_val_acc_0.7619.hdf5\n",
            "16/16 [==============================] - 171s 11s/step - loss: 0.5128 - binary_accuracy: 0.7935 - val_loss: 0.6088 - val_binary_accuracy: 0.7619 - lr: 5.0000e-04\n",
            "Epoch 5/190\n",
            "16/16 [==============================] - ETA: 0s - loss: 0.5044 - binary_accuracy: 0.8043 \n",
            "Epoch 5: saving model to HPLC_loss_0.5044_acc_0.8043_val_acc_0.7619.hdf5\n",
            "16/16 [==============================] - 172s 11s/step - loss: 0.5044 - binary_accuracy: 0.8043 - val_loss: 0.5893 - val_binary_accuracy: 0.7619 - lr: 5.0000e-04\n",
            "Epoch 6/190\n",
            "16/16 [==============================] - ETA: 0s - loss: 0.4835 - binary_accuracy: 0.7880 \n",
            "Epoch 6: saving model to HPLC_loss_0.4835_acc_0.7880_val_acc_0.7619.hdf5\n",
            "16/16 [==============================] - 172s 11s/step - loss: 0.4835 - binary_accuracy: 0.7880 - val_loss: 0.6424 - val_binary_accuracy: 0.7619 - lr: 5.0000e-04\n",
            "Epoch 7/190\n",
            "16/16 [==============================] - ETA: 0s - loss: 0.4886 - binary_accuracy: 0.7989 \n",
            "Epoch 7: saving model to HPLC_loss_0.4886_acc_0.7989_val_acc_0.7619.hdf5\n",
            "16/16 [==============================] - 172s 11s/step - loss: 0.4886 - binary_accuracy: 0.7989 - val_loss: 0.7938 - val_binary_accuracy: 0.7619 - lr: 5.0000e-04\n",
            "Epoch 8/190\n",
            "16/16 [==============================] - ETA: 0s - loss: 0.4832 - binary_accuracy: 0.8152 \n",
            "Epoch 8: saving model to HPLC_loss_0.4832_acc_0.8152_val_acc_0.7143.hdf5\n",
            "16/16 [==============================] - 171s 11s/step - loss: 0.4832 - binary_accuracy: 0.8152 - val_loss: 0.5724 - val_binary_accuracy: 0.7143 - lr: 5.0000e-04\n",
            "Epoch 9/190\n",
            "16/16 [==============================] - ETA: 0s - loss: 0.4629 - binary_accuracy: 0.8152 \n",
            "Epoch 9: saving model to HPLC_loss_0.4629_acc_0.8152_val_acc_0.7143.hdf5\n",
            "16/16 [==============================] - 172s 11s/step - loss: 0.4629 - binary_accuracy: 0.8152 - val_loss: 0.6021 - val_binary_accuracy: 0.7143 - lr: 5.0000e-04\n",
            "Epoch 10/190\n",
            "16/16 [==============================] - ETA: 0s - loss: 0.4985 - binary_accuracy: 0.7989 \n",
            "Epoch 10: saving model to HPLC_loss_0.4985_acc_0.7989_val_acc_0.7619.hdf5\n",
            "16/16 [==============================] - 171s 11s/step - loss: 0.4985 - binary_accuracy: 0.7989 - val_loss: 0.6179 - val_binary_accuracy: 0.7619 - lr: 5.0000e-04\n",
            "Epoch 11/190\n",
            "16/16 [==============================] - ETA: 0s - loss: 0.5042 - binary_accuracy: 0.7935 \n",
            "Epoch 11: saving model to HPLC_loss_0.5042_acc_0.7935_val_acc_0.7619.hdf5\n",
            "16/16 [==============================] - 171s 11s/step - loss: 0.5042 - binary_accuracy: 0.7935 - val_loss: 0.6151 - val_binary_accuracy: 0.7619 - lr: 5.0000e-04\n",
            "Epoch 12/190\n",
            "16/16 [==============================] - ETA: 0s - loss: 0.4678 - binary_accuracy: 0.8098 \n",
            "Epoch 12: saving model to HPLC_loss_0.4678_acc_0.8098_val_acc_0.6667.hdf5\n",
            "16/16 [==============================] - 171s 11s/step - loss: 0.4678 - binary_accuracy: 0.8098 - val_loss: 0.6256 - val_binary_accuracy: 0.6667 - lr: 5.0000e-04\n",
            "Epoch 13/190\n",
            "16/16 [==============================] - ETA: 0s - loss: 0.5034 - binary_accuracy: 0.7717 \n",
            "Epoch 13: saving model to HPLC_loss_0.5034_acc_0.7717_val_acc_0.7619.hdf5\n",
            "16/16 [==============================] - 170s 11s/step - loss: 0.5034 - binary_accuracy: 0.7717 - val_loss: 0.5987 - val_binary_accuracy: 0.7619 - lr: 5.0000e-04\n",
            "Epoch 14/190\n",
            "16/16 [==============================] - ETA: 0s - loss: 0.4551 - binary_accuracy: 0.8098 \n",
            "Epoch 14: saving model to HPLC_loss_0.4551_acc_0.8098_val_acc_0.7143.hdf5\n",
            "16/16 [==============================] - 170s 11s/step - loss: 0.4551 - binary_accuracy: 0.8098 - val_loss: 0.6196 - val_binary_accuracy: 0.7143 - lr: 5.0000e-04\n",
            "Epoch 15/190\n",
            "16/16 [==============================] - ETA: 0s - loss: 0.4453 - binary_accuracy: 0.8098 \n",
            "Epoch 15: saving model to HPLC_loss_0.4453_acc_0.8098_val_acc_0.7143.hdf5\n",
            "16/16 [==============================] - 171s 11s/step - loss: 0.4453 - binary_accuracy: 0.8098 - val_loss: 0.5686 - val_binary_accuracy: 0.7143 - lr: 5.0000e-04\n",
            "Epoch 16/190\n",
            "16/16 [==============================] - ETA: 0s - loss: 0.4472 - binary_accuracy: 0.8207 \n",
            "Epoch 16: saving model to HPLC_loss_0.4472_acc_0.8207_val_acc_0.7619.hdf5\n",
            "16/16 [==============================] - 173s 11s/step - loss: 0.4472 - binary_accuracy: 0.8207 - val_loss: 0.5471 - val_binary_accuracy: 0.7619 - lr: 5.0000e-04\n",
            "Epoch 17/190\n",
            "16/16 [==============================] - ETA: 0s - loss: 0.4401 - binary_accuracy: 0.8098 \n",
            "Epoch 17: saving model to HPLC_loss_0.4401_acc_0.8098_val_acc_0.7619.hdf5\n",
            "16/16 [==============================] - 173s 11s/step - loss: 0.4401 - binary_accuracy: 0.8098 - val_loss: 0.6374 - val_binary_accuracy: 0.7619 - lr: 5.0000e-04\n",
            "Epoch 18/190\n",
            "16/16 [==============================] - ETA: 0s - loss: 0.4431 - binary_accuracy: 0.7989 \n",
            "Epoch 18: saving model to HPLC_loss_0.4431_acc_0.7989_val_acc_0.7619.hdf5\n",
            "16/16 [==============================] - 172s 11s/step - loss: 0.4431 - binary_accuracy: 0.7989 - val_loss: 0.7516 - val_binary_accuracy: 0.7619 - lr: 5.0000e-04\n",
            "Epoch 19/190\n",
            "16/16 [==============================] - ETA: 0s - loss: 0.4061 - binary_accuracy: 0.8315 \n",
            "Epoch 19: saving model to HPLC_loss_0.4061_acc_0.8315_val_acc_0.7143.hdf5\n",
            "16/16 [==============================] - 173s 11s/step - loss: 0.4061 - binary_accuracy: 0.8315 - val_loss: 0.5443 - val_binary_accuracy: 0.7143 - lr: 5.0000e-04\n",
            "Epoch 20/190\n",
            "16/16 [==============================] - ETA: 0s - loss: 0.4080 - binary_accuracy: 0.8424 \n",
            "Epoch 20: saving model to HPLC_loss_0.4080_acc_0.8424_val_acc_0.7619.hdf5\n",
            "16/16 [==============================] - 177s 11s/step - loss: 0.4080 - binary_accuracy: 0.8424 - val_loss: 0.8130 - val_binary_accuracy: 0.7619 - lr: 5.0000e-04\n",
            "Epoch 21/190\n",
            "16/16 [==============================] - ETA: 0s - loss: 0.4677 - binary_accuracy: 0.8098 \n",
            "Epoch 21: saving model to HPLC_loss_0.4677_acc_0.8098_val_acc_0.7619.hdf5\n",
            "16/16 [==============================] - 173s 11s/step - loss: 0.4677 - binary_accuracy: 0.8098 - val_loss: 0.7123 - val_binary_accuracy: 0.7619 - lr: 5.0000e-04\n",
            "Epoch 22/190\n",
            "16/16 [==============================] - ETA: 0s - loss: 0.4099 - binary_accuracy: 0.8098 \n",
            "Epoch 22: saving model to HPLC_loss_0.4099_acc_0.8098_val_acc_0.7143.hdf5\n",
            "16/16 [==============================] - 172s 11s/step - loss: 0.4099 - binary_accuracy: 0.8098 - val_loss: 0.6177 - val_binary_accuracy: 0.7143 - lr: 5.0000e-04\n",
            "Epoch 23/190\n",
            "16/16 [==============================] - ETA: 0s - loss: 0.4181 - binary_accuracy: 0.7935 \n",
            "Epoch 23: saving model to HPLC_loss_0.4181_acc_0.7935_val_acc_0.7143.hdf5\n",
            "16/16 [==============================] - 173s 11s/step - loss: 0.4181 - binary_accuracy: 0.7935 - val_loss: 0.6549 - val_binary_accuracy: 0.7143 - lr: 5.0000e-04\n",
            "Epoch 24/190\n",
            "16/16 [==============================] - ETA: 0s - loss: 0.4106 - binary_accuracy: 0.8098 \n",
            "Epoch 24: saving model to HPLC_loss_0.4106_acc_0.8098_val_acc_0.7619.hdf5\n",
            "16/16 [==============================] - 173s 11s/step - loss: 0.4106 - binary_accuracy: 0.8098 - val_loss: 0.7127 - val_binary_accuracy: 0.7619 - lr: 5.0000e-04\n",
            "Epoch 25/190\n",
            "16/16 [==============================] - ETA: 0s - loss: 0.3888 - binary_accuracy: 0.8315 \n",
            "Epoch 25: saving model to HPLC_loss_0.3888_acc_0.8315_val_acc_0.7619.hdf5\n",
            "16/16 [==============================] - 175s 11s/step - loss: 0.3888 - binary_accuracy: 0.8315 - val_loss: 0.7161 - val_binary_accuracy: 0.7619 - lr: 5.0000e-04\n",
            "Epoch 26/190\n",
            "16/16 [==============================] - ETA: 0s - loss: 0.3917 - binary_accuracy: 0.8696 \n",
            "Epoch 26: saving model to HPLC_loss_0.3917_acc_0.8696_val_acc_0.8095.hdf5\n",
            "16/16 [==============================] - 173s 11s/step - loss: 0.3917 - binary_accuracy: 0.8696 - val_loss: 0.6178 - val_binary_accuracy: 0.8095 - lr: 5.0000e-04\n",
            "Epoch 27/190\n",
            "16/16 [==============================] - ETA: 0s - loss: 0.3513 - binary_accuracy: 0.8370 \n",
            "Epoch 27: saving model to HPLC_loss_0.3513_acc_0.8370_val_acc_0.8095.hdf5\n",
            "16/16 [==============================] - 173s 11s/step - loss: 0.3513 - binary_accuracy: 0.8370 - val_loss: 0.6594 - val_binary_accuracy: 0.8095 - lr: 5.0000e-04\n",
            "Epoch 28/190\n",
            "16/16 [==============================] - ETA: 0s - loss: 0.4603 - binary_accuracy: 0.7717 \n",
            "Epoch 28: saving model to HPLC_loss_0.4603_acc_0.7717_val_acc_0.7619.hdf5\n",
            "16/16 [==============================] - 174s 11s/step - loss: 0.4603 - binary_accuracy: 0.7717 - val_loss: 0.5589 - val_binary_accuracy: 0.7619 - lr: 5.0000e-04\n",
            "Epoch 29/190\n",
            "16/16 [==============================] - ETA: 0s - loss: 0.4153 - binary_accuracy: 0.8370 \n",
            "Epoch 29: saving model to HPLC_loss_0.4153_acc_0.8370_val_acc_0.8095.hdf5\n",
            "16/16 [==============================] - 173s 11s/step - loss: 0.4153 - binary_accuracy: 0.8370 - val_loss: 0.5143 - val_binary_accuracy: 0.8095 - lr: 5.0000e-04\n",
            "Epoch 30/190\n",
            "16/16 [==============================] - ETA: 0s - loss: 0.3823 - binary_accuracy: 0.8370 \n",
            "Epoch 30: saving model to HPLC_loss_0.3823_acc_0.8370_val_acc_0.7619.hdf5\n",
            "16/16 [==============================] - 173s 11s/step - loss: 0.3823 - binary_accuracy: 0.8370 - val_loss: 0.6204 - val_binary_accuracy: 0.7619 - lr: 5.0000e-04\n",
            "Epoch 31/190\n",
            "16/16 [==============================] - ETA: 0s - loss: 0.3902 - binary_accuracy: 0.8370 \n",
            "Epoch 31: saving model to HPLC_loss_0.3902_acc_0.8370_val_acc_0.7619.hdf5\n",
            "16/16 [==============================] - 173s 11s/step - loss: 0.3902 - binary_accuracy: 0.8370 - val_loss: 0.4980 - val_binary_accuracy: 0.7619 - lr: 5.0000e-04\n",
            "Epoch 32/190\n",
            "16/16 [==============================] - ETA: 0s - loss: 0.3738 - binary_accuracy: 0.8370 \n",
            "Epoch 32: saving model to HPLC_loss_0.3738_acc_0.8370_val_acc_0.8095.hdf5\n",
            "16/16 [==============================] - 172s 11s/step - loss: 0.3738 - binary_accuracy: 0.8370 - val_loss: 0.4929 - val_binary_accuracy: 0.8095 - lr: 5.0000e-04\n",
            "Epoch 33/190\n",
            "16/16 [==============================] - ETA: 0s - loss: 0.3043 - binary_accuracy: 0.8587 \n",
            "Epoch 33: saving model to HPLC_loss_0.3043_acc_0.8587_val_acc_0.8095.hdf5\n",
            "16/16 [==============================] - 173s 11s/step - loss: 0.3043 - binary_accuracy: 0.8587 - val_loss: 0.5933 - val_binary_accuracy: 0.8095 - lr: 5.0000e-04\n",
            "Epoch 34/190\n",
            "16/16 [==============================] - ETA: 0s - loss: 0.3740 - binary_accuracy: 0.8370 \n",
            "Epoch 34: saving model to HPLC_loss_0.3740_acc_0.8370_val_acc_0.8095.hdf5\n",
            "16/16 [==============================] - 172s 11s/step - loss: 0.3740 - binary_accuracy: 0.8370 - val_loss: 0.4525 - val_binary_accuracy: 0.8095 - lr: 5.0000e-04\n",
            "Epoch 35/190\n",
            "16/16 [==============================] - ETA: 0s - loss: 0.3881 - binary_accuracy: 0.8424 \n",
            "Epoch 35: saving model to HPLC_loss_0.3881_acc_0.8424_val_acc_0.8095.hdf5\n",
            "16/16 [==============================] - 173s 11s/step - loss: 0.3881 - binary_accuracy: 0.8424 - val_loss: 0.7613 - val_binary_accuracy: 0.8095 - lr: 5.0000e-04\n",
            "Epoch 36/190\n",
            "16/16 [==============================] - ETA: 0s - loss: 0.3473 - binary_accuracy: 0.8424 \n",
            "Epoch 36: saving model to HPLC_loss_0.3473_acc_0.8424_val_acc_0.8095.hdf5\n",
            "16/16 [==============================] - 172s 11s/step - loss: 0.3473 - binary_accuracy: 0.8424 - val_loss: 0.4695 - val_binary_accuracy: 0.8095 - lr: 5.0000e-04\n",
            "Epoch 37/190\n",
            "16/16 [==============================] - ETA: 0s - loss: 0.3313 - binary_accuracy: 0.8587 \n",
            "Epoch 37: saving model to HPLC_loss_0.3313_acc_0.8587_val_acc_0.8095.hdf5\n",
            "16/16 [==============================] - 173s 11s/step - loss: 0.3313 - binary_accuracy: 0.8587 - val_loss: 0.3945 - val_binary_accuracy: 0.8095 - lr: 5.0000e-04\n",
            "Epoch 38/190\n",
            "16/16 [==============================] - ETA: 0s - loss: 0.3337 - binary_accuracy: 0.8641 \n",
            "Epoch 38: saving model to HPLC_loss_0.3337_acc_0.8641_val_acc_0.8571.hdf5\n",
            "16/16 [==============================] - 172s 11s/step - loss: 0.3337 - binary_accuracy: 0.8641 - val_loss: 0.3562 - val_binary_accuracy: 0.8571 - lr: 5.0000e-04\n",
            "Epoch 39/190\n",
            "16/16 [==============================] - ETA: 0s - loss: 0.2949 - binary_accuracy: 0.8533 \n",
            "Epoch 39: saving model to HPLC_loss_0.2949_acc_0.8533_val_acc_0.8571.hdf5\n",
            "16/16 [==============================] - 172s 11s/step - loss: 0.2949 - binary_accuracy: 0.8533 - val_loss: 0.3720 - val_binary_accuracy: 0.8571 - lr: 5.0000e-04\n",
            "Epoch 40/190\n",
            "16/16 [==============================] - ETA: 0s - loss: 0.3256 - binary_accuracy: 0.8424 \n",
            "Epoch 40: saving model to HPLC_loss_0.3256_acc_0.8424_val_acc_0.8095.hdf5\n",
            "16/16 [==============================] - 172s 11s/step - loss: 0.3256 - binary_accuracy: 0.8424 - val_loss: 0.3871 - val_binary_accuracy: 0.8095 - lr: 5.0000e-04\n",
            "Epoch 41/190\n",
            "16/16 [==============================] - ETA: 0s - loss: 0.3404 - binary_accuracy: 0.8641 \n",
            "Epoch 41: saving model to HPLC_loss_0.3404_acc_0.8641_val_acc_0.7143.hdf5\n",
            "16/16 [==============================] - 172s 11s/step - loss: 0.3404 - binary_accuracy: 0.8641 - val_loss: 0.4550 - val_binary_accuracy: 0.7143 - lr: 5.0000e-04\n",
            "Epoch 42/190\n",
            "16/16 [==============================] - ETA: 0s - loss: 0.3278 - binary_accuracy: 0.8641 \n",
            "Epoch 42: saving model to HPLC_loss_0.3278_acc_0.8641_val_acc_0.8095.hdf5\n",
            "16/16 [==============================] - 172s 11s/step - loss: 0.3278 - binary_accuracy: 0.8641 - val_loss: 0.5847 - val_binary_accuracy: 0.8095 - lr: 5.0000e-04\n",
            "Epoch 43/190\n",
            "16/16 [==============================] - ETA: 0s - loss: 0.2914 - binary_accuracy: 0.8859 \n",
            "Epoch 43: saving model to HPLC_loss_0.2914_acc_0.8859_val_acc_0.8571.hdf5\n",
            "16/16 [==============================] - 172s 11s/step - loss: 0.2914 - binary_accuracy: 0.8859 - val_loss: 0.4008 - val_binary_accuracy: 0.8571 - lr: 5.0000e-04\n",
            "Epoch 44/190\n",
            "16/16 [==============================] - ETA: 0s - loss: 0.3351 - binary_accuracy: 0.8424 \n",
            "Epoch 44: saving model to HPLC_loss_0.3351_acc_0.8424_val_acc_0.8095.hdf5\n",
            "16/16 [==============================] - 172s 11s/step - loss: 0.3351 - binary_accuracy: 0.8424 - val_loss: 0.4053 - val_binary_accuracy: 0.8095 - lr: 5.0000e-04\n",
            "Epoch 45/190\n",
            "16/16 [==============================] - ETA: 0s - loss: 0.3157 - binary_accuracy: 0.8750 \n",
            "Epoch 45: saving model to HPLC_loss_0.3157_acc_0.8750_val_acc_0.9048.hdf5\n",
            "16/16 [==============================] - 173s 11s/step - loss: 0.3157 - binary_accuracy: 0.8750 - val_loss: 0.3363 - val_binary_accuracy: 0.9048 - lr: 5.0000e-04\n",
            "Epoch 46/190\n",
            "16/16 [==============================] - ETA: 0s - loss: 0.2798 - binary_accuracy: 0.9076 \n",
            "Epoch 46: saving model to HPLC_loss_0.2798_acc_0.9076_val_acc_0.4762.hdf5\n",
            "16/16 [==============================] - 172s 11s/step - loss: 0.2798 - binary_accuracy: 0.9076 - val_loss: 0.8762 - val_binary_accuracy: 0.4762 - lr: 5.0000e-04\n",
            "Epoch 47/190\n",
            "16/16 [==============================] - ETA: 0s - loss: 0.3888 - binary_accuracy: 0.8207 \n",
            "Epoch 47: saving model to HPLC_loss_0.3888_acc_0.8207_val_acc_0.7143.hdf5\n",
            "16/16 [==============================] - 172s 11s/step - loss: 0.3888 - binary_accuracy: 0.8207 - val_loss: 0.5622 - val_binary_accuracy: 0.7143 - lr: 5.0000e-04\n",
            "Epoch 48/190\n",
            "16/16 [==============================] - ETA: 0s - loss: 0.4133 - binary_accuracy: 0.8043 \n",
            "Epoch 48: saving model to HPLC_loss_0.4133_acc_0.8043_val_acc_0.8095.hdf5\n",
            "16/16 [==============================] - 172s 11s/step - loss: 0.4133 - binary_accuracy: 0.8043 - val_loss: 0.4662 - val_binary_accuracy: 0.8095 - lr: 5.0000e-04\n",
            "Epoch 49/190\n",
            "16/16 [==============================] - ETA: 0s - loss: 0.2809 - binary_accuracy: 0.8696 \n",
            "Epoch 49: saving model to HPLC_loss_0.2809_acc_0.8696_val_acc_0.8571.hdf5\n",
            "16/16 [==============================] - 173s 11s/step - loss: 0.2809 - binary_accuracy: 0.8696 - val_loss: 0.3818 - val_binary_accuracy: 0.8571 - lr: 5.0000e-04\n",
            "Epoch 50/190\n",
            "16/16 [==============================] - ETA: 0s - loss: 0.2626 - binary_accuracy: 0.8913 \n",
            "Epoch 50: saving model to HPLC_loss_0.2626_acc_0.8913_val_acc_0.8095.hdf5\n",
            "16/16 [==============================] - 172s 11s/step - loss: 0.2626 - binary_accuracy: 0.8913 - val_loss: 0.4260 - val_binary_accuracy: 0.8095 - lr: 5.0000e-04\n",
            "Epoch 51/190\n",
            "16/16 [==============================] - ETA: 0s - loss: 0.2546 - binary_accuracy: 0.9022 \n",
            "Epoch 51: saving model to HPLC_loss_0.2546_acc_0.9022_val_acc_0.8095.hdf5\n",
            "16/16 [==============================] - 172s 11s/step - loss: 0.2546 - binary_accuracy: 0.9022 - val_loss: 0.5927 - val_binary_accuracy: 0.8095 - lr: 5.0000e-04\n",
            "Epoch 52/190\n",
            "16/16 [==============================] - ETA: 0s - loss: 0.2891 - binary_accuracy: 0.8913 \n",
            "Epoch 52: saving model to HPLC_loss_0.2891_acc_0.8913_val_acc_0.8095.hdf5\n",
            "16/16 [==============================] - 174s 11s/step - loss: 0.2891 - binary_accuracy: 0.8913 - val_loss: 0.5825 - val_binary_accuracy: 0.8095 - lr: 5.0000e-04\n",
            "Epoch 53/190\n",
            "16/16 [==============================] - ETA: 0s - loss: 0.2844 - binary_accuracy: 0.8696 \n",
            "Epoch 53: saving model to HPLC_loss_0.2844_acc_0.8696_val_acc_0.8095.hdf5\n",
            "16/16 [==============================] - 172s 11s/step - loss: 0.2844 - binary_accuracy: 0.8696 - val_loss: 0.3912 - val_binary_accuracy: 0.8095 - lr: 5.0000e-04\n",
            "Epoch 54/190\n",
            "16/16 [==============================] - ETA: 0s - loss: 0.2736 - binary_accuracy: 0.8859 \n",
            "Epoch 54: saving model to HPLC_loss_0.2736_acc_0.8859_val_acc_0.8571.hdf5\n",
            "16/16 [==============================] - 173s 11s/step - loss: 0.2736 - binary_accuracy: 0.8859 - val_loss: 0.3287 - val_binary_accuracy: 0.8571 - lr: 5.0000e-04\n",
            "Epoch 55/190\n",
            "16/16 [==============================] - ETA: 0s - loss: 0.2548 - binary_accuracy: 0.9130 \n",
            "Epoch 55: saving model to HPLC_loss_0.2548_acc_0.9130_val_acc_0.9048.hdf5\n",
            "16/16 [==============================] - 172s 11s/step - loss: 0.2548 - binary_accuracy: 0.9130 - val_loss: 0.2392 - val_binary_accuracy: 0.9048 - lr: 5.0000e-04\n",
            "Epoch 56/190\n",
            "16/16 [==============================] - ETA: 0s - loss: 0.2501 - binary_accuracy: 0.8967 \n",
            "Epoch 56: saving model to HPLC_loss_0.2501_acc_0.8967_val_acc_0.8095.hdf5\n",
            "16/16 [==============================] - 172s 11s/step - loss: 0.2501 - binary_accuracy: 0.8967 - val_loss: 0.4293 - val_binary_accuracy: 0.8095 - lr: 5.0000e-04\n",
            "Epoch 57/190\n",
            "16/16 [==============================] - ETA: 0s - loss: 0.2746 - binary_accuracy: 0.8696 \n",
            "Epoch 57: saving model to HPLC_loss_0.2746_acc_0.8696_val_acc_0.8095.hdf5\n",
            "16/16 [==============================] - 172s 11s/step - loss: 0.2746 - binary_accuracy: 0.8696 - val_loss: 0.3899 - val_binary_accuracy: 0.8095 - lr: 5.0000e-04\n",
            "Epoch 58/190\n",
            "16/16 [==============================] - ETA: 0s - loss: 0.2690 - binary_accuracy: 0.8696 \n",
            "Epoch 58: saving model to HPLC_loss_0.2690_acc_0.8696_val_acc_0.8571.hdf5\n",
            "16/16 [==============================] - 173s 11s/step - loss: 0.2690 - binary_accuracy: 0.8696 - val_loss: 0.3417 - val_binary_accuracy: 0.8571 - lr: 5.0000e-04\n",
            "Epoch 59/190\n",
            "16/16 [==============================] - ETA: 0s - loss: 0.2491 - binary_accuracy: 0.9076 \n",
            "Epoch 59: saving model to HPLC_loss_0.2491_acc_0.9076_val_acc_0.8095.hdf5\n",
            "16/16 [==============================] - 172s 11s/step - loss: 0.2491 - binary_accuracy: 0.9076 - val_loss: 0.4150 - val_binary_accuracy: 0.8095 - lr: 5.0000e-04\n",
            "Epoch 60/190\n",
            "16/16 [==============================] - ETA: 0s - loss: 0.2512 - binary_accuracy: 0.9130 \n",
            "Epoch 60: saving model to HPLC_loss_0.2512_acc_0.9130_val_acc_0.8571.hdf5\n",
            "16/16 [==============================] - 174s 11s/step - loss: 0.2512 - binary_accuracy: 0.9130 - val_loss: 0.3778 - val_binary_accuracy: 0.8571 - lr: 5.0000e-04\n",
            "Epoch 61/190\n",
            "16/16 [==============================] - ETA: 0s - loss: 0.2912 - binary_accuracy: 0.8750 \n",
            "Epoch 61: saving model to HPLC_loss_0.2912_acc_0.8750_val_acc_0.8095.hdf5\n",
            "16/16 [==============================] - 172s 11s/step - loss: 0.2912 - binary_accuracy: 0.8750 - val_loss: 0.5569 - val_binary_accuracy: 0.8095 - lr: 5.0000e-04\n",
            "Epoch 62/190\n",
            "16/16 [==============================] - ETA: 0s - loss: 0.3209 - binary_accuracy: 0.8859 \n",
            "Epoch 62: saving model to HPLC_loss_0.3209_acc_0.8859_val_acc_0.8095.hdf5\n",
            "16/16 [==============================] - 172s 11s/step - loss: 0.3209 - binary_accuracy: 0.8859 - val_loss: 0.4812 - val_binary_accuracy: 0.8095 - lr: 5.0000e-04\n",
            "Epoch 63/190\n",
            "16/16 [==============================] - ETA: 0s - loss: 0.3751 - binary_accuracy: 0.8261 \n",
            "Epoch 63: saving model to HPLC_loss_0.3751_acc_0.8261_val_acc_0.8095.hdf5\n",
            "16/16 [==============================] - 172s 11s/step - loss: 0.3751 - binary_accuracy: 0.8261 - val_loss: 0.8005 - val_binary_accuracy: 0.8095 - lr: 5.0000e-04\n",
            "Epoch 64/190\n",
            "16/16 [==============================] - ETA: 0s - loss: 0.3232 - binary_accuracy: 0.8478 \n",
            "Epoch 64: saving model to HPLC_loss_0.3232_acc_0.8478_val_acc_0.8095.hdf5\n",
            "16/16 [==============================] - 172s 11s/step - loss: 0.3232 - binary_accuracy: 0.8478 - val_loss: 0.5727 - val_binary_accuracy: 0.8095 - lr: 5.0000e-04\n",
            "Epoch 65/190\n",
            "16/16 [==============================] - ETA: 0s - loss: 0.3018 - binary_accuracy: 0.8478 \n",
            "Epoch 65: saving model to HPLC_loss_0.3018_acc_0.8478_val_acc_0.8095.hdf5\n",
            "16/16 [==============================] - 172s 11s/step - loss: 0.3018 - binary_accuracy: 0.8478 - val_loss: 0.4468 - val_binary_accuracy: 0.8095 - lr: 5.0000e-04\n",
            "Epoch 66/190\n",
            "16/16 [==============================] - ETA: 0s - loss: 0.2604 - binary_accuracy: 0.8913 \n",
            "Epoch 66: saving model to HPLC_loss_0.2604_acc_0.8913_val_acc_0.8095.hdf5\n",
            "16/16 [==============================] - 172s 11s/step - loss: 0.2604 - binary_accuracy: 0.8913 - val_loss: 0.5215 - val_binary_accuracy: 0.8095 - lr: 5.0000e-04\n",
            "Epoch 67/190\n",
            "16/16 [==============================] - ETA: 0s - loss: 0.2913 - binary_accuracy: 0.8696 \n",
            "Epoch 67: saving model to HPLC_loss_0.2913_acc_0.8696_val_acc_0.8571.hdf5\n",
            "16/16 [==============================] - 172s 11s/step - loss: 0.2913 - binary_accuracy: 0.8696 - val_loss: 0.2928 - val_binary_accuracy: 0.8571 - lr: 5.0000e-04\n",
            "Epoch 68/190\n",
            "16/16 [==============================] - ETA: 0s - loss: 0.2596 - binary_accuracy: 0.8913 \n",
            "Epoch 68: saving model to HPLC_loss_0.2596_acc_0.8913_val_acc_0.9048.hdf5\n",
            "16/16 [==============================] - 173s 11s/step - loss: 0.2596 - binary_accuracy: 0.8913 - val_loss: 0.2362 - val_binary_accuracy: 0.9048 - lr: 5.0000e-04\n",
            "Epoch 69/190\n",
            "16/16 [==============================] - ETA: 0s - loss: 0.2497 - binary_accuracy: 0.8913 \n",
            "Epoch 69: saving model to HPLC_loss_0.2497_acc_0.8913_val_acc_0.9048.hdf5\n",
            "16/16 [==============================] - 172s 11s/step - loss: 0.2497 - binary_accuracy: 0.8913 - val_loss: 0.2489 - val_binary_accuracy: 0.9048 - lr: 5.0000e-04\n",
            "Epoch 70/190\n",
            "16/16 [==============================] - ETA: 0s - loss: 0.2335 - binary_accuracy: 0.8967 \n",
            "Epoch 70: saving model to HPLC_loss_0.2335_acc_0.8967_val_acc_0.9048.hdf5\n",
            "16/16 [==============================] - 172s 11s/step - loss: 0.2335 - binary_accuracy: 0.8967 - val_loss: 0.2069 - val_binary_accuracy: 0.9048 - lr: 5.0000e-04\n",
            "Epoch 71/190\n",
            "16/16 [==============================] - ETA: 0s - loss: 0.2450 - binary_accuracy: 0.8913 \n",
            "Epoch 71: saving model to HPLC_loss_0.2450_acc_0.8913_val_acc_0.9048.hdf5\n",
            "16/16 [==============================] - 172s 11s/step - loss: 0.2450 - binary_accuracy: 0.8913 - val_loss: 0.2508 - val_binary_accuracy: 0.9048 - lr: 5.0000e-04\n",
            "Epoch 72/190\n",
            "16/16 [==============================] - ETA: 0s - loss: 0.2617 - binary_accuracy: 0.8967 \n",
            "Epoch 72: saving model to HPLC_loss_0.2617_acc_0.8967_val_acc_0.9048.hdf5\n",
            "16/16 [==============================] - 172s 11s/step - loss: 0.2617 - binary_accuracy: 0.8967 - val_loss: 0.3286 - val_binary_accuracy: 0.9048 - lr: 5.0000e-04\n",
            "Epoch 73/190\n",
            "10/16 [=================>............] - ETA: 1:04 - loss: 0.3011 - binary_accuracy: 0.8833"
          ]
        }
      ],
      "source": [
        "# Illesszük az adatra a modellt\n",
        "if _MODE_==\"Tanul\":\n",
        "    history=model.fit(\n",
        "            x=df_X_minmax,\n",
        "            y=df_y2, \n",
        "            epochs=190, \n",
        "            batch_size=12,\n",
        "            validation_split=0.1,         \n",
        "            callbacks=[callbacks]          \n",
        "            )\n"
      ]
    },
    {
      "cell_type": "code",
      "source": [
        "!pip install tensorflow-history-plot"
      ],
      "metadata": {
        "id": "Y3yWoor3Hyt4"
      },
      "execution_count": null,
      "outputs": []
    },
    {
      "cell_type": "code",
      "source": [
        "history.history"
      ],
      "metadata": {
        "id": "D4eRDUJximCb"
      },
      "execution_count": null,
      "outputs": []
    },
    {
      "cell_type": "code",
      "source": [
        "from tensorflow_history_plot import show_acc\n",
        "show_acc.plot(history)"
      ],
      "metadata": {
        "id": "ObGrOy0LHu3x"
      },
      "execution_count": null,
      "outputs": []
    },
    {
      "cell_type": "code",
      "source": [
        ""
      ],
      "metadata": {
        "id": "QeMALF9AHu2A"
      },
      "execution_count": null,
      "outputs": []
    },
    {
      "cell_type": "code",
      "source": [
        "_MODE_=\"Tesztel\""
      ],
      "metadata": {
        "id": "82AeWLEG1vsQ"
      },
      "execution_count": null,
      "outputs": []
    },
    {
      "cell_type": "code",
      "source": [
        "fname=\"https://github.com/sipocz/LSTM_HPLC/raw/06624756748f10624ac1fff709b8547df65ece7a/models/XXXX_loss_0.1450_acc_0.9457_val_acc_0.9524_20220406215100.hdf5\"\n",
        "if _MODE_==\"Tesztel\":\n",
        "    #!rm XXXX*\n",
        "    !wget $fname"
      ],
      "metadata": {
        "id": "I132le63oAkN"
      },
      "execution_count": null,
      "outputs": []
    },
    {
      "cell_type": "code",
      "source": [
        ""
      ],
      "metadata": {
        "id": "el4jLBvoybTN"
      },
      "execution_count": null,
      "outputs": []
    },
    {
      "cell_type": "code",
      "source": [
        ""
      ],
      "metadata": {
        "id": "05jpd7BjeYez"
      },
      "execution_count": null,
      "outputs": []
    },
    {
      "cell_type": "code",
      "source": [
        "fname=\"XXXX_loss_0.1450_acc_0.9457_val_acc_0.9524_20220406215100.hdf5\""
      ],
      "metadata": {
        "id": "IrAfG02Lj1wr"
      },
      "execution_count": null,
      "outputs": []
    },
    {
      "cell_type": "code",
      "source": [
        ""
      ],
      "metadata": {
        "id": "f0mdKjZBjb7L"
      },
      "execution_count": null,
      "outputs": []
    },
    {
      "cell_type": "code",
      "execution_count": null,
      "metadata": {
        "id": "nk87VBSQndA5"
      },
      "outputs": [],
      "source": [
        "model.load_weights(fname)"
      ]
    },
    {
      "cell_type": "code",
      "execution_count": null,
      "metadata": {
        "id": "m1ks758inc_Z"
      },
      "outputs": [],
      "source": [
        ""
      ]
    },
    {
      "cell_type": "code",
      "execution_count": null,
      "metadata": {
        "id": "Y_CHGgYja_bB"
      },
      "outputs": [],
      "source": [
        "pred=model.predict(df_X_minmax)"
      ]
    },
    {
      "cell_type": "code",
      "execution_count": null,
      "metadata": {
        "id": "loCl2-qmA6SL"
      },
      "outputs": [],
      "source": [
        "def maxpos(alist):\n",
        "    temp = max(alist)\n",
        "    res = [i for i, j in enumerate(alist) if j == temp]\n",
        "    return res[0]  \n"
      ]
    },
    {
      "cell_type": "code",
      "execution_count": null,
      "metadata": {
        "id": "CIFRZ753bMNi"
      },
      "outputs": [],
      "source": [
        "#from IPython.lib.display import YouTubeVideo\n",
        "def show_difference(pred,ytrain,verbose=False, only_wrong=True, to_table=False):\n",
        "    ecounter=0\n",
        "    o=[]\n",
        "    for i in range(len(pred)):\n",
        "        predi=pred[i]\n",
        "        traini=ytrain[i]\n",
        "        if abs(predi-traini)>0.5:\n",
        "            ecounter+=1\n",
        "            o.append(i)\n",
        "        if verbose:\n",
        "            if only_wrong:\n",
        "                \n",
        "                if abs(predi-traini)>0.5: \n",
        "                    if to_table:\n",
        "                        print(f\"|{i}|{predi}|{traini}|\")\n",
        "                    else:\n",
        "                        print(f\"{i}, {predi}, {traini}\")\n",
        "                \n",
        "            else:\n",
        "                print(f\"{i}, {predi}, {traini}\")\n",
        "\n",
        "                \n",
        "    print(f\"Hiba szám: {ecounter:6}, arány: {ecounter/len(ytrain)*100:3.2f}% \")\n",
        "    return(o)\n"
      ]
    },
    {
      "cell_type": "code",
      "source": [
        "df.head()"
      ],
      "metadata": {
        "id": "A7akwJMQ8Oza"
      },
      "execution_count": null,
      "outputs": []
    },
    {
      "cell_type": "code",
      "source": [
        "df.iloc[188]"
      ],
      "metadata": {
        "id": "1FCxVKUDhery"
      },
      "execution_count": null,
      "outputs": []
    },
    {
      "cell_type": "code",
      "execution_count": null,
      "metadata": {
        "id": "IWKt2DCcFbKc"
      },
      "outputs": [],
      "source": [
        "wrong_prediction_list=show_difference(pred,df_y2,verbose=True,to_table=True)"
      ]
    },
    {
      "cell_type": "code",
      "source": [
        ""
      ],
      "metadata": {
        "id": "bwUpz9KG73GH"
      },
      "execution_count": null,
      "outputs": []
    },
    {
      "cell_type": "code",
      "source": [
        "def show_batchID(df,index_list):\n",
        "    for i in index_list:\n",
        "        print(f\"{i:4}. --> {df.iloc[i].time.split('_')[0]}\")\n",
        "\n"
      ],
      "metadata": {
        "id": "3UF3Gzmf7vFt"
      },
      "execution_count": null,
      "outputs": []
    },
    {
      "cell_type": "code",
      "source": [
        ""
      ],
      "metadata": {
        "id": "OV04pFpA8_dj"
      },
      "execution_count": null,
      "outputs": []
    },
    {
      "cell_type": "code",
      "source": [
        "show_batchID(df,wrong_prediction_list)"
      ],
      "metadata": {
        "id": "Wo65biL-8djO"
      },
      "execution_count": null,
      "outputs": []
    },
    {
      "cell_type": "code",
      "execution_count": null,
      "metadata": {
        "id": "x39xe3TmGHJ_"
      },
      "outputs": [],
      "source": [
        "---"
      ]
    },
    {
      "cell_type": "code",
      "source": [
        "!pip install pypng\n",
        "!pip install pyqrcode"
      ],
      "metadata": {
        "id": "MsQ2eUE8GZc_"
      },
      "execution_count": null,
      "outputs": []
    },
    {
      "cell_type": "code",
      "source": [
        "\n",
        "\n",
        "import pyqrcode\n",
        "link_1 = pyqrcode.create('https://www.linkedin.com/in/36204746473/')\n",
        "link_1.png(\"p1.png\",scale=3,module_color=(20,20,20,255), background=(200,200,200,255))"
      ],
      "metadata": {
        "id": "WzKez2bME9eD"
      },
      "execution_count": null,
      "outputs": []
    },
    {
      "cell_type": "markdown",
      "metadata": {
        "id": "hlKyrRqfG6GP"
      },
      "source": [
        "### Model usage"
      ]
    },
    {
      "cell_type": "code",
      "execution_count": null,
      "metadata": {
        "id": "vvmmKvBIF4n8"
      },
      "outputs": [],
      "source": [
        "test_df=pd.read_csv(\"test_200.csv\")"
      ]
    },
    {
      "cell_type": "code",
      "execution_count": null,
      "metadata": {
        "id": "Mc0vyTmcHRvY"
      },
      "outputs": [],
      "source": [
        "print(len(test_df))"
      ]
    },
    {
      "cell_type": "code",
      "execution_count": null,
      "metadata": {
        "id": "5utaqxGNHU7y"
      },
      "outputs": [],
      "source": [
        "test_df.head()"
      ]
    },
    {
      "cell_type": "code",
      "execution_count": null,
      "metadata": {
        "id": "ykk17oAEoPwM"
      },
      "outputs": [],
      "source": [
        "__MAXWORD__=200\n",
        "test_word_list=list(test_df.Words_in_Numbers)\n",
        "x_test=create_x(test_word_list,maxword=__MAXWORD__)"
      ]
    },
    {
      "cell_type": "code",
      "execution_count": null,
      "metadata": {
        "id": "Yg0DqmUWoj5s"
      },
      "outputs": [],
      "source": [
        "y_pred=model.predict(x_test)"
      ]
    },
    {
      "cell_type": "code",
      "execution_count": null,
      "metadata": {
        "id": "itw7lX_hqO5m"
      },
      "outputs": [],
      "source": [
        "o=[\"kitaifa\",\"michezo\",\"biashara\",\"kamataifa\",\"burudani\"]"
      ]
    },
    {
      "cell_type": "code",
      "execution_count": null,
      "metadata": {
        "id": "JOQFlEC2oj2i"
      },
      "outputs": [],
      "source": [
        "def data_generator(y_pred):\n",
        "    out=[]\n",
        "    for pred in y_pred:\n",
        "        t1=[0,0,0,0,0]\n",
        "        ox=pred.argmax()\n",
        "        t1[ox]=1\n",
        "        out.append(t1) \n",
        "    return(out)"
      ]
    },
    {
      "cell_type": "code",
      "execution_count": null,
      "metadata": {
        "id": "tSRQc0kWojzb"
      },
      "outputs": [],
      "source": [
        "output=data_generator(y_pred)\n",
        "\n",
        "output0=[x[0] for x in output]\n",
        "output1=[x[1] for x in output]\n",
        "output2=[x[2] for x in output]\n",
        "output3=[x[3] for x in output]\n",
        "output4=[x[4] for x in output]"
      ]
    },
    {
      "cell_type": "code",
      "execution_count": null,
      "metadata": {
        "id": "G88pQ7jYojvu"
      },
      "outputs": [],
      "source": [
        "df_csv=pd.DataFrame()\n",
        "df_csv[\"test_id\"]=test_df[\"swahili_id\"]\n",
        "df_csv[o[0]]=output0\n",
        "df_csv[o[1]]=output1\n",
        "df_csv[o[2]]=output2\n",
        "df_csv[o[3]]=output3\n",
        "df_csv[o[4]]=output4"
      ]
    },
    {
      "cell_type": "code",
      "execution_count": null,
      "metadata": {
        "id": "3NSaY0zkyu1t"
      },
      "outputs": [],
      "source": [
        "df_csv.head()"
      ]
    },
    {
      "cell_type": "code",
      "execution_count": null,
      "metadata": {
        "id": "hw4CUPobbH7A"
      },
      "outputs": [],
      "source": [
        "from datetime  import datetime"
      ]
    },
    {
      "cell_type": "code",
      "execution_count": null,
      "metadata": {
        "id": "CAbhqmcPdF6U"
      },
      "outputs": [],
      "source": [
        "a=datetime.now().strftime(\"%Y%m%d_%H%M%S\")"
      ]
    },
    {
      "cell_type": "code",
      "execution_count": null,
      "metadata": {
        "id": "MiOwO9UTdeUt"
      },
      "outputs": [],
      "source": [
        "fname=\"submission_\"+a+\".csv\""
      ]
    },
    {
      "cell_type": "code",
      "execution_count": null,
      "metadata": {
        "id": "8ELciPC_OpWA"
      },
      "outputs": [],
      "source": [
        "df_csv.to_csv(fname,index=False)"
      ]
    },
    {
      "cell_type": "code",
      "execution_count": null,
      "metadata": {
        "id": "wvmaQZGBYM_7"
      },
      "outputs": [],
      "source": [
        "!head $fname"
      ]
    },
    {
      "cell_type": "code",
      "execution_count": null,
      "metadata": {
        "id": "OrtPBTgcYwtg"
      },
      "outputs": [],
      "source": [
        ""
      ]
    }
  ],
  "metadata": {
    "accelerator": "GPU",
    "colab": {
      "collapsed_sections": [],
      "name": "HPLC.ipynb",
      "provenance": [],
      "include_colab_link": true
    },
    "kernelspec": {
      "display_name": "Python 3",
      "name": "python3"
    },
    "language_info": {
      "name": "python"
    }
  },
  "nbformat": 4,
  "nbformat_minor": 0
}