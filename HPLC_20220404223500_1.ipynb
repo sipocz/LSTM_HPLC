{
  "cells": [
    {
      "cell_type": "markdown",
      "metadata": {
        "id": "view-in-github",
        "colab_type": "text"
      },
      "source": [
        "<a href=\"https://colab.research.google.com/github/sipocz/LSTM_HPLC/blob/main/HPLC_20220404223500_1.ipynb\" target=\"_parent\"><img src=\"https://colab.research.google.com/assets/colab-badge.svg\" alt=\"Open In Colab\"/></a>"
      ]
    },
    {
      "cell_type": "code",
      "execution_count": 14,
      "metadata": {
        "id": "3VoDnJFuApPY"
      },
      "outputs": [],
      "source": [
        ""
      ]
    },
    {
      "cell_type": "code",
      "execution_count": 15,
      "metadata": {
        "id": "lS8T-dxnwfjO"
      },
      "outputs": [],
      "source": [
        "import pandas as pd"
      ]
    },
    {
      "cell_type": "code",
      "execution_count": 16,
      "metadata": {
        "id": "xFjap2PTfYbv"
      },
      "outputs": [],
      "source": [
        "#emoji_url=\"https://github.com/sipocz/Twitter-Sentiment-Analysis-AI-Challenge/raw/5e7d7d29f58be438f33fa0c0bc2fd251dea0b453/emoji.py\"\n",
        "#!rm emoji.py\n",
        "#!wget $emoji_url\n",
        "#import emoji"
      ]
    },
    {
      "cell_type": "code",
      "execution_count": 17,
      "metadata": {
        "colab": {
          "base_uri": "https://localhost:8080/"
        },
        "id": "lDUZMjUkgIIe",
        "outputId": "28302b40-a464-496e-fd25-db48171bb4b6"
      },
      "outputs": [
        {
          "output_type": "stream",
          "name": "stdout",
          "text": [
            "--2022-04-04 19:28:11--  https://github.com/sipocz/LSTM_HPLC/raw/3a447ab5d1d37cdcbcb4d931ce7d73518359c8b2/orig/Nmer2.csv\n",
            "Resolving github.com (github.com)... 140.82.121.3\n",
            "Connecting to github.com (github.com)|140.82.121.3|:443... connected.\n",
            "HTTP request sent, awaiting response... 302 Found\n",
            "Location: https://raw.githubusercontent.com/sipocz/LSTM_HPLC/3a447ab5d1d37cdcbcb4d931ce7d73518359c8b2/orig/Nmer2.csv [following]\n",
            "--2022-04-04 19:28:11--  https://raw.githubusercontent.com/sipocz/LSTM_HPLC/3a447ab5d1d37cdcbcb4d931ce7d73518359c8b2/orig/Nmer2.csv\n",
            "Resolving raw.githubusercontent.com (raw.githubusercontent.com)... 185.199.108.133, 185.199.109.133, 185.199.110.133, ...\n",
            "Connecting to raw.githubusercontent.com (raw.githubusercontent.com)|185.199.108.133|:443... connected.\n",
            "HTTP request sent, awaiting response... 200 OK\n",
            "Length: 15772588 (15M) [text/plain]\n",
            "Saving to: ‘Nmer2.csv’\n",
            "\n",
            "\rNmer2.csv             0%[                    ]       0  --.-KB/s               \rNmer2.csv           100%[===================>]  15.04M  --.-KB/s    in 0.07s   \n",
            "\n",
            "2022-04-04 19:28:11 (227 MB/s) - ‘Nmer2.csv’ saved [15772588/15772588]\n",
            "\n"
          ]
        }
      ],
      "source": [
        "!rm *Nmer2*\n",
        "\n",
        "!wget https://github.com/sipocz/LSTM_HPLC/raw/3a447ab5d1d37cdcbcb4d931ce7d73518359c8b2/orig/Nmer2.csv\n",
        "#!wget https://github.com/sipocz/LSTM_HPLC/raw/4371b1ef331c9d0f304e25117f160b979bb39661/orig/N_m3.csv\n",
        "\n",
        "\n"
      ]
    },
    {
      "cell_type": "code",
      "execution_count": 18,
      "metadata": {
        "id": "NFiNZuPMkfGl"
      },
      "outputs": [],
      "source": [
        "df=pd.read_csv(\"Nmer2.csv\",sep=\",\",skiprows=1,)\n"
      ]
    },
    {
      "cell_type": "code",
      "execution_count": 18,
      "metadata": {
        "id": "nCjVAcb2iJZy"
      },
      "outputs": [],
      "source": [
        ""
      ]
    },
    {
      "cell_type": "code",
      "execution_count": 19,
      "metadata": {
        "colab": {
          "base_uri": "https://localhost:8080/",
          "height": 317
        },
        "id": "YDtEcJB5haQF",
        "outputId": "4074de49-e682-479a-b4c5-d665dec51e5c"
      },
      "outputs": [
        {
          "output_type": "execute_result",
          "data": {
            "text/plain": [
              "                 time        0  0.00333333  0.00666667      0.01  0.0133333  \\\n",
              "0  M13127N_detect3020  1.68793     1.41315    0.755643  0.480864   0.255152   \n",
              "1  M13144N_detect3020  1.92345     1.32483    0.863592  0.559372   0.323847   \n",
              "2  M13153N_detect3020  1.88420     1.27576    0.853778  0.569185   0.333661   \n",
              "3  M14028N_detect3020  0.00000     1.42296    0.942100  0.598626   0.382728   \n",
              "4  M14049N_detect3020  1.59961     1.07949    0.706575  0.441609   0.235525   \n",
              "\n",
              "   0.0166667      0.02  0.0233333  0.0266667  ...  47.9167  47.92  47.9233  \\\n",
              "0   0.107949  0.000000        0.0        0.0  ...      0.0    0.0      0.0   \n",
              "1   0.176644  0.039254        0.0        0.0  ...      0.0    0.0      0.0   \n",
              "2   0.166830  0.039254        0.0        0.0  ...      0.0    0.0      0.0   \n",
              "3   0.206084  0.058881        0.0        0.0  ...      0.0    0.0      0.0   \n",
              "4   0.117762  0.000000        0.0        0.0  ...      0.0    0.0      0.0   \n",
              "\n",
              "   47.9267  47.93  47.9333  47.9367  47.94  Unnamed: 14384  Unnamed: 14385  \n",
              "0      0.0    0.0      0.0      0.0    0.0     2524.709798        megfelel  \n",
              "1      0.0    0.0      0.0      0.0    0.0     2422.244040        megfelel  \n",
              "2      0.0    0.0      0.0      0.0    0.0     2529.530277        megfelel  \n",
              "3      0.0    0.0      0.0      0.0    0.0     2433.146990        megfelel  \n",
              "4      0.0    0.0      0.0      0.0    0.0     2652.605677        megfelel  \n",
              "\n",
              "[5 rows x 14386 columns]"
            ],
            "text/html": [
              "\n",
              "  <div id=\"df-0323677e-cef2-43a4-b419-b5287b2c5c5d\">\n",
              "    <div class=\"colab-df-container\">\n",
              "      <div>\n",
              "<style scoped>\n",
              "    .dataframe tbody tr th:only-of-type {\n",
              "        vertical-align: middle;\n",
              "    }\n",
              "\n",
              "    .dataframe tbody tr th {\n",
              "        vertical-align: top;\n",
              "    }\n",
              "\n",
              "    .dataframe thead th {\n",
              "        text-align: right;\n",
              "    }\n",
              "</style>\n",
              "<table border=\"1\" class=\"dataframe\">\n",
              "  <thead>\n",
              "    <tr style=\"text-align: right;\">\n",
              "      <th></th>\n",
              "      <th>time</th>\n",
              "      <th>0</th>\n",
              "      <th>0.00333333</th>\n",
              "      <th>0.00666667</th>\n",
              "      <th>0.01</th>\n",
              "      <th>0.0133333</th>\n",
              "      <th>0.0166667</th>\n",
              "      <th>0.02</th>\n",
              "      <th>0.0233333</th>\n",
              "      <th>0.0266667</th>\n",
              "      <th>...</th>\n",
              "      <th>47.9167</th>\n",
              "      <th>47.92</th>\n",
              "      <th>47.9233</th>\n",
              "      <th>47.9267</th>\n",
              "      <th>47.93</th>\n",
              "      <th>47.9333</th>\n",
              "      <th>47.9367</th>\n",
              "      <th>47.94</th>\n",
              "      <th>Unnamed: 14384</th>\n",
              "      <th>Unnamed: 14385</th>\n",
              "    </tr>\n",
              "  </thead>\n",
              "  <tbody>\n",
              "    <tr>\n",
              "      <th>0</th>\n",
              "      <td>M13127N_detect3020</td>\n",
              "      <td>1.68793</td>\n",
              "      <td>1.41315</td>\n",
              "      <td>0.755643</td>\n",
              "      <td>0.480864</td>\n",
              "      <td>0.255152</td>\n",
              "      <td>0.107949</td>\n",
              "      <td>0.000000</td>\n",
              "      <td>0.0</td>\n",
              "      <td>0.0</td>\n",
              "      <td>...</td>\n",
              "      <td>0.0</td>\n",
              "      <td>0.0</td>\n",
              "      <td>0.0</td>\n",
              "      <td>0.0</td>\n",
              "      <td>0.0</td>\n",
              "      <td>0.0</td>\n",
              "      <td>0.0</td>\n",
              "      <td>0.0</td>\n",
              "      <td>2524.709798</td>\n",
              "      <td>megfelel</td>\n",
              "    </tr>\n",
              "    <tr>\n",
              "      <th>1</th>\n",
              "      <td>M13144N_detect3020</td>\n",
              "      <td>1.92345</td>\n",
              "      <td>1.32483</td>\n",
              "      <td>0.863592</td>\n",
              "      <td>0.559372</td>\n",
              "      <td>0.323847</td>\n",
              "      <td>0.176644</td>\n",
              "      <td>0.039254</td>\n",
              "      <td>0.0</td>\n",
              "      <td>0.0</td>\n",
              "      <td>...</td>\n",
              "      <td>0.0</td>\n",
              "      <td>0.0</td>\n",
              "      <td>0.0</td>\n",
              "      <td>0.0</td>\n",
              "      <td>0.0</td>\n",
              "      <td>0.0</td>\n",
              "      <td>0.0</td>\n",
              "      <td>0.0</td>\n",
              "      <td>2422.244040</td>\n",
              "      <td>megfelel</td>\n",
              "    </tr>\n",
              "    <tr>\n",
              "      <th>2</th>\n",
              "      <td>M13153N_detect3020</td>\n",
              "      <td>1.88420</td>\n",
              "      <td>1.27576</td>\n",
              "      <td>0.853778</td>\n",
              "      <td>0.569185</td>\n",
              "      <td>0.333661</td>\n",
              "      <td>0.166830</td>\n",
              "      <td>0.039254</td>\n",
              "      <td>0.0</td>\n",
              "      <td>0.0</td>\n",
              "      <td>...</td>\n",
              "      <td>0.0</td>\n",
              "      <td>0.0</td>\n",
              "      <td>0.0</td>\n",
              "      <td>0.0</td>\n",
              "      <td>0.0</td>\n",
              "      <td>0.0</td>\n",
              "      <td>0.0</td>\n",
              "      <td>0.0</td>\n",
              "      <td>2529.530277</td>\n",
              "      <td>megfelel</td>\n",
              "    </tr>\n",
              "    <tr>\n",
              "      <th>3</th>\n",
              "      <td>M14028N_detect3020</td>\n",
              "      <td>0.00000</td>\n",
              "      <td>1.42296</td>\n",
              "      <td>0.942100</td>\n",
              "      <td>0.598626</td>\n",
              "      <td>0.382728</td>\n",
              "      <td>0.206084</td>\n",
              "      <td>0.058881</td>\n",
              "      <td>0.0</td>\n",
              "      <td>0.0</td>\n",
              "      <td>...</td>\n",
              "      <td>0.0</td>\n",
              "      <td>0.0</td>\n",
              "      <td>0.0</td>\n",
              "      <td>0.0</td>\n",
              "      <td>0.0</td>\n",
              "      <td>0.0</td>\n",
              "      <td>0.0</td>\n",
              "      <td>0.0</td>\n",
              "      <td>2433.146990</td>\n",
              "      <td>megfelel</td>\n",
              "    </tr>\n",
              "    <tr>\n",
              "      <th>4</th>\n",
              "      <td>M14049N_detect3020</td>\n",
              "      <td>1.59961</td>\n",
              "      <td>1.07949</td>\n",
              "      <td>0.706575</td>\n",
              "      <td>0.441609</td>\n",
              "      <td>0.235525</td>\n",
              "      <td>0.117762</td>\n",
              "      <td>0.000000</td>\n",
              "      <td>0.0</td>\n",
              "      <td>0.0</td>\n",
              "      <td>...</td>\n",
              "      <td>0.0</td>\n",
              "      <td>0.0</td>\n",
              "      <td>0.0</td>\n",
              "      <td>0.0</td>\n",
              "      <td>0.0</td>\n",
              "      <td>0.0</td>\n",
              "      <td>0.0</td>\n",
              "      <td>0.0</td>\n",
              "      <td>2652.605677</td>\n",
              "      <td>megfelel</td>\n",
              "    </tr>\n",
              "  </tbody>\n",
              "</table>\n",
              "<p>5 rows × 14386 columns</p>\n",
              "</div>\n",
              "      <button class=\"colab-df-convert\" onclick=\"convertToInteractive('df-0323677e-cef2-43a4-b419-b5287b2c5c5d')\"\n",
              "              title=\"Convert this dataframe to an interactive table.\"\n",
              "              style=\"display:none;\">\n",
              "        \n",
              "  <svg xmlns=\"http://www.w3.org/2000/svg\" height=\"24px\"viewBox=\"0 0 24 24\"\n",
              "       width=\"24px\">\n",
              "    <path d=\"M0 0h24v24H0V0z\" fill=\"none\"/>\n",
              "    <path d=\"M18.56 5.44l.94 2.06.94-2.06 2.06-.94-2.06-.94-.94-2.06-.94 2.06-2.06.94zm-11 1L8.5 8.5l.94-2.06 2.06-.94-2.06-.94L8.5 2.5l-.94 2.06-2.06.94zm10 10l.94 2.06.94-2.06 2.06-.94-2.06-.94-.94-2.06-.94 2.06-2.06.94z\"/><path d=\"M17.41 7.96l-1.37-1.37c-.4-.4-.92-.59-1.43-.59-.52 0-1.04.2-1.43.59L10.3 9.45l-7.72 7.72c-.78.78-.78 2.05 0 2.83L4 21.41c.39.39.9.59 1.41.59.51 0 1.02-.2 1.41-.59l7.78-7.78 2.81-2.81c.8-.78.8-2.07 0-2.86zM5.41 20L4 18.59l7.72-7.72 1.47 1.35L5.41 20z\"/>\n",
              "  </svg>\n",
              "      </button>\n",
              "      \n",
              "  <style>\n",
              "    .colab-df-container {\n",
              "      display:flex;\n",
              "      flex-wrap:wrap;\n",
              "      gap: 12px;\n",
              "    }\n",
              "\n",
              "    .colab-df-convert {\n",
              "      background-color: #E8F0FE;\n",
              "      border: none;\n",
              "      border-radius: 50%;\n",
              "      cursor: pointer;\n",
              "      display: none;\n",
              "      fill: #1967D2;\n",
              "      height: 32px;\n",
              "      padding: 0 0 0 0;\n",
              "      width: 32px;\n",
              "    }\n",
              "\n",
              "    .colab-df-convert:hover {\n",
              "      background-color: #E2EBFA;\n",
              "      box-shadow: 0px 1px 2px rgba(60, 64, 67, 0.3), 0px 1px 3px 1px rgba(60, 64, 67, 0.15);\n",
              "      fill: #174EA6;\n",
              "    }\n",
              "\n",
              "    [theme=dark] .colab-df-convert {\n",
              "      background-color: #3B4455;\n",
              "      fill: #D2E3FC;\n",
              "    }\n",
              "\n",
              "    [theme=dark] .colab-df-convert:hover {\n",
              "      background-color: #434B5C;\n",
              "      box-shadow: 0px 1px 3px 1px rgba(0, 0, 0, 0.15);\n",
              "      filter: drop-shadow(0px 1px 2px rgba(0, 0, 0, 0.3));\n",
              "      fill: #FFFFFF;\n",
              "    }\n",
              "  </style>\n",
              "\n",
              "      <script>\n",
              "        const buttonEl =\n",
              "          document.querySelector('#df-0323677e-cef2-43a4-b419-b5287b2c5c5d button.colab-df-convert');\n",
              "        buttonEl.style.display =\n",
              "          google.colab.kernel.accessAllowed ? 'block' : 'none';\n",
              "\n",
              "        async function convertToInteractive(key) {\n",
              "          const element = document.querySelector('#df-0323677e-cef2-43a4-b419-b5287b2c5c5d');\n",
              "          const dataTable =\n",
              "            await google.colab.kernel.invokeFunction('convertToInteractive',\n",
              "                                                     [key], {});\n",
              "          if (!dataTable) return;\n",
              "\n",
              "          const docLinkHtml = 'Like what you see? Visit the ' +\n",
              "            '<a target=\"_blank\" href=https://colab.research.google.com/notebooks/data_table.ipynb>data table notebook</a>'\n",
              "            + ' to learn more about interactive tables.';\n",
              "          element.innerHTML = '';\n",
              "          dataTable['output_type'] = 'display_data';\n",
              "          await google.colab.output.renderOutput(dataTable, element);\n",
              "          const docLink = document.createElement('div');\n",
              "          docLink.innerHTML = docLinkHtml;\n",
              "          element.appendChild(docLink);\n",
              "        }\n",
              "      </script>\n",
              "    </div>\n",
              "  </div>\n",
              "  "
            ]
          },
          "metadata": {},
          "execution_count": 19
        }
      ],
      "source": [
        "df.head()\n",
        "\n"
      ]
    },
    {
      "cell_type": "code",
      "execution_count": 20,
      "metadata": {
        "id": "4arFXoEAuVVh"
      },
      "outputs": [],
      "source": [
        "col=df.columns"
      ]
    },
    {
      "cell_type": "code",
      "source": [
        ""
      ],
      "metadata": {
        "id": "DxpDNE_3TgCM"
      },
      "execution_count": 20,
      "outputs": []
    },
    {
      "cell_type": "code",
      "execution_count": 21,
      "metadata": {
        "id": "dA8Mk878pUdU"
      },
      "outputs": [],
      "source": [
        "df_X=df[col[11000:-2]]\n"
      ]
    },
    {
      "cell_type": "code",
      "execution_count": 22,
      "metadata": {
        "colab": {
          "base_uri": "https://localhost:8080/",
          "height": 235
        },
        "id": "fkrSKZswuyF1",
        "outputId": "2cb339f7-1172-486a-ed1b-2777cce3092e"
      },
      "outputs": [
        {
          "output_type": "execute_result",
          "data": {
            "text/plain": [
              "   36.6633  36.6667  36.67  36.6733  36.6767  36.68  36.6833  36.6867  36.69  \\\n",
              "0      0.0      0.0    0.0      0.0      0.0    0.0      0.0      0.0    0.0   \n",
              "1      0.0      0.0    0.0      0.0      0.0    0.0      0.0      0.0    0.0   \n",
              "2      0.0      0.0    0.0      0.0      0.0    0.0      0.0      0.0    0.0   \n",
              "3      0.0      0.0    0.0      0.0      0.0    0.0      0.0      0.0    0.0   \n",
              "4      0.0      0.0    0.0      0.0      0.0    0.0      0.0      0.0    0.0   \n",
              "\n",
              "   36.6933  ...  47.91  47.9133  47.9167  47.92  47.9233  47.9267  47.93  \\\n",
              "0      0.0  ...    0.0      0.0      0.0    0.0      0.0      0.0    0.0   \n",
              "1      0.0  ...    0.0      0.0      0.0    0.0      0.0      0.0    0.0   \n",
              "2      0.0  ...    0.0      0.0      0.0    0.0      0.0      0.0    0.0   \n",
              "3      0.0  ...    0.0      0.0      0.0    0.0      0.0      0.0    0.0   \n",
              "4      0.0  ...    0.0      0.0      0.0    0.0      0.0      0.0    0.0   \n",
              "\n",
              "   47.9333  47.9367  47.94  \n",
              "0      0.0      0.0    0.0  \n",
              "1      0.0      0.0    0.0  \n",
              "2      0.0      0.0    0.0  \n",
              "3      0.0      0.0    0.0  \n",
              "4      0.0      0.0    0.0  \n",
              "\n",
              "[5 rows x 3384 columns]"
            ],
            "text/html": [
              "\n",
              "  <div id=\"df-21239a2f-688f-45d4-af23-c07a699488b9\">\n",
              "    <div class=\"colab-df-container\">\n",
              "      <div>\n",
              "<style scoped>\n",
              "    .dataframe tbody tr th:only-of-type {\n",
              "        vertical-align: middle;\n",
              "    }\n",
              "\n",
              "    .dataframe tbody tr th {\n",
              "        vertical-align: top;\n",
              "    }\n",
              "\n",
              "    .dataframe thead th {\n",
              "        text-align: right;\n",
              "    }\n",
              "</style>\n",
              "<table border=\"1\" class=\"dataframe\">\n",
              "  <thead>\n",
              "    <tr style=\"text-align: right;\">\n",
              "      <th></th>\n",
              "      <th>36.6633</th>\n",
              "      <th>36.6667</th>\n",
              "      <th>36.67</th>\n",
              "      <th>36.6733</th>\n",
              "      <th>36.6767</th>\n",
              "      <th>36.68</th>\n",
              "      <th>36.6833</th>\n",
              "      <th>36.6867</th>\n",
              "      <th>36.69</th>\n",
              "      <th>36.6933</th>\n",
              "      <th>...</th>\n",
              "      <th>47.91</th>\n",
              "      <th>47.9133</th>\n",
              "      <th>47.9167</th>\n",
              "      <th>47.92</th>\n",
              "      <th>47.9233</th>\n",
              "      <th>47.9267</th>\n",
              "      <th>47.93</th>\n",
              "      <th>47.9333</th>\n",
              "      <th>47.9367</th>\n",
              "      <th>47.94</th>\n",
              "    </tr>\n",
              "  </thead>\n",
              "  <tbody>\n",
              "    <tr>\n",
              "      <th>0</th>\n",
              "      <td>0.0</td>\n",
              "      <td>0.0</td>\n",
              "      <td>0.0</td>\n",
              "      <td>0.0</td>\n",
              "      <td>0.0</td>\n",
              "      <td>0.0</td>\n",
              "      <td>0.0</td>\n",
              "      <td>0.0</td>\n",
              "      <td>0.0</td>\n",
              "      <td>0.0</td>\n",
              "      <td>...</td>\n",
              "      <td>0.0</td>\n",
              "      <td>0.0</td>\n",
              "      <td>0.0</td>\n",
              "      <td>0.0</td>\n",
              "      <td>0.0</td>\n",
              "      <td>0.0</td>\n",
              "      <td>0.0</td>\n",
              "      <td>0.0</td>\n",
              "      <td>0.0</td>\n",
              "      <td>0.0</td>\n",
              "    </tr>\n",
              "    <tr>\n",
              "      <th>1</th>\n",
              "      <td>0.0</td>\n",
              "      <td>0.0</td>\n",
              "      <td>0.0</td>\n",
              "      <td>0.0</td>\n",
              "      <td>0.0</td>\n",
              "      <td>0.0</td>\n",
              "      <td>0.0</td>\n",
              "      <td>0.0</td>\n",
              "      <td>0.0</td>\n",
              "      <td>0.0</td>\n",
              "      <td>...</td>\n",
              "      <td>0.0</td>\n",
              "      <td>0.0</td>\n",
              "      <td>0.0</td>\n",
              "      <td>0.0</td>\n",
              "      <td>0.0</td>\n",
              "      <td>0.0</td>\n",
              "      <td>0.0</td>\n",
              "      <td>0.0</td>\n",
              "      <td>0.0</td>\n",
              "      <td>0.0</td>\n",
              "    </tr>\n",
              "    <tr>\n",
              "      <th>2</th>\n",
              "      <td>0.0</td>\n",
              "      <td>0.0</td>\n",
              "      <td>0.0</td>\n",
              "      <td>0.0</td>\n",
              "      <td>0.0</td>\n",
              "      <td>0.0</td>\n",
              "      <td>0.0</td>\n",
              "      <td>0.0</td>\n",
              "      <td>0.0</td>\n",
              "      <td>0.0</td>\n",
              "      <td>...</td>\n",
              "      <td>0.0</td>\n",
              "      <td>0.0</td>\n",
              "      <td>0.0</td>\n",
              "      <td>0.0</td>\n",
              "      <td>0.0</td>\n",
              "      <td>0.0</td>\n",
              "      <td>0.0</td>\n",
              "      <td>0.0</td>\n",
              "      <td>0.0</td>\n",
              "      <td>0.0</td>\n",
              "    </tr>\n",
              "    <tr>\n",
              "      <th>3</th>\n",
              "      <td>0.0</td>\n",
              "      <td>0.0</td>\n",
              "      <td>0.0</td>\n",
              "      <td>0.0</td>\n",
              "      <td>0.0</td>\n",
              "      <td>0.0</td>\n",
              "      <td>0.0</td>\n",
              "      <td>0.0</td>\n",
              "      <td>0.0</td>\n",
              "      <td>0.0</td>\n",
              "      <td>...</td>\n",
              "      <td>0.0</td>\n",
              "      <td>0.0</td>\n",
              "      <td>0.0</td>\n",
              "      <td>0.0</td>\n",
              "      <td>0.0</td>\n",
              "      <td>0.0</td>\n",
              "      <td>0.0</td>\n",
              "      <td>0.0</td>\n",
              "      <td>0.0</td>\n",
              "      <td>0.0</td>\n",
              "    </tr>\n",
              "    <tr>\n",
              "      <th>4</th>\n",
              "      <td>0.0</td>\n",
              "      <td>0.0</td>\n",
              "      <td>0.0</td>\n",
              "      <td>0.0</td>\n",
              "      <td>0.0</td>\n",
              "      <td>0.0</td>\n",
              "      <td>0.0</td>\n",
              "      <td>0.0</td>\n",
              "      <td>0.0</td>\n",
              "      <td>0.0</td>\n",
              "      <td>...</td>\n",
              "      <td>0.0</td>\n",
              "      <td>0.0</td>\n",
              "      <td>0.0</td>\n",
              "      <td>0.0</td>\n",
              "      <td>0.0</td>\n",
              "      <td>0.0</td>\n",
              "      <td>0.0</td>\n",
              "      <td>0.0</td>\n",
              "      <td>0.0</td>\n",
              "      <td>0.0</td>\n",
              "    </tr>\n",
              "  </tbody>\n",
              "</table>\n",
              "<p>5 rows × 3384 columns</p>\n",
              "</div>\n",
              "      <button class=\"colab-df-convert\" onclick=\"convertToInteractive('df-21239a2f-688f-45d4-af23-c07a699488b9')\"\n",
              "              title=\"Convert this dataframe to an interactive table.\"\n",
              "              style=\"display:none;\">\n",
              "        \n",
              "  <svg xmlns=\"http://www.w3.org/2000/svg\" height=\"24px\"viewBox=\"0 0 24 24\"\n",
              "       width=\"24px\">\n",
              "    <path d=\"M0 0h24v24H0V0z\" fill=\"none\"/>\n",
              "    <path d=\"M18.56 5.44l.94 2.06.94-2.06 2.06-.94-2.06-.94-.94-2.06-.94 2.06-2.06.94zm-11 1L8.5 8.5l.94-2.06 2.06-.94-2.06-.94L8.5 2.5l-.94 2.06-2.06.94zm10 10l.94 2.06.94-2.06 2.06-.94-2.06-.94-.94-2.06-.94 2.06-2.06.94z\"/><path d=\"M17.41 7.96l-1.37-1.37c-.4-.4-.92-.59-1.43-.59-.52 0-1.04.2-1.43.59L10.3 9.45l-7.72 7.72c-.78.78-.78 2.05 0 2.83L4 21.41c.39.39.9.59 1.41.59.51 0 1.02-.2 1.41-.59l7.78-7.78 2.81-2.81c.8-.78.8-2.07 0-2.86zM5.41 20L4 18.59l7.72-7.72 1.47 1.35L5.41 20z\"/>\n",
              "  </svg>\n",
              "      </button>\n",
              "      \n",
              "  <style>\n",
              "    .colab-df-container {\n",
              "      display:flex;\n",
              "      flex-wrap:wrap;\n",
              "      gap: 12px;\n",
              "    }\n",
              "\n",
              "    .colab-df-convert {\n",
              "      background-color: #E8F0FE;\n",
              "      border: none;\n",
              "      border-radius: 50%;\n",
              "      cursor: pointer;\n",
              "      display: none;\n",
              "      fill: #1967D2;\n",
              "      height: 32px;\n",
              "      padding: 0 0 0 0;\n",
              "      width: 32px;\n",
              "    }\n",
              "\n",
              "    .colab-df-convert:hover {\n",
              "      background-color: #E2EBFA;\n",
              "      box-shadow: 0px 1px 2px rgba(60, 64, 67, 0.3), 0px 1px 3px 1px rgba(60, 64, 67, 0.15);\n",
              "      fill: #174EA6;\n",
              "    }\n",
              "\n",
              "    [theme=dark] .colab-df-convert {\n",
              "      background-color: #3B4455;\n",
              "      fill: #D2E3FC;\n",
              "    }\n",
              "\n",
              "    [theme=dark] .colab-df-convert:hover {\n",
              "      background-color: #434B5C;\n",
              "      box-shadow: 0px 1px 3px 1px rgba(0, 0, 0, 0.15);\n",
              "      filter: drop-shadow(0px 1px 2px rgba(0, 0, 0, 0.3));\n",
              "      fill: #FFFFFF;\n",
              "    }\n",
              "  </style>\n",
              "\n",
              "      <script>\n",
              "        const buttonEl =\n",
              "          document.querySelector('#df-21239a2f-688f-45d4-af23-c07a699488b9 button.colab-df-convert');\n",
              "        buttonEl.style.display =\n",
              "          google.colab.kernel.accessAllowed ? 'block' : 'none';\n",
              "\n",
              "        async function convertToInteractive(key) {\n",
              "          const element = document.querySelector('#df-21239a2f-688f-45d4-af23-c07a699488b9');\n",
              "          const dataTable =\n",
              "            await google.colab.kernel.invokeFunction('convertToInteractive',\n",
              "                                                     [key], {});\n",
              "          if (!dataTable) return;\n",
              "\n",
              "          const docLinkHtml = 'Like what you see? Visit the ' +\n",
              "            '<a target=\"_blank\" href=https://colab.research.google.com/notebooks/data_table.ipynb>data table notebook</a>'\n",
              "            + ' to learn more about interactive tables.';\n",
              "          element.innerHTML = '';\n",
              "          dataTable['output_type'] = 'display_data';\n",
              "          await google.colab.output.renderOutput(dataTable, element);\n",
              "          const docLink = document.createElement('div');\n",
              "          docLink.innerHTML = docLinkHtml;\n",
              "          element.appendChild(docLink);\n",
              "        }\n",
              "      </script>\n",
              "    </div>\n",
              "  </div>\n",
              "  "
            ]
          },
          "metadata": {},
          "execution_count": 22
        }
      ],
      "source": [
        "df_X.head()"
      ]
    },
    {
      "cell_type": "code",
      "source": [
        ""
      ],
      "metadata": {
        "id": "x0YQyPvuTa_9"
      },
      "execution_count": 22,
      "outputs": []
    },
    {
      "cell_type": "code",
      "execution_count": 23,
      "metadata": {
        "id": "OczaGqbTqKgz"
      },
      "outputs": [],
      "source": [
        "df_y=df[col[-2:-1]]"
      ]
    },
    {
      "cell_type": "code",
      "execution_count": 24,
      "metadata": {
        "id": "dLG_fYjUiUSU"
      },
      "outputs": [],
      "source": [
        "df_y2=df[col[-1]]"
      ]
    },
    {
      "cell_type": "code",
      "execution_count": 25,
      "metadata": {
        "colab": {
          "base_uri": "https://localhost:8080/"
        },
        "id": "NCzr89LSiaM8",
        "outputId": "56eb51d3-fbd4-4212-eb7c-f71055fc24c4"
      },
      "outputs": [
        {
          "output_type": "execute_result",
          "data": {
            "text/plain": [
              "0      megfelel\n",
              "1      megfelel\n",
              "2      megfelel\n",
              "3      megfelel\n",
              "4      megfelel\n",
              "         ...   \n",
              "200    megfelel\n",
              "201    megfelel\n",
              "202    megfelel\n",
              "203    megfelel\n",
              "204    megfelel\n",
              "Name: Unnamed: 14385, Length: 205, dtype: object"
            ]
          },
          "metadata": {},
          "execution_count": 25
        }
      ],
      "source": [
        "df_y2"
      ]
    },
    {
      "cell_type": "code",
      "execution_count": 26,
      "metadata": {
        "id": "K9oEj5UHjCg_"
      },
      "outputs": [],
      "source": [
        "from sklearn.preprocessing import LabelEncoder\n",
        "\n",
        "LE = LabelEncoder()\n",
        "df[\"coded\"] = LE.fit_transform(df_y2)\n",
        "\n"
      ]
    },
    {
      "cell_type": "code",
      "execution_count": 27,
      "metadata": {
        "id": "3B5dWWjxB2yN"
      },
      "outputs": [],
      "source": [
        "df_y.columns=[\"Value\"]"
      ]
    },
    {
      "cell_type": "code",
      "execution_count": 28,
      "metadata": {
        "colab": {
          "base_uri": "https://localhost:8080/"
        },
        "id": "I_b6_UVJN64t",
        "outputId": "01c6f7f6-6b6a-4ed7-8474-8f276b001cbc"
      },
      "outputs": [
        {
          "output_type": "execute_result",
          "data": {
            "text/plain": [
              "count     205.000000\n",
              "mean     2185.517049\n",
              "std       370.014482\n",
              "min       231.169975\n",
              "25%      2054.040078\n",
              "50%      2243.486861\n",
              "75%      2422.116922\n",
              "max      2739.643728\n",
              "Name: Value, dtype: float64"
            ]
          },
          "metadata": {},
          "execution_count": 28
        }
      ],
      "source": [
        "df_y.Value.describe()"
      ]
    },
    {
      "cell_type": "code",
      "execution_count": 29,
      "metadata": {
        "id": "LDFiWnELjilf"
      },
      "outputs": [],
      "source": [
        "df_y2=df[\"coded\"]"
      ]
    },
    {
      "cell_type": "code",
      "execution_count": 29,
      "metadata": {
        "id": "fo6w0xCWjij9"
      },
      "outputs": [],
      "source": [
        ""
      ]
    },
    {
      "cell_type": "code",
      "execution_count": 30,
      "metadata": {
        "id": "KOBK9cMiBw2h"
      },
      "outputs": [],
      "source": [
        "def min_max_scaling(series):\n",
        "    return (series - series.min()) / (series.max() - series.min())"
      ]
    },
    {
      "cell_type": "code",
      "execution_count": 31,
      "metadata": {
        "colab": {
          "base_uri": "https://localhost:8080/"
        },
        "id": "TflhyEeDCnWk",
        "outputId": "7b63229c-fc94-4d95-9025-b45185df1108"
      },
      "outputs": [
        {
          "output_type": "execute_result",
          "data": {
            "text/plain": [
              "231.1699753"
            ]
          },
          "metadata": {},
          "execution_count": 31
        }
      ],
      "source": [
        "df_y.Value.min()"
      ]
    },
    {
      "cell_type": "code",
      "execution_count": 32,
      "metadata": {
        "id": "d-MBR9tevMFW"
      },
      "outputs": [],
      "source": [
        "df_y_scaled=min_max_scaling(df_y.Value)"
      ]
    },
    {
      "cell_type": "code",
      "execution_count": 33,
      "metadata": {
        "colab": {
          "base_uri": "https://localhost:8080/"
        },
        "id": "2vGSDdwGqneG",
        "outputId": "3a9ee2a5-1fd1-4888-fb29-754a595cbd17"
      },
      "outputs": [
        {
          "output_type": "execute_result",
          "data": {
            "text/plain": [
              "0    0.914317\n",
              "1    0.873469\n",
              "2    0.916239\n",
              "3    0.877815\n",
              "4    0.965302\n",
              "Name: Value, dtype: float64"
            ]
          },
          "metadata": {},
          "execution_count": 33
        }
      ],
      "source": [
        "df_y_scaled.head()\n"
      ]
    },
    {
      "cell_type": "code",
      "execution_count": 33,
      "metadata": {
        "id": "UwyEcsOxmiC1"
      },
      "outputs": [],
      "source": [
        ""
      ]
    },
    {
      "cell_type": "markdown",
      "metadata": {
        "id": "KzMOTKbN2G3R"
      },
      "source": [
        "##Mentés"
      ]
    },
    {
      "cell_type": "code",
      "execution_count": 34,
      "metadata": {
        "id": "t8zcn0gafG-W"
      },
      "outputs": [],
      "source": [
        "import pandas as pd"
      ]
    },
    {
      "cell_type": "code",
      "execution_count": 34,
      "metadata": {
        "id": "fsQObqfegZ7M"
      },
      "outputs": [],
      "source": [
        ""
      ]
    },
    {
      "cell_type": "code",
      "execution_count": 35,
      "metadata": {
        "id": "LshFLrqKMVuR"
      },
      "outputs": [],
      "source": [
        "#df_train=pd.read_csv(\"train_200.csv\")\n",
        "#df_test=pd.read_csv(\"test_200.csv\")\n"
      ]
    },
    {
      "cell_type": "code",
      "execution_count": 36,
      "metadata": {
        "id": "x3HJcQ35MWAn"
      },
      "outputs": [],
      "source": [
        "import pandas as pd"
      ]
    },
    {
      "cell_type": "markdown",
      "metadata": {
        "id": "XomafEhUMWAp"
      },
      "source": [
        "### adatbetöltés mondatok betöltése"
      ]
    },
    {
      "cell_type": "code",
      "execution_count": 36,
      "metadata": {
        "id": "9w60OcdVMWAp"
      },
      "outputs": [],
      "source": [
        ""
      ]
    },
    {
      "cell_type": "markdown",
      "metadata": {
        "id": "oqbe8kFxgJav"
      },
      "source": [
        "##Tanulás"
      ]
    },
    {
      "cell_type": "code",
      "execution_count": 37,
      "metadata": {
        "id": "tRf3_wt9Bekb"
      },
      "outputs": [],
      "source": [
        "__MAXWORD__=len(df_X.columns)\n"
      ]
    },
    {
      "cell_type": "code",
      "execution_count": 38,
      "metadata": {
        "colab": {
          "base_uri": "https://localhost:8080/"
        },
        "id": "1UwmBdEkijzv",
        "outputId": "cf58256a-2599-4509-b6da-ea747a8bc121"
      },
      "outputs": [
        {
          "output_type": "execute_result",
          "data": {
            "text/plain": [
              "3384"
            ]
          },
          "metadata": {},
          "execution_count": 38
        }
      ],
      "source": [
        "__MAXWORD__"
      ]
    },
    {
      "cell_type": "code",
      "execution_count": 39,
      "metadata": {
        "id": "59MTn_Fs3SvW"
      },
      "outputs": [],
      "source": [
        "lstm_size=25\n",
        "max_input_length=__MAXWORD__\n",
        "\n",
        "\n",
        "n_out=1"
      ]
    },
    {
      "cell_type": "code",
      "execution_count": 39,
      "metadata": {
        "id": "bD2F2akc1TJ5"
      },
      "outputs": [],
      "source": [
        ""
      ]
    },
    {
      "cell_type": "code",
      "execution_count": 40,
      "metadata": {
        "colab": {
          "base_uri": "https://localhost:8080/"
        },
        "id": "BS2bWgXsz2zc",
        "outputId": "1afb267d-5dfa-4f2c-b764-c738c20ba2f6"
      },
      "outputs": [
        {
          "output_type": "execute_result",
          "data": {
            "text/plain": [
              "1"
            ]
          },
          "metadata": {},
          "execution_count": 40
        }
      ],
      "source": [
        "\n",
        "#print(lens1)\n",
        "n_out"
      ]
    },
    {
      "cell_type": "code",
      "execution_count": 41,
      "metadata": {
        "colab": {
          "base_uri": "https://localhost:8080/",
          "height": 300
        },
        "id": "VKzA6vcSCEm-",
        "outputId": "0121ab05-7f12-4fed-ac0e-7a0ccbc1028d"
      },
      "outputs": [
        {
          "output_type": "execute_result",
          "data": {
            "text/plain": [
              "             Value\n",
              "count   205.000000\n",
              "mean   2185.517049\n",
              "std     370.014482\n",
              "min     231.169975\n",
              "25%    2054.040078\n",
              "50%    2243.486861\n",
              "75%    2422.116922\n",
              "max    2739.643728"
            ],
            "text/html": [
              "\n",
              "  <div id=\"df-54f7a387-f703-4129-8132-22d0324d90b9\">\n",
              "    <div class=\"colab-df-container\">\n",
              "      <div>\n",
              "<style scoped>\n",
              "    .dataframe tbody tr th:only-of-type {\n",
              "        vertical-align: middle;\n",
              "    }\n",
              "\n",
              "    .dataframe tbody tr th {\n",
              "        vertical-align: top;\n",
              "    }\n",
              "\n",
              "    .dataframe thead th {\n",
              "        text-align: right;\n",
              "    }\n",
              "</style>\n",
              "<table border=\"1\" class=\"dataframe\">\n",
              "  <thead>\n",
              "    <tr style=\"text-align: right;\">\n",
              "      <th></th>\n",
              "      <th>Value</th>\n",
              "    </tr>\n",
              "  </thead>\n",
              "  <tbody>\n",
              "    <tr>\n",
              "      <th>count</th>\n",
              "      <td>205.000000</td>\n",
              "    </tr>\n",
              "    <tr>\n",
              "      <th>mean</th>\n",
              "      <td>2185.517049</td>\n",
              "    </tr>\n",
              "    <tr>\n",
              "      <th>std</th>\n",
              "      <td>370.014482</td>\n",
              "    </tr>\n",
              "    <tr>\n",
              "      <th>min</th>\n",
              "      <td>231.169975</td>\n",
              "    </tr>\n",
              "    <tr>\n",
              "      <th>25%</th>\n",
              "      <td>2054.040078</td>\n",
              "    </tr>\n",
              "    <tr>\n",
              "      <th>50%</th>\n",
              "      <td>2243.486861</td>\n",
              "    </tr>\n",
              "    <tr>\n",
              "      <th>75%</th>\n",
              "      <td>2422.116922</td>\n",
              "    </tr>\n",
              "    <tr>\n",
              "      <th>max</th>\n",
              "      <td>2739.643728</td>\n",
              "    </tr>\n",
              "  </tbody>\n",
              "</table>\n",
              "</div>\n",
              "      <button class=\"colab-df-convert\" onclick=\"convertToInteractive('df-54f7a387-f703-4129-8132-22d0324d90b9')\"\n",
              "              title=\"Convert this dataframe to an interactive table.\"\n",
              "              style=\"display:none;\">\n",
              "        \n",
              "  <svg xmlns=\"http://www.w3.org/2000/svg\" height=\"24px\"viewBox=\"0 0 24 24\"\n",
              "       width=\"24px\">\n",
              "    <path d=\"M0 0h24v24H0V0z\" fill=\"none\"/>\n",
              "    <path d=\"M18.56 5.44l.94 2.06.94-2.06 2.06-.94-2.06-.94-.94-2.06-.94 2.06-2.06.94zm-11 1L8.5 8.5l.94-2.06 2.06-.94-2.06-.94L8.5 2.5l-.94 2.06-2.06.94zm10 10l.94 2.06.94-2.06 2.06-.94-2.06-.94-.94-2.06-.94 2.06-2.06.94z\"/><path d=\"M17.41 7.96l-1.37-1.37c-.4-.4-.92-.59-1.43-.59-.52 0-1.04.2-1.43.59L10.3 9.45l-7.72 7.72c-.78.78-.78 2.05 0 2.83L4 21.41c.39.39.9.59 1.41.59.51 0 1.02-.2 1.41-.59l7.78-7.78 2.81-2.81c.8-.78.8-2.07 0-2.86zM5.41 20L4 18.59l7.72-7.72 1.47 1.35L5.41 20z\"/>\n",
              "  </svg>\n",
              "      </button>\n",
              "      \n",
              "  <style>\n",
              "    .colab-df-container {\n",
              "      display:flex;\n",
              "      flex-wrap:wrap;\n",
              "      gap: 12px;\n",
              "    }\n",
              "\n",
              "    .colab-df-convert {\n",
              "      background-color: #E8F0FE;\n",
              "      border: none;\n",
              "      border-radius: 50%;\n",
              "      cursor: pointer;\n",
              "      display: none;\n",
              "      fill: #1967D2;\n",
              "      height: 32px;\n",
              "      padding: 0 0 0 0;\n",
              "      width: 32px;\n",
              "    }\n",
              "\n",
              "    .colab-df-convert:hover {\n",
              "      background-color: #E2EBFA;\n",
              "      box-shadow: 0px 1px 2px rgba(60, 64, 67, 0.3), 0px 1px 3px 1px rgba(60, 64, 67, 0.15);\n",
              "      fill: #174EA6;\n",
              "    }\n",
              "\n",
              "    [theme=dark] .colab-df-convert {\n",
              "      background-color: #3B4455;\n",
              "      fill: #D2E3FC;\n",
              "    }\n",
              "\n",
              "    [theme=dark] .colab-df-convert:hover {\n",
              "      background-color: #434B5C;\n",
              "      box-shadow: 0px 1px 3px 1px rgba(0, 0, 0, 0.15);\n",
              "      filter: drop-shadow(0px 1px 2px rgba(0, 0, 0, 0.3));\n",
              "      fill: #FFFFFF;\n",
              "    }\n",
              "  </style>\n",
              "\n",
              "      <script>\n",
              "        const buttonEl =\n",
              "          document.querySelector('#df-54f7a387-f703-4129-8132-22d0324d90b9 button.colab-df-convert');\n",
              "        buttonEl.style.display =\n",
              "          google.colab.kernel.accessAllowed ? 'block' : 'none';\n",
              "\n",
              "        async function convertToInteractive(key) {\n",
              "          const element = document.querySelector('#df-54f7a387-f703-4129-8132-22d0324d90b9');\n",
              "          const dataTable =\n",
              "            await google.colab.kernel.invokeFunction('convertToInteractive',\n",
              "                                                     [key], {});\n",
              "          if (!dataTable) return;\n",
              "\n",
              "          const docLinkHtml = 'Like what you see? Visit the ' +\n",
              "            '<a target=\"_blank\" href=https://colab.research.google.com/notebooks/data_table.ipynb>data table notebook</a>'\n",
              "            + ' to learn more about interactive tables.';\n",
              "          element.innerHTML = '';\n",
              "          dataTable['output_type'] = 'display_data';\n",
              "          await google.colab.output.renderOutput(dataTable, element);\n",
              "          const docLink = document.createElement('div');\n",
              "          docLink.innerHTML = docLinkHtml;\n",
              "          element.appendChild(docLink);\n",
              "        }\n",
              "      </script>\n",
              "    </div>\n",
              "  </div>\n",
              "  "
            ]
          },
          "metadata": {},
          "execution_count": 41
        }
      ],
      "source": [
        "df_y.describe()"
      ]
    },
    {
      "cell_type": "code",
      "execution_count": 42,
      "metadata": {
        "id": "B7UMww7mFieO"
      },
      "outputs": [],
      "source": [
        "bins_list=[i*20 for i in range(150)]"
      ]
    },
    {
      "cell_type": "code",
      "execution_count": 43,
      "metadata": {
        "colab": {
          "base_uri": "https://localhost:8080/",
          "height": 206
        },
        "id": "8u2USy7wPTrB",
        "outputId": "8a5c5c71-d4a0-44b5-ca8e-06fad0e67760"
      },
      "outputs": [
        {
          "output_type": "execute_result",
          "data": {
            "text/plain": [
              "         Value\n",
              "0  2524.709798\n",
              "1  2422.244040\n",
              "2  2529.530277\n",
              "3  2433.146990\n",
              "4  2652.605677"
            ],
            "text/html": [
              "\n",
              "  <div id=\"df-edf02d34-2232-4997-88d3-91a9efb36c10\">\n",
              "    <div class=\"colab-df-container\">\n",
              "      <div>\n",
              "<style scoped>\n",
              "    .dataframe tbody tr th:only-of-type {\n",
              "        vertical-align: middle;\n",
              "    }\n",
              "\n",
              "    .dataframe tbody tr th {\n",
              "        vertical-align: top;\n",
              "    }\n",
              "\n",
              "    .dataframe thead th {\n",
              "        text-align: right;\n",
              "    }\n",
              "</style>\n",
              "<table border=\"1\" class=\"dataframe\">\n",
              "  <thead>\n",
              "    <tr style=\"text-align: right;\">\n",
              "      <th></th>\n",
              "      <th>Value</th>\n",
              "    </tr>\n",
              "  </thead>\n",
              "  <tbody>\n",
              "    <tr>\n",
              "      <th>0</th>\n",
              "      <td>2524.709798</td>\n",
              "    </tr>\n",
              "    <tr>\n",
              "      <th>1</th>\n",
              "      <td>2422.244040</td>\n",
              "    </tr>\n",
              "    <tr>\n",
              "      <th>2</th>\n",
              "      <td>2529.530277</td>\n",
              "    </tr>\n",
              "    <tr>\n",
              "      <th>3</th>\n",
              "      <td>2433.146990</td>\n",
              "    </tr>\n",
              "    <tr>\n",
              "      <th>4</th>\n",
              "      <td>2652.605677</td>\n",
              "    </tr>\n",
              "  </tbody>\n",
              "</table>\n",
              "</div>\n",
              "      <button class=\"colab-df-convert\" onclick=\"convertToInteractive('df-edf02d34-2232-4997-88d3-91a9efb36c10')\"\n",
              "              title=\"Convert this dataframe to an interactive table.\"\n",
              "              style=\"display:none;\">\n",
              "        \n",
              "  <svg xmlns=\"http://www.w3.org/2000/svg\" height=\"24px\"viewBox=\"0 0 24 24\"\n",
              "       width=\"24px\">\n",
              "    <path d=\"M0 0h24v24H0V0z\" fill=\"none\"/>\n",
              "    <path d=\"M18.56 5.44l.94 2.06.94-2.06 2.06-.94-2.06-.94-.94-2.06-.94 2.06-2.06.94zm-11 1L8.5 8.5l.94-2.06 2.06-.94-2.06-.94L8.5 2.5l-.94 2.06-2.06.94zm10 10l.94 2.06.94-2.06 2.06-.94-2.06-.94-.94-2.06-.94 2.06-2.06.94z\"/><path d=\"M17.41 7.96l-1.37-1.37c-.4-.4-.92-.59-1.43-.59-.52 0-1.04.2-1.43.59L10.3 9.45l-7.72 7.72c-.78.78-.78 2.05 0 2.83L4 21.41c.39.39.9.59 1.41.59.51 0 1.02-.2 1.41-.59l7.78-7.78 2.81-2.81c.8-.78.8-2.07 0-2.86zM5.41 20L4 18.59l7.72-7.72 1.47 1.35L5.41 20z\"/>\n",
              "  </svg>\n",
              "      </button>\n",
              "      \n",
              "  <style>\n",
              "    .colab-df-container {\n",
              "      display:flex;\n",
              "      flex-wrap:wrap;\n",
              "      gap: 12px;\n",
              "    }\n",
              "\n",
              "    .colab-df-convert {\n",
              "      background-color: #E8F0FE;\n",
              "      border: none;\n",
              "      border-radius: 50%;\n",
              "      cursor: pointer;\n",
              "      display: none;\n",
              "      fill: #1967D2;\n",
              "      height: 32px;\n",
              "      padding: 0 0 0 0;\n",
              "      width: 32px;\n",
              "    }\n",
              "\n",
              "    .colab-df-convert:hover {\n",
              "      background-color: #E2EBFA;\n",
              "      box-shadow: 0px 1px 2px rgba(60, 64, 67, 0.3), 0px 1px 3px 1px rgba(60, 64, 67, 0.15);\n",
              "      fill: #174EA6;\n",
              "    }\n",
              "\n",
              "    [theme=dark] .colab-df-convert {\n",
              "      background-color: #3B4455;\n",
              "      fill: #D2E3FC;\n",
              "    }\n",
              "\n",
              "    [theme=dark] .colab-df-convert:hover {\n",
              "      background-color: #434B5C;\n",
              "      box-shadow: 0px 1px 3px 1px rgba(0, 0, 0, 0.15);\n",
              "      filter: drop-shadow(0px 1px 2px rgba(0, 0, 0, 0.3));\n",
              "      fill: #FFFFFF;\n",
              "    }\n",
              "  </style>\n",
              "\n",
              "      <script>\n",
              "        const buttonEl =\n",
              "          document.querySelector('#df-edf02d34-2232-4997-88d3-91a9efb36c10 button.colab-df-convert');\n",
              "        buttonEl.style.display =\n",
              "          google.colab.kernel.accessAllowed ? 'block' : 'none';\n",
              "\n",
              "        async function convertToInteractive(key) {\n",
              "          const element = document.querySelector('#df-edf02d34-2232-4997-88d3-91a9efb36c10');\n",
              "          const dataTable =\n",
              "            await google.colab.kernel.invokeFunction('convertToInteractive',\n",
              "                                                     [key], {});\n",
              "          if (!dataTable) return;\n",
              "\n",
              "          const docLinkHtml = 'Like what you see? Visit the ' +\n",
              "            '<a target=\"_blank\" href=https://colab.research.google.com/notebooks/data_table.ipynb>data table notebook</a>'\n",
              "            + ' to learn more about interactive tables.';\n",
              "          element.innerHTML = '';\n",
              "          dataTable['output_type'] = 'display_data';\n",
              "          await google.colab.output.renderOutput(dataTable, element);\n",
              "          const docLink = document.createElement('div');\n",
              "          docLink.innerHTML = docLinkHtml;\n",
              "          element.appendChild(docLink);\n",
              "        }\n",
              "      </script>\n",
              "    </div>\n",
              "  </div>\n",
              "  "
            ]
          },
          "metadata": {},
          "execution_count": 43
        }
      ],
      "source": [
        "df_y.head()"
      ]
    },
    {
      "cell_type": "code",
      "execution_count": 44,
      "metadata": {
        "id": "dXmx6l3eFicN"
      },
      "outputs": [],
      "source": [
        "to_big=df_y.Value[df_y.Value>3000].index.to_list()"
      ]
    },
    {
      "cell_type": "code",
      "execution_count": 45,
      "metadata": {
        "colab": {
          "base_uri": "https://localhost:8080/"
        },
        "id": "QGwptS6DR5d1",
        "outputId": "5e5cf930-9f16-42a4-8675-e33dcae35029"
      },
      "outputs": [
        {
          "output_type": "execute_result",
          "data": {
            "text/plain": [
              "[]"
            ]
          },
          "metadata": {},
          "execution_count": 45
        }
      ],
      "source": [
        "to_big"
      ]
    },
    {
      "cell_type": "code",
      "execution_count": 46,
      "metadata": {
        "colab": {
          "base_uri": "https://localhost:8080/",
          "height": 316
        },
        "id": "cVrXRp4UE5Qk",
        "outputId": "891b0d92-4c7f-409f-a9ab-197a157b7f94"
      },
      "outputs": [
        {
          "output_type": "execute_result",
          "data": {
            "text/plain": [
              "array([[<matplotlib.axes._subplots.AxesSubplot object at 0x7f2e1a41d4d0>]],\n",
              "      dtype=object)"
            ]
          },
          "metadata": {},
          "execution_count": 46
        },
        {
          "output_type": "display_data",
          "data": {
            "text/plain": [
              "<Figure size 432x288 with 1 Axes>"
            ],
            "image/png": "[encoded data removed]"
          },
          "metadata": {
            "needs_background": "light"
          }
        }
      ],
      "source": [
        "df_y.hist(bins=bins_list)"
      ]
    },
    {
      "cell_type": "code",
      "execution_count": 47,
      "metadata": {
        "id": "JMwhuw-yQRZy"
      },
      "outputs": [],
      "source": [
        "for i in to_big:\n",
        "    df_X=df_X.drop(index=i)\n",
        "    df_y=df_y.drop(index=i)"
      ]
    },
    {
      "cell_type": "code",
      "execution_count": 48,
      "metadata": {
        "id": "9XgbsvsWRhX9"
      },
      "outputs": [],
      "source": [
        "max_y=df_y.Value.max()\n",
        "min_y=df_y.Value.min()\n"
      ]
    },
    {
      "cell_type": "code",
      "execution_count": 49,
      "metadata": {
        "colab": {
          "base_uri": "https://localhost:8080/"
        },
        "id": "3iyuQlwKRw72",
        "outputId": "427093b9-8c58-4f0b-9f5f-1e8a0e22ecfa"
      },
      "outputs": [
        {
          "output_type": "execute_result",
          "data": {
            "text/plain": [
              "(2739.643728, 231.1699753)"
            ]
          },
          "metadata": {},
          "execution_count": 49
        }
      ],
      "source": [
        "(max_y,min_y)"
      ]
    },
    {
      "cell_type": "code",
      "execution_count": 50,
      "metadata": {
        "id": "V3ujsNSQTYe4"
      },
      "outputs": [],
      "source": [
        "from sklearn import preprocessing\n",
        "min_max_scaler = preprocessing.MinMaxScaler()\n",
        "df_y_minmax=min_max_scaler.fit_transform(pd.array(df_y.Value).reshape(-1,1))"
      ]
    },
    {
      "cell_type": "code",
      "execution_count": 50,
      "metadata": {
        "id": "N2AHvh8HU0JU"
      },
      "outputs": [],
      "source": [
        ""
      ]
    },
    {
      "cell_type": "code",
      "execution_count": 51,
      "metadata": {
        "id": "q019xqnl-vmH"
      },
      "outputs": [],
      "source": [
        "df_X_minmax=df_X/100"
      ]
    },
    {
      "cell_type": "code",
      "execution_count": 52,
      "metadata": {
        "id": "C01xxvPgJ1wP"
      },
      "outputs": [],
      "source": [
        "# start learning"
      ]
    },
    {
      "cell_type": "code",
      "execution_count": 53,
      "metadata": {
        "id": "26U6UXRhmSUE"
      },
      "outputs": [],
      "source": [
        "import tensorflow as tf\n",
        "from tensorflow.keras.callbacks import ModelCheckpoint\n",
        "model_name=\"HPLC\"\n",
        "def scheduler(epoch, lr):\n",
        "       #return 0.00003\n",
        "\n",
        "    '''    \n",
        "    maxx=0.00001\n",
        "    minn=0.001\n",
        "    frekvency=3\n",
        "    o=(epoch % frekvency)/frekvency * (maxx-minn)+minn\n",
        "    return o\n",
        "    '''\n",
        "        \n",
        "    if epoch<60:\n",
        "        return 0.001\n",
        "    elif epoch <80:\n",
        "        return 0.001\n",
        "    elif epoch <85:\n",
        "        return 0.001\n",
        "    elif epoch <190:\n",
        "        return 0.001\n",
        "    \n",
        "    \n",
        "    return 0.00001\n",
        "    \n",
        "callback_LR = tf.keras.callbacks.LearningRateScheduler(scheduler)\n",
        "\n",
        "callbacks = [callback_LR,\n",
        "            \n",
        "            #savemodela,\n",
        "            ModelCheckpoint(filepath=model_name+\"_loss_{loss:.5f}_val_acc_{val_binary_accuracy:.5f}.hdf5\", monitor='val_binary_accuracy',\n",
        "                            verbose=1, save_best_only=True, mode='max')]"
      ]
    },
    {
      "cell_type": "code",
      "execution_count": 54,
      "metadata": {
        "id": "uvvPuVNSxNa7"
      },
      "outputs": [],
      "source": [
        "# Importáld a megfelelő rétegeket\n",
        "from tensorflow.keras.layers import Input,Dense,Embedding,LSTM,TimeDistributed, Flatten, Bidirectional, Conv1D, MaxPooling1D, Dropout\n",
        "from tensorflow.keras.models import Model\n",
        "from tensorflow.keras.optimizers import Adadelta,Adam,SGD,Adamax,RMSprop\n",
        "from tensorflow.keras.losses import sparse_categorical_crossentropy,categorical_crossentropy, mean_squared_error, mean_absolute_error, binary_crossentropy\n",
        "from tensorflow.keras import backend as K\n",
        "\n",
        "K.clear_session\n",
        "x= Input(shape=(max_input_length,1,))\n",
        "\n",
        "#conv1=Conv1D(filters=8, kernel_size=2, padding='same', activation='relu')(embedded_x)\n",
        "#MP=MaxPooling1D(pool_size=1)(conv1)\n",
        "lstm_output= LSTM(units=lstm_size,return_sequences=True,return_state=True,dropout=0.1)(x)  #,return_state=True\n",
        "lstm_output= LSTM(units=lstm_size,return_sequences=True,dropout=0.1)(lstm_output)\n",
        "\n",
        "lstm_output=Dropout(0.1)(lstm_output)\n",
        "\n",
        "Dense_out=Flatten()(lstm_output)\n",
        "#Dense_out= Dense(50, activation=\"sigmoid\",kernel_initializer=\"HeNormal\")(Dense_out)\n",
        "\n",
        "predictions= Dense(n_out, activation=\"sigmoid\",kernel_initializer=\"HeNormal\")(Dense_out)\n",
        "model=Model(inputs=x, outputs=predictions)\n",
        "\n"
      ]
    },
    {
      "cell_type": "code",
      "source": [
        ""
      ],
      "metadata": {
        "id": "OPg96E_EHxew"
      },
      "execution_count": 54,
      "outputs": []
    },
    {
      "cell_type": "code",
      "source": [
        ""
      ],
      "metadata": {
        "id": "rK1gsmAC8Wm5"
      },
      "execution_count": 54,
      "outputs": []
    },
    {
      "cell_type": "markdown",
      "metadata": {
        "id": "J4e2OlSbPTxD"
      },
      "source": [
        ""
      ]
    },
    {
      "cell_type": "markdown",
      "metadata": {
        "id": "45ibq_LGCprS"
      },
      "source": [
        ""
      ]
    },
    {
      "cell_type": "markdown",
      "metadata": {
        "id": "cSRx_qeySr-3"
      },
      "source": [
        ""
      ]
    },
    {
      "cell_type": "code",
      "execution_count": 55,
      "metadata": {
        "colab": {
          "base_uri": "https://localhost:8080/"
        },
        "id": "NQpADS6gMHmd",
        "outputId": "2dfe6def-6d17-41b8-ab1e-acdc8a513a25"
      },
      "outputs": [
        {
          "output_type": "stream",
          "name": "stdout",
          "text": [
            "Model: \"model\"\n",
            "__________________________________________________________________________________________________\n",
            " Layer (type)                   Output Shape         Param #     Connected to                     \n",
            "==================================================================================================\n",
            " input_1 (InputLayer)           [(None, 3384, 1)]    0           []                               \n",
            "                                                                                                  \n",
            " lstm (LSTM)                    [(None, 3384, 25),   2700        ['input_1[0][0]']                \n",
            "                                 (None, 25),                                                      \n",
            "                                 (None, 25)]                                                      \n",
            "                                                                                                  \n",
            " lstm_1 (LSTM)                  (None, 3384, 25)     5100        ['lstm[0][0]',                   \n",
            "                                                                  'lstm[0][1]',                   \n",
            "                                                                  'lstm[0][2]']                   \n",
            "                                                                                                  \n",
            " dropout (Dropout)              (None, 3384, 25)     0           ['lstm_1[0][0]']                 \n",
            "                                                                                                  \n",
            " flatten (Flatten)              (None, 84600)        0           ['dropout[0][0]']                \n",
            "                                                                                                  \n",
            " dense (Dense)                  (None, 1)            84601       ['flatten[0][0]']                \n",
            "                                                                                                  \n",
            "==================================================================================================\n",
            "Total params: 92,401\n",
            "Trainable params: 92,401\n",
            "Non-trainable params: 0\n",
            "__________________________________________________________________________________________________\n"
          ]
        }
      ],
      "source": [
        "model.summary()"
      ]
    },
    {
      "cell_type": "code",
      "execution_count": 56,
      "metadata": {
        "id": "SzJYM8QeJyvI"
      },
      "outputs": [],
      "source": [
        "import numpy as np"
      ]
    },
    {
      "cell_type": "code",
      "execution_count": 57,
      "metadata": {
        "id": "MP22GO0AoZkD",
        "colab": {
          "base_uri": "https://localhost:8080/"
        },
        "outputId": "41e7b47d-6cf5-4a11-cf28-03f271a88ec6"
      },
      "outputs": [
        {
          "output_type": "stream",
          "name": "stdout",
          "text": [
            "rm: cannot remove 'HPLC*': No such file or directory\n"
          ]
        }
      ],
      "source": [
        "!rm  HPLC*"
      ]
    },
    {
      "cell_type": "code",
      "execution_count": 57,
      "metadata": {
        "id": "JssV4hq6oZih"
      },
      "outputs": [],
      "source": [
        ""
      ]
    },
    {
      "cell_type": "code",
      "execution_count": 58,
      "metadata": {
        "id": "ACrVf-TbJYDe"
      },
      "outputs": [],
      "source": [
        "#train_x = np.asarray(xtrain)\n",
        "#train_y = np.asarray(ytrain)"
      ]
    },
    {
      "cell_type": "code",
      "execution_count": 59,
      "metadata": {
        "colab": {
          "base_uri": "https://localhost:8080/"
        },
        "id": "Lj_fAh_eKaSl",
        "outputId": "bb7d974f-739d-45aa-b802-fac137ec5038"
      },
      "outputs": [
        {
          "output_type": "execute_result",
          "data": {
            "text/plain": [
              "Index(['36.6633', '36.6667', '36.67', '36.6733', '36.6767', '36.68', '36.6833',\n",
              "       '36.6867', '36.69', '36.6933',\n",
              "       ...\n",
              "       '47.91', '47.9133', '47.9167', '47.92', '47.9233', '47.9267', '47.93',\n",
              "       '47.9333', '47.9367', '47.94'],\n",
              "      dtype='object', length=3384)"
            ]
          },
          "metadata": {},
          "execution_count": 59
        }
      ],
      "source": [
        "df_X.columns"
      ]
    },
    {
      "cell_type": "code",
      "execution_count": 60,
      "metadata": {
        "colab": {
          "base_uri": "https://localhost:8080/"
        },
        "id": "zuXvaxZE-rq-",
        "outputId": "084ca767-f275-472d-9497-f18529050943"
      },
      "outputs": [
        {
          "output_type": "execute_result",
          "data": {
            "text/plain": [
              "0      0\n",
              "1      0\n",
              "2      0\n",
              "3      0\n",
              "4      0\n",
              "      ..\n",
              "200    0\n",
              "201    0\n",
              "202    0\n",
              "203    0\n",
              "204    0\n",
              "Name: coded, Length: 205, dtype: int64"
            ]
          },
          "metadata": {},
          "execution_count": 60
        }
      ],
      "source": [
        "df_y2"
      ]
    },
    {
      "cell_type": "code",
      "execution_count": 60,
      "metadata": {
        "id": "jcUtrkpY_Ny-"
      },
      "outputs": [],
      "source": [
        ""
      ]
    },
    {
      "cell_type": "code",
      "execution_count": 61,
      "metadata": {
        "id": "RWIM4DP36S2L"
      },
      "outputs": [],
      "source": [
        "# Loss \n",
        "\n",
        "loss =binary_crossentropy  #mean_absolute_error #categorical_crossentropy \n",
        "# Optimizer\n",
        "optimizer = Adam(learning_rate=0.1) #Ízlés szerint...\n",
        " \n",
        "# Compilation\n",
        "#############\n",
        "\n",
        "model.compile(optimizer=optimizer,loss=loss,metrics=[\"binary_accuracy\"])"
      ]
    },
    {
      "cell_type": "code",
      "execution_count": 62,
      "metadata": {
        "id": "FK7a0SH9oYM3"
      },
      "outputs": [],
      "source": [
        "def save_model():\n",
        "    _MODEL_TYPE_=\"lstm_hplc\"\n",
        "\n",
        "    model_name=_MODEL_TYPE_.upper()\n",
        "    callbacks = [callback_LR,\n",
        "            \n",
        "            #savemodela,\n",
        "            ModelCheckpoint(filepath=model_name+\"_LOSS_{loss:.5f}_VLOSS_{val_loss:.5f}_ACC_{accuracy:.4f}_VACC_{val_accuracy:.4f}_.hdf5\", monitor='val_binary_accuracy',\n",
        "                            verbose=1, save_best_only=True, mode='max')]"
      ]
    },
    {
      "cell_type": "code",
      "execution_count": 63,
      "metadata": {
        "colab": {
          "base_uri": "https://localhost:8080/",
          "height": 235
        },
        "id": "ONvuYqbc-8qV",
        "outputId": "2fd3f72b-fcff-4a7c-bbbd-7f3aa92b5a57"
      },
      "outputs": [
        {
          "output_type": "execute_result",
          "data": {
            "text/plain": [
              "   36.6633  36.6667  36.67  36.6733  36.6767  36.68  36.6833  36.6867  36.69  \\\n",
              "0      0.0      0.0    0.0      0.0      0.0    0.0      0.0      0.0    0.0   \n",
              "1      0.0      0.0    0.0      0.0      0.0    0.0      0.0      0.0    0.0   \n",
              "2      0.0      0.0    0.0      0.0      0.0    0.0      0.0      0.0    0.0   \n",
              "3      0.0      0.0    0.0      0.0      0.0    0.0      0.0      0.0    0.0   \n",
              "4      0.0      0.0    0.0      0.0      0.0    0.0      0.0      0.0    0.0   \n",
              "\n",
              "   36.6933  ...  47.91  47.9133  47.9167  47.92  47.9233  47.9267  47.93  \\\n",
              "0      0.0  ...    0.0      0.0      0.0    0.0      0.0      0.0    0.0   \n",
              "1      0.0  ...    0.0      0.0      0.0    0.0      0.0      0.0    0.0   \n",
              "2      0.0  ...    0.0      0.0      0.0    0.0      0.0      0.0    0.0   \n",
              "3      0.0  ...    0.0      0.0      0.0    0.0      0.0      0.0    0.0   \n",
              "4      0.0  ...    0.0      0.0      0.0    0.0      0.0      0.0    0.0   \n",
              "\n",
              "   47.9333  47.9367  47.94  \n",
              "0      0.0      0.0    0.0  \n",
              "1      0.0      0.0    0.0  \n",
              "2      0.0      0.0    0.0  \n",
              "3      0.0      0.0    0.0  \n",
              "4      0.0      0.0    0.0  \n",
              "\n",
              "[5 rows x 3384 columns]"
            ],
            "text/html": [
              "\n",
              "  <div id=\"df-7ab5eb29-5055-4110-98b2-a227b436df45\">\n",
              "    <div class=\"colab-df-container\">\n",
              "      <div>\n",
              "<style scoped>\n",
              "    .dataframe tbody tr th:only-of-type {\n",
              "        vertical-align: middle;\n",
              "    }\n",
              "\n",
              "    .dataframe tbody tr th {\n",
              "        vertical-align: top;\n",
              "    }\n",
              "\n",
              "    .dataframe thead th {\n",
              "        text-align: right;\n",
              "    }\n",
              "</style>\n",
              "<table border=\"1\" class=\"dataframe\">\n",
              "  <thead>\n",
              "    <tr style=\"text-align: right;\">\n",
              "      <th></th>\n",
              "      <th>36.6633</th>\n",
              "      <th>36.6667</th>\n",
              "      <th>36.67</th>\n",
              "      <th>36.6733</th>\n",
              "      <th>36.6767</th>\n",
              "      <th>36.68</th>\n",
              "      <th>36.6833</th>\n",
              "      <th>36.6867</th>\n",
              "      <th>36.69</th>\n",
              "      <th>36.6933</th>\n",
              "      <th>...</th>\n",
              "      <th>47.91</th>\n",
              "      <th>47.9133</th>\n",
              "      <th>47.9167</th>\n",
              "      <th>47.92</th>\n",
              "      <th>47.9233</th>\n",
              "      <th>47.9267</th>\n",
              "      <th>47.93</th>\n",
              "      <th>47.9333</th>\n",
              "      <th>47.9367</th>\n",
              "      <th>47.94</th>\n",
              "    </tr>\n",
              "  </thead>\n",
              "  <tbody>\n",
              "    <tr>\n",
              "      <th>0</th>\n",
              "      <td>0.0</td>\n",
              "      <td>0.0</td>\n",
              "      <td>0.0</td>\n",
              "      <td>0.0</td>\n",
              "      <td>0.0</td>\n",
              "      <td>0.0</td>\n",
              "      <td>0.0</td>\n",
              "      <td>0.0</td>\n",
              "      <td>0.0</td>\n",
              "      <td>0.0</td>\n",
              "      <td>...</td>\n",
              "      <td>0.0</td>\n",
              "      <td>0.0</td>\n",
              "      <td>0.0</td>\n",
              "      <td>0.0</td>\n",
              "      <td>0.0</td>\n",
              "      <td>0.0</td>\n",
              "      <td>0.0</td>\n",
              "      <td>0.0</td>\n",
              "      <td>0.0</td>\n",
              "      <td>0.0</td>\n",
              "    </tr>\n",
              "    <tr>\n",
              "      <th>1</th>\n",
              "      <td>0.0</td>\n",
              "      <td>0.0</td>\n",
              "      <td>0.0</td>\n",
              "      <td>0.0</td>\n",
              "      <td>0.0</td>\n",
              "      <td>0.0</td>\n",
              "      <td>0.0</td>\n",
              "      <td>0.0</td>\n",
              "      <td>0.0</td>\n",
              "      <td>0.0</td>\n",
              "      <td>...</td>\n",
              "      <td>0.0</td>\n",
              "      <td>0.0</td>\n",
              "      <td>0.0</td>\n",
              "      <td>0.0</td>\n",
              "      <td>0.0</td>\n",
              "      <td>0.0</td>\n",
              "      <td>0.0</td>\n",
              "      <td>0.0</td>\n",
              "      <td>0.0</td>\n",
              "      <td>0.0</td>\n",
              "    </tr>\n",
              "    <tr>\n",
              "      <th>2</th>\n",
              "      <td>0.0</td>\n",
              "      <td>0.0</td>\n",
              "      <td>0.0</td>\n",
              "      <td>0.0</td>\n",
              "      <td>0.0</td>\n",
              "      <td>0.0</td>\n",
              "      <td>0.0</td>\n",
              "      <td>0.0</td>\n",
              "      <td>0.0</td>\n",
              "      <td>0.0</td>\n",
              "      <td>...</td>\n",
              "      <td>0.0</td>\n",
              "      <td>0.0</td>\n",
              "      <td>0.0</td>\n",
              "      <td>0.0</td>\n",
              "      <td>0.0</td>\n",
              "      <td>0.0</td>\n",
              "      <td>0.0</td>\n",
              "      <td>0.0</td>\n",
              "      <td>0.0</td>\n",
              "      <td>0.0</td>\n",
              "    </tr>\n",
              "    <tr>\n",
              "      <th>3</th>\n",
              "      <td>0.0</td>\n",
              "      <td>0.0</td>\n",
              "      <td>0.0</td>\n",
              "      <td>0.0</td>\n",
              "      <td>0.0</td>\n",
              "      <td>0.0</td>\n",
              "      <td>0.0</td>\n",
              "      <td>0.0</td>\n",
              "      <td>0.0</td>\n",
              "      <td>0.0</td>\n",
              "      <td>...</td>\n",
              "      <td>0.0</td>\n",
              "      <td>0.0</td>\n",
              "      <td>0.0</td>\n",
              "      <td>0.0</td>\n",
              "      <td>0.0</td>\n",
              "      <td>0.0</td>\n",
              "      <td>0.0</td>\n",
              "      <td>0.0</td>\n",
              "      <td>0.0</td>\n",
              "      <td>0.0</td>\n",
              "    </tr>\n",
              "    <tr>\n",
              "      <th>4</th>\n",
              "      <td>0.0</td>\n",
              "      <td>0.0</td>\n",
              "      <td>0.0</td>\n",
              "      <td>0.0</td>\n",
              "      <td>0.0</td>\n",
              "      <td>0.0</td>\n",
              "      <td>0.0</td>\n",
              "      <td>0.0</td>\n",
              "      <td>0.0</td>\n",
              "      <td>0.0</td>\n",
              "      <td>...</td>\n",
              "      <td>0.0</td>\n",
              "      <td>0.0</td>\n",
              "      <td>0.0</td>\n",
              "      <td>0.0</td>\n",
              "      <td>0.0</td>\n",
              "      <td>0.0</td>\n",
              "      <td>0.0</td>\n",
              "      <td>0.0</td>\n",
              "      <td>0.0</td>\n",
              "      <td>0.0</td>\n",
              "    </tr>\n",
              "  </tbody>\n",
              "</table>\n",
              "<p>5 rows × 3384 columns</p>\n",
              "</div>\n",
              "      <button class=\"colab-df-convert\" onclick=\"convertToInteractive('df-7ab5eb29-5055-4110-98b2-a227b436df45')\"\n",
              "              title=\"Convert this dataframe to an interactive table.\"\n",
              "              style=\"display:none;\">\n",
              "        \n",
              "  <svg xmlns=\"http://www.w3.org/2000/svg\" height=\"24px\"viewBox=\"0 0 24 24\"\n",
              "       width=\"24px\">\n",
              "    <path d=\"M0 0h24v24H0V0z\" fill=\"none\"/>\n",
              "    <path d=\"M18.56 5.44l.94 2.06.94-2.06 2.06-.94-2.06-.94-.94-2.06-.94 2.06-2.06.94zm-11 1L8.5 8.5l.94-2.06 2.06-.94-2.06-.94L8.5 2.5l-.94 2.06-2.06.94zm10 10l.94 2.06.94-2.06 2.06-.94-2.06-.94-.94-2.06-.94 2.06-2.06.94z\"/><path d=\"M17.41 7.96l-1.37-1.37c-.4-.4-.92-.59-1.43-.59-.52 0-1.04.2-1.43.59L10.3 9.45l-7.72 7.72c-.78.78-.78 2.05 0 2.83L4 21.41c.39.39.9.59 1.41.59.51 0 1.02-.2 1.41-.59l7.78-7.78 2.81-2.81c.8-.78.8-2.07 0-2.86zM5.41 20L4 18.59l7.72-7.72 1.47 1.35L5.41 20z\"/>\n",
              "  </svg>\n",
              "      </button>\n",
              "      \n",
              "  <style>\n",
              "    .colab-df-container {\n",
              "      display:flex;\n",
              "      flex-wrap:wrap;\n",
              "      gap: 12px;\n",
              "    }\n",
              "\n",
              "    .colab-df-convert {\n",
              "      background-color: #E8F0FE;\n",
              "      border: none;\n",
              "      border-radius: 50%;\n",
              "      cursor: pointer;\n",
              "      display: none;\n",
              "      fill: #1967D2;\n",
              "      height: 32px;\n",
              "      padding: 0 0 0 0;\n",
              "      width: 32px;\n",
              "    }\n",
              "\n",
              "    .colab-df-convert:hover {\n",
              "      background-color: #E2EBFA;\n",
              "      box-shadow: 0px 1px 2px rgba(60, 64, 67, 0.3), 0px 1px 3px 1px rgba(60, 64, 67, 0.15);\n",
              "      fill: #174EA6;\n",
              "    }\n",
              "\n",
              "    [theme=dark] .colab-df-convert {\n",
              "      background-color: #3B4455;\n",
              "      fill: #D2E3FC;\n",
              "    }\n",
              "\n",
              "    [theme=dark] .colab-df-convert:hover {\n",
              "      background-color: #434B5C;\n",
              "      box-shadow: 0px 1px 3px 1px rgba(0, 0, 0, 0.15);\n",
              "      filter: drop-shadow(0px 1px 2px rgba(0, 0, 0, 0.3));\n",
              "      fill: #FFFFFF;\n",
              "    }\n",
              "  </style>\n",
              "\n",
              "      <script>\n",
              "        const buttonEl =\n",
              "          document.querySelector('#df-7ab5eb29-5055-4110-98b2-a227b436df45 button.colab-df-convert');\n",
              "        buttonEl.style.display =\n",
              "          google.colab.kernel.accessAllowed ? 'block' : 'none';\n",
              "\n",
              "        async function convertToInteractive(key) {\n",
              "          const element = document.querySelector('#df-7ab5eb29-5055-4110-98b2-a227b436df45');\n",
              "          const dataTable =\n",
              "            await google.colab.kernel.invokeFunction('convertToInteractive',\n",
              "                                                     [key], {});\n",
              "          if (!dataTable) return;\n",
              "\n",
              "          const docLinkHtml = 'Like what you see? Visit the ' +\n",
              "            '<a target=\"_blank\" href=https://colab.research.google.com/notebooks/data_table.ipynb>data table notebook</a>'\n",
              "            + ' to learn more about interactive tables.';\n",
              "          element.innerHTML = '';\n",
              "          dataTable['output_type'] = 'display_data';\n",
              "          await google.colab.output.renderOutput(dataTable, element);\n",
              "          const docLink = document.createElement('div');\n",
              "          docLink.innerHTML = docLinkHtml;\n",
              "          element.appendChild(docLink);\n",
              "        }\n",
              "      </script>\n",
              "    </div>\n",
              "  </div>\n",
              "  "
            ]
          },
          "metadata": {},
          "execution_count": 63
        }
      ],
      "source": [
        "df_X_minmax.head()"
      ]
    },
    {
      "cell_type": "code",
      "execution_count": 64,
      "metadata": {
        "id": "wI1SqakKjNO6"
      },
      "outputs": [],
      "source": [
        "#model.load_weights(\"XXXX_0.06212.hdf5\")"
      ]
    },
    {
      "cell_type": "code",
      "execution_count": null,
      "metadata": {
        "colab": {
          "base_uri": "https://localhost:8080/"
        },
        "id": "op-I834SFpUX",
        "outputId": "6a02a3b6-1550-4263-d69d-18929c789411"
      },
      "outputs": [
        {
          "output_type": "stream",
          "name": "stdout",
          "text": [
            "Epoch 1/190\n",
            "16/16 [==============================] - ETA: 0s - loss: 0.5382 - binary_accuracy: 0.7663\n",
            "Epoch 1: val_binary_accuracy improved from -inf to 0.71429, saving model to HPLC_loss_0.53824_val_acc_0.71429.hdf5\n",
            "16/16 [==============================] - 34s 2s/step - loss: 0.5382 - binary_accuracy: 0.7663 - val_loss: 0.7358 - val_binary_accuracy: 0.7143 - lr: 0.0010\n",
            "Epoch 2/190\n",
            "16/16 [==============================] - ETA: 0s - loss: 0.5416 - binary_accuracy: 0.7826\n",
            "Epoch 2: val_binary_accuracy did not improve from 0.71429\n",
            "16/16 [==============================] - 30s 2s/step - loss: 0.5416 - binary_accuracy: 0.7826 - val_loss: 0.6453 - val_binary_accuracy: 0.6667 - lr: 0.0010\n",
            "Epoch 3/190\n",
            "16/16 [==============================] - ETA: 0s - loss: 0.5063 - binary_accuracy: 0.8043\n",
            "Epoch 3: val_binary_accuracy did not improve from 0.71429\n",
            "16/16 [==============================] - 30s 2s/step - loss: 0.5063 - binary_accuracy: 0.8043 - val_loss: 0.6246 - val_binary_accuracy: 0.7143 - lr: 0.0010\n",
            "Epoch 4/190\n",
            "16/16 [==============================] - ETA: 0s - loss: 0.5026 - binary_accuracy: 0.8043\n",
            "Epoch 4: val_binary_accuracy did not improve from 0.71429\n",
            "16/16 [==============================] - 30s 2s/step - loss: 0.5026 - binary_accuracy: 0.8043 - val_loss: 0.6317 - val_binary_accuracy: 0.7143 - lr: 0.0010\n",
            "Epoch 5/190\n",
            "16/16 [==============================] - ETA: 0s - loss: 0.4955 - binary_accuracy: 0.8043\n",
            "Epoch 5: val_binary_accuracy did not improve from 0.71429\n",
            "16/16 [==============================] - 30s 2s/step - loss: 0.4955 - binary_accuracy: 0.8043 - val_loss: 0.6457 - val_binary_accuracy: 0.6667 - lr: 0.0010\n",
            "Epoch 6/190\n",
            "16/16 [==============================] - ETA: 0s - loss: 0.5239 - binary_accuracy: 0.8098\n",
            "Epoch 6: val_binary_accuracy did not improve from 0.71429\n",
            "16/16 [==============================] - 30s 2s/step - loss: 0.5239 - binary_accuracy: 0.8098 - val_loss: 0.6927 - val_binary_accuracy: 0.7143 - lr: 0.0010\n",
            "Epoch 7/190\n",
            "16/16 [==============================] - ETA: 0s - loss: 0.4880 - binary_accuracy: 0.8043\n",
            "Epoch 7: val_binary_accuracy did not improve from 0.71429\n",
            "16/16 [==============================] - 30s 2s/step - loss: 0.4880 - binary_accuracy: 0.8043 - val_loss: 0.6614 - val_binary_accuracy: 0.7143 - lr: 0.0010\n",
            "Epoch 8/190\n",
            "16/16 [==============================] - ETA: 0s - loss: 0.4840 - binary_accuracy: 0.7989\n",
            "Epoch 8: val_binary_accuracy did not improve from 0.71429\n",
            "16/16 [==============================] - 30s 2s/step - loss: 0.4840 - binary_accuracy: 0.7989 - val_loss: 0.6396 - val_binary_accuracy: 0.6667 - lr: 0.0010\n",
            "Epoch 9/190\n",
            "16/16 [==============================] - ETA: 0s - loss: 0.4788 - binary_accuracy: 0.7989\n",
            "Epoch 9: val_binary_accuracy did not improve from 0.71429\n",
            "16/16 [==============================] - 30s 2s/step - loss: 0.4788 - binary_accuracy: 0.7989 - val_loss: 0.6559 - val_binary_accuracy: 0.7143 - lr: 0.0010\n",
            "Epoch 10/190\n",
            "16/16 [==============================] - ETA: 0s - loss: 0.4593 - binary_accuracy: 0.8043\n",
            "Epoch 10: val_binary_accuracy did not improve from 0.71429\n",
            "16/16 [==============================] - 30s 2s/step - loss: 0.4593 - binary_accuracy: 0.8043 - val_loss: 0.6602 - val_binary_accuracy: 0.6667 - lr: 0.0010\n",
            "Epoch 11/190\n",
            "16/16 [==============================] - ETA: 0s - loss: 0.4748 - binary_accuracy: 0.8043\n",
            "Epoch 11: val_binary_accuracy did not improve from 0.71429\n",
            "16/16 [==============================] - 30s 2s/step - loss: 0.4748 - binary_accuracy: 0.8043 - val_loss: 0.6634 - val_binary_accuracy: 0.6667 - lr: 0.0010\n",
            "Epoch 12/190\n",
            "16/16 [==============================] - ETA: 0s - loss: 0.4423 - binary_accuracy: 0.8152\n",
            "Epoch 12: val_binary_accuracy did not improve from 0.71429\n",
            "16/16 [==============================] - 30s 2s/step - loss: 0.4423 - binary_accuracy: 0.8152 - val_loss: 0.6527 - val_binary_accuracy: 0.7143 - lr: 0.0010\n",
            "Epoch 13/190\n",
            "16/16 [==============================] - ETA: 0s - loss: 0.4265 - binary_accuracy: 0.8043\n",
            "Epoch 13: val_binary_accuracy did not improve from 0.71429\n",
            "16/16 [==============================] - 29s 2s/step - loss: 0.4265 - binary_accuracy: 0.8043 - val_loss: 0.7763 - val_binary_accuracy: 0.7143 - lr: 0.0010\n",
            "Epoch 14/190\n",
            "16/16 [==============================] - ETA: 0s - loss: 0.4394 - binary_accuracy: 0.8043\n",
            "Epoch 14: val_binary_accuracy did not improve from 0.71429\n",
            "16/16 [==============================] - 30s 2s/step - loss: 0.4394 - binary_accuracy: 0.8043 - val_loss: 1.1597 - val_binary_accuracy: 0.7143 - lr: 0.0010\n",
            "Epoch 15/190\n",
            "16/16 [==============================] - ETA: 0s - loss: 0.4939 - binary_accuracy: 0.8261\n",
            "Epoch 15: val_binary_accuracy did not improve from 0.71429\n",
            "16/16 [==============================] - 30s 2s/step - loss: 0.4939 - binary_accuracy: 0.8261 - val_loss: 0.8177 - val_binary_accuracy: 0.7143 - lr: 0.0010\n",
            "Epoch 16/190\n",
            "16/16 [==============================] - ETA: 0s - loss: 0.4793 - binary_accuracy: 0.8152\n",
            "Epoch 16: val_binary_accuracy did not improve from 0.71429\n",
            "16/16 [==============================] - 30s 2s/step - loss: 0.4793 - binary_accuracy: 0.8152 - val_loss: 0.6963 - val_binary_accuracy: 0.6667 - lr: 0.0010\n",
            "Epoch 17/190\n",
            "16/16 [==============================] - ETA: 0s - loss: 0.4557 - binary_accuracy: 0.7935\n",
            "Epoch 17: val_binary_accuracy did not improve from 0.71429\n",
            "16/16 [==============================] - 30s 2s/step - loss: 0.4557 - binary_accuracy: 0.7935 - val_loss: 0.6900 - val_binary_accuracy: 0.7143 - lr: 0.0010\n",
            "Epoch 18/190\n",
            "16/16 [==============================] - ETA: 0s - loss: 0.4655 - binary_accuracy: 0.8152\n",
            "Epoch 18: val_binary_accuracy did not improve from 0.71429\n",
            "16/16 [==============================] - 30s 2s/step - loss: 0.4655 - binary_accuracy: 0.8152 - val_loss: 0.6676 - val_binary_accuracy: 0.6667 - lr: 0.0010\n",
            "Epoch 19/190\n",
            "16/16 [==============================] - ETA: 0s - loss: 0.4372 - binary_accuracy: 0.7826\n",
            "Epoch 19: val_binary_accuracy did not improve from 0.71429\n",
            "16/16 [==============================] - 30s 2s/step - loss: 0.4372 - binary_accuracy: 0.7826 - val_loss: 0.8248 - val_binary_accuracy: 0.7143 - lr: 0.0010\n",
            "Epoch 20/190\n",
            "16/16 [==============================] - ETA: 0s - loss: 0.4284 - binary_accuracy: 0.8152\n",
            "Epoch 20: val_binary_accuracy did not improve from 0.71429\n",
            "16/16 [==============================] - 30s 2s/step - loss: 0.4284 - binary_accuracy: 0.8152 - val_loss: 0.7236 - val_binary_accuracy: 0.7143 - lr: 0.0010\n",
            "Epoch 21/190\n",
            "16/16 [==============================] - ETA: 0s - loss: 0.4236 - binary_accuracy: 0.8152\n",
            "Epoch 21: val_binary_accuracy did not improve from 0.71429\n",
            "16/16 [==============================] - 30s 2s/step - loss: 0.4236 - binary_accuracy: 0.8152 - val_loss: 0.7474 - val_binary_accuracy: 0.7143 - lr: 0.0010\n",
            "Epoch 22/190\n",
            "16/16 [==============================] - ETA: 0s - loss: 0.3934 - binary_accuracy: 0.8261\n",
            "Epoch 22: val_binary_accuracy did not improve from 0.71429\n",
            "16/16 [==============================] - 30s 2s/step - loss: 0.3934 - binary_accuracy: 0.8261 - val_loss: 0.6514 - val_binary_accuracy: 0.7143 - lr: 0.0010\n",
            "Epoch 23/190\n",
            "16/16 [==============================] - ETA: 0s - loss: 0.4221 - binary_accuracy: 0.8098\n",
            "Epoch 23: val_binary_accuracy did not improve from 0.71429\n",
            "16/16 [==============================] - 30s 2s/step - loss: 0.4221 - binary_accuracy: 0.8098 - val_loss: 0.6221 - val_binary_accuracy: 0.6667 - lr: 0.0010\n",
            "Epoch 24/190\n",
            "16/16 [==============================] - ETA: 0s - loss: 0.4509 - binary_accuracy: 0.7500\n",
            "Epoch 24: val_binary_accuracy did not improve from 0.71429\n",
            "16/16 [==============================] - 30s 2s/step - loss: 0.4509 - binary_accuracy: 0.7500 - val_loss: 0.6790 - val_binary_accuracy: 0.7143 - lr: 0.0010\n",
            "Epoch 25/190\n",
            "16/16 [==============================] - ETA: 0s - loss: 0.4129 - binary_accuracy: 0.8207\n",
            "Epoch 25: val_binary_accuracy improved from 0.71429 to 0.76190, saving model to HPLC_loss_0.41293_val_acc_0.76190.hdf5\n",
            "16/16 [==============================] - 30s 2s/step - loss: 0.4129 - binary_accuracy: 0.8207 - val_loss: 0.7844 - val_binary_accuracy: 0.7619 - lr: 0.0010\n",
            "Epoch 26/190\n",
            "16/16 [==============================] - ETA: 0s - loss: 0.4110 - binary_accuracy: 0.8207\n",
            "Epoch 26: val_binary_accuracy did not improve from 0.76190\n",
            "16/16 [==============================] - 30s 2s/step - loss: 0.4110 - binary_accuracy: 0.8207 - val_loss: 0.8433 - val_binary_accuracy: 0.7619 - lr: 0.0010\n",
            "Epoch 27/190\n",
            "16/16 [==============================] - ETA: 0s - loss: 0.3912 - binary_accuracy: 0.8478\n",
            "Epoch 27: val_binary_accuracy did not improve from 0.76190\n",
            "16/16 [==============================] - 30s 2s/step - loss: 0.3912 - binary_accuracy: 0.8478 - val_loss: 0.8815 - val_binary_accuracy: 0.7619 - lr: 0.0010\n",
            "Epoch 28/190\n",
            "16/16 [==============================] - ETA: 0s - loss: 0.3605 - binary_accuracy: 0.8261\n",
            "Epoch 28: val_binary_accuracy did not improve from 0.76190\n",
            "16/16 [==============================] - 30s 2s/step - loss: 0.3605 - binary_accuracy: 0.8261 - val_loss: 0.6438 - val_binary_accuracy: 0.7143 - lr: 0.0010\n",
            "Epoch 29/190\n",
            "16/16 [==============================] - ETA: 0s - loss: 0.3446 - binary_accuracy: 0.8478\n",
            "Epoch 29: val_binary_accuracy did not improve from 0.76190\n",
            "16/16 [==============================] - 30s 2s/step - loss: 0.3446 - binary_accuracy: 0.8478 - val_loss: 0.6369 - val_binary_accuracy: 0.7619 - lr: 0.0010\n",
            "Epoch 30/190\n",
            "16/16 [==============================] - ETA: 0s - loss: 0.3521 - binary_accuracy: 0.8152\n",
            "Epoch 30: val_binary_accuracy did not improve from 0.76190\n",
            "16/16 [==============================] - 30s 2s/step - loss: 0.3521 - binary_accuracy: 0.8152 - val_loss: 0.6285 - val_binary_accuracy: 0.6667 - lr: 0.0010\n",
            "Epoch 31/190\n",
            "16/16 [==============================] - ETA: 0s - loss: 0.3744 - binary_accuracy: 0.8424\n",
            "Epoch 31: val_binary_accuracy did not improve from 0.76190\n",
            "16/16 [==============================] - 30s 2s/step - loss: 0.3744 - binary_accuracy: 0.8424 - val_loss: 0.6142 - val_binary_accuracy: 0.7619 - lr: 0.0010\n",
            "Epoch 32/190\n",
            "16/16 [==============================] - ETA: 0s - loss: 0.3159 - binary_accuracy: 0.8641\n",
            "Epoch 32: val_binary_accuracy did not improve from 0.76190\n",
            "16/16 [==============================] - 30s 2s/step - loss: 0.3159 - binary_accuracy: 0.8641 - val_loss: 0.6211 - val_binary_accuracy: 0.7619 - lr: 0.0010\n",
            "Epoch 33/190\n",
            "16/16 [==============================] - ETA: 0s - loss: 0.3370 - binary_accuracy: 0.8696\n",
            "Epoch 33: val_binary_accuracy did not improve from 0.76190\n",
            "16/16 [==============================] - 30s 2s/step - loss: 0.3370 - binary_accuracy: 0.8696 - val_loss: 0.6066 - val_binary_accuracy: 0.7619 - lr: 0.0010\n",
            "Epoch 34/190\n",
            "16/16 [==============================] - ETA: 0s - loss: 0.3050 - binary_accuracy: 0.8587\n",
            "Epoch 34: val_binary_accuracy did not improve from 0.76190\n",
            "16/16 [==============================] - 30s 2s/step - loss: 0.3050 - binary_accuracy: 0.8587 - val_loss: 0.6979 - val_binary_accuracy: 0.7619 - lr: 0.0010\n",
            "Epoch 35/190\n",
            "16/16 [==============================] - ETA: 0s - loss: 0.5852 - binary_accuracy: 0.7609\n",
            "Epoch 35: val_binary_accuracy did not improve from 0.76190\n",
            "16/16 [==============================] - 30s 2s/step - loss: 0.5852 - binary_accuracy: 0.7609 - val_loss: 1.1772 - val_binary_accuracy: 0.7143 - lr: 0.0010\n",
            "Epoch 36/190\n",
            "16/16 [==============================] - ETA: 0s - loss: 0.4578 - binary_accuracy: 0.7989\n",
            "Epoch 36: val_binary_accuracy did not improve from 0.76190\n",
            "16/16 [==============================] - 30s 2s/step - loss: 0.4578 - binary_accuracy: 0.7989 - val_loss: 0.7871 - val_binary_accuracy: 0.7619 - lr: 0.0010\n",
            "Epoch 37/190\n",
            "16/16 [==============================] - ETA: 0s - loss: 0.3656 - binary_accuracy: 0.8424\n",
            "Epoch 37: val_binary_accuracy did not improve from 0.76190\n",
            "16/16 [==============================] - 30s 2s/step - loss: 0.3656 - binary_accuracy: 0.8424 - val_loss: 0.6965 - val_binary_accuracy: 0.7619 - lr: 0.0010\n",
            "Epoch 38/190\n",
            "16/16 [==============================] - ETA: 0s - loss: 0.3338 - binary_accuracy: 0.8587\n",
            "Epoch 38: val_binary_accuracy did not improve from 0.76190\n",
            "16/16 [==============================] - 30s 2s/step - loss: 0.3338 - binary_accuracy: 0.8587 - val_loss: 0.8108 - val_binary_accuracy: 0.7619 - lr: 0.0010\n",
            "Epoch 39/190\n",
            "16/16 [==============================] - ETA: 0s - loss: 0.3678 - binary_accuracy: 0.8315\n",
            "Epoch 39: val_binary_accuracy did not improve from 0.76190\n",
            "16/16 [==============================] - 30s 2s/step - loss: 0.3678 - binary_accuracy: 0.8315 - val_loss: 0.7757 - val_binary_accuracy: 0.7619 - lr: 0.0010\n",
            "Epoch 40/190\n",
            "16/16 [==============================] - ETA: 0s - loss: 0.4110 - binary_accuracy: 0.8370\n",
            "Epoch 40: val_binary_accuracy did not improve from 0.76190\n",
            "16/16 [==============================] - 30s 2s/step - loss: 0.4110 - binary_accuracy: 0.8370 - val_loss: 0.6267 - val_binary_accuracy: 0.6667 - lr: 0.0010\n",
            "Epoch 41/190\n",
            "16/16 [==============================] - ETA: 0s - loss: 0.4212 - binary_accuracy: 0.8098\n",
            "Epoch 41: val_binary_accuracy did not improve from 0.76190\n",
            "16/16 [==============================] - 30s 2s/step - loss: 0.4212 - binary_accuracy: 0.8098 - val_loss: 0.6381 - val_binary_accuracy: 0.7143 - lr: 0.0010\n",
            "Epoch 42/190\n",
            "16/16 [==============================] - ETA: 0s - loss: 0.3094 - binary_accuracy: 0.8696\n",
            "Epoch 42: val_binary_accuracy did not improve from 0.76190\n",
            "16/16 [==============================] - 30s 2s/step - loss: 0.3094 - binary_accuracy: 0.8696 - val_loss: 0.6588 - val_binary_accuracy: 0.7143 - lr: 0.0010\n",
            "Epoch 43/190\n",
            "16/16 [==============================] - ETA: 0s - loss: 0.3106 - binary_accuracy: 0.8641\n",
            "Epoch 43: val_binary_accuracy did not improve from 0.76190\n",
            "16/16 [==============================] - 30s 2s/step - loss: 0.3106 - binary_accuracy: 0.8641 - val_loss: 0.8292 - val_binary_accuracy: 0.7619 - lr: 0.0010\n",
            "Epoch 44/190\n",
            "16/16 [==============================] - ETA: 0s - loss: 0.3061 - binary_accuracy: 0.8587\n",
            "Epoch 44: val_binary_accuracy did not improve from 0.76190\n",
            "16/16 [==============================] - 30s 2s/step - loss: 0.3061 - binary_accuracy: 0.8587 - val_loss: 0.5963 - val_binary_accuracy: 0.7619 - lr: 0.0010\n",
            "Epoch 45/190\n",
            "16/16 [==============================] - ETA: 0s - loss: 0.2774 - binary_accuracy: 0.8750\n",
            "Epoch 45: val_binary_accuracy did not improve from 0.76190\n",
            "16/16 [==============================] - 30s 2s/step - loss: 0.2774 - binary_accuracy: 0.8750 - val_loss: 0.5711 - val_binary_accuracy: 0.7619 - lr: 0.0010\n",
            "Epoch 46/190\n",
            "16/16 [==============================] - ETA: 0s - loss: 0.2833 - binary_accuracy: 0.8804\n",
            "Epoch 46: val_binary_accuracy did not improve from 0.76190\n",
            "16/16 [==============================] - 30s 2s/step - loss: 0.2833 - binary_accuracy: 0.8804 - val_loss: 0.5101 - val_binary_accuracy: 0.7619 - lr: 0.0010\n",
            "Epoch 47/190\n",
            "16/16 [==============================] - ETA: 0s - loss: 0.3103 - binary_accuracy: 0.8641\n",
            "Epoch 47: val_binary_accuracy improved from 0.76190 to 0.85714, saving model to HPLC_loss_0.31033_val_acc_0.85714.hdf5\n",
            "16/16 [==============================] - 30s 2s/step - loss: 0.3103 - binary_accuracy: 0.8641 - val_loss: 0.4789 - val_binary_accuracy: 0.8571 - lr: 0.0010\n",
            "Epoch 48/190\n",
            "16/16 [==============================] - ETA: 0s - loss: 0.3272 - binary_accuracy: 0.8424\n",
            "Epoch 48: val_binary_accuracy did not improve from 0.85714\n",
            "16/16 [==============================] - 30s 2s/step - loss: 0.3272 - binary_accuracy: 0.8424 - val_loss: 0.5980 - val_binary_accuracy: 0.7619 - lr: 0.0010\n",
            "Epoch 49/190\n",
            "16/16 [==============================] - ETA: 0s - loss: 0.2578 - binary_accuracy: 0.8967\n",
            "Epoch 49: val_binary_accuracy did not improve from 0.85714\n",
            "16/16 [==============================] - 30s 2s/step - loss: 0.2578 - binary_accuracy: 0.8967 - val_loss: 0.6338 - val_binary_accuracy: 0.7619 - lr: 0.0010\n",
            "Epoch 50/190\n",
            "16/16 [==============================] - ETA: 0s - loss: 0.2694 - binary_accuracy: 0.9022\n",
            "Epoch 50: val_binary_accuracy did not improve from 0.85714\n",
            "16/16 [==============================] - 30s 2s/step - loss: 0.2694 - binary_accuracy: 0.9022 - val_loss: 0.4801 - val_binary_accuracy: 0.8095 - lr: 0.0010\n",
            "Epoch 51/190\n",
            "16/16 [==============================] - ETA: 0s - loss: 0.4061 - binary_accuracy: 0.8261\n",
            "Epoch 51: val_binary_accuracy did not improve from 0.85714\n",
            "16/16 [==============================] - 30s 2s/step - loss: 0.4061 - binary_accuracy: 0.8261 - val_loss: 0.7165 - val_binary_accuracy: 0.7619 - lr: 0.0010\n",
            "Epoch 52/190\n",
            "16/16 [==============================] - ETA: 0s - loss: 0.3097 - binary_accuracy: 0.8641\n",
            "Epoch 52: val_binary_accuracy did not improve from 0.85714\n",
            "16/16 [==============================] - 30s 2s/step - loss: 0.3097 - binary_accuracy: 0.8641 - val_loss: 0.6133 - val_binary_accuracy: 0.7619 - lr: 0.0010\n",
            "Epoch 53/190\n",
            "16/16 [==============================] - ETA: 0s - loss: 0.2863 - binary_accuracy: 0.8750\n",
            "Epoch 53: val_binary_accuracy did not improve from 0.85714\n",
            "16/16 [==============================] - 30s 2s/step - loss: 0.2863 - binary_accuracy: 0.8750 - val_loss: 0.6176 - val_binary_accuracy: 0.7619 - lr: 0.0010\n",
            "Epoch 54/190\n",
            "16/16 [==============================] - ETA: 0s - loss: 0.2752 - binary_accuracy: 0.8750\n",
            "Epoch 54: val_binary_accuracy did not improve from 0.85714\n",
            "16/16 [==============================] - 30s 2s/step - loss: 0.2752 - binary_accuracy: 0.8750 - val_loss: 0.5940 - val_binary_accuracy: 0.7619 - lr: 0.0010\n",
            "Epoch 55/190\n",
            "16/16 [==============================] - ETA: 0s - loss: 0.2409 - binary_accuracy: 0.8750\n",
            "Epoch 55: val_binary_accuracy did not improve from 0.85714\n",
            "16/16 [==============================] - 30s 2s/step - loss: 0.2409 - binary_accuracy: 0.8750 - val_loss: 0.4297 - val_binary_accuracy: 0.8571 - lr: 0.0010\n",
            "Epoch 56/190\n",
            "16/16 [==============================] - ETA: 0s - loss: 0.3619 - binary_accuracy: 0.8533\n",
            "Epoch 56: val_binary_accuracy did not improve from 0.85714\n",
            "16/16 [==============================] - 30s 2s/step - loss: 0.3619 - binary_accuracy: 0.8533 - val_loss: 0.5530 - val_binary_accuracy: 0.6667 - lr: 0.0010\n",
            "Epoch 57/190\n",
            "16/16 [==============================] - ETA: 0s - loss: 0.4079 - binary_accuracy: 0.8261\n",
            "Epoch 57: val_binary_accuracy did not improve from 0.85714\n",
            "16/16 [==============================] - 30s 2s/step - loss: 0.4079 - binary_accuracy: 0.8261 - val_loss: 0.6485 - val_binary_accuracy: 0.7619 - lr: 0.0010\n",
            "Epoch 58/190\n",
            "16/16 [==============================] - ETA: 0s - loss: 0.2821 - binary_accuracy: 0.8696\n",
            "Epoch 58: val_binary_accuracy did not improve from 0.85714\n",
            "16/16 [==============================] - 30s 2s/step - loss: 0.2821 - binary_accuracy: 0.8696 - val_loss: 0.5321 - val_binary_accuracy: 0.7619 - lr: 0.0010\n",
            "Epoch 59/190\n",
            "16/16 [==============================] - ETA: 0s - loss: 0.2571 - binary_accuracy: 0.9022\n",
            "Epoch 59: val_binary_accuracy did not improve from 0.85714\n",
            "16/16 [==============================] - 30s 2s/step - loss: 0.2571 - binary_accuracy: 0.9022 - val_loss: 0.6541 - val_binary_accuracy: 0.7619 - lr: 0.0010\n",
            "Epoch 60/190\n",
            "16/16 [==============================] - ETA: 0s - loss: 0.2575 - binary_accuracy: 0.9076\n",
            "Epoch 60: val_binary_accuracy did not improve from 0.85714\n",
            "16/16 [==============================] - 30s 2s/step - loss: 0.2575 - binary_accuracy: 0.9076 - val_loss: 0.8009 - val_binary_accuracy: 0.7619 - lr: 0.0010\n",
            "Epoch 61/190\n",
            "16/16 [==============================] - ETA: 0s - loss: 0.2745 - binary_accuracy: 0.8641\n",
            "Epoch 61: val_binary_accuracy did not improve from 0.85714\n",
            "16/16 [==============================] - 30s 2s/step - loss: 0.2745 - binary_accuracy: 0.8641 - val_loss: 0.6759 - val_binary_accuracy: 0.7619 - lr: 0.0010\n",
            "Epoch 62/190\n",
            "16/16 [==============================] - ETA: 0s - loss: 0.2542 - binary_accuracy: 0.8967\n",
            "Epoch 62: val_binary_accuracy did not improve from 0.85714\n",
            "16/16 [==============================] - 30s 2s/step - loss: 0.2542 - binary_accuracy: 0.8967 - val_loss: 0.5028 - val_binary_accuracy: 0.8095 - lr: 0.0010\n",
            "Epoch 63/190\n",
            "16/16 [==============================] - ETA: 0s - loss: 0.2255 - binary_accuracy: 0.9185\n",
            "Epoch 63: val_binary_accuracy did not improve from 0.85714\n",
            "16/16 [==============================] - 30s 2s/step - loss: 0.2255 - binary_accuracy: 0.9185 - val_loss: 0.9023 - val_binary_accuracy: 0.7619 - lr: 0.0010\n",
            "Epoch 64/190\n",
            "16/16 [==============================] - ETA: 0s - loss: 0.2761 - binary_accuracy: 0.8804\n",
            "Epoch 64: val_binary_accuracy did not improve from 0.85714\n",
            "16/16 [==============================] - 30s 2s/step - loss: 0.2761 - binary_accuracy: 0.8804 - val_loss: 0.6944 - val_binary_accuracy: 0.7619 - lr: 0.0010\n",
            "Epoch 65/190\n",
            "16/16 [==============================] - ETA: 0s - loss: 0.2802 - binary_accuracy: 0.8587\n",
            "Epoch 65: val_binary_accuracy did not improve from 0.85714\n",
            "16/16 [==============================] - 30s 2s/step - loss: 0.2802 - binary_accuracy: 0.8587 - val_loss: 1.0565 - val_binary_accuracy: 0.7619 - lr: 0.0010\n",
            "Epoch 66/190\n",
            "16/16 [==============================] - ETA: 0s - loss: 0.3117 - binary_accuracy: 0.8750\n",
            "Epoch 66: val_binary_accuracy did not improve from 0.85714\n",
            "16/16 [==============================] - 30s 2s/step - loss: 0.3117 - binary_accuracy: 0.8750 - val_loss: 0.5578 - val_binary_accuracy: 0.7619 - lr: 0.0010\n",
            "Epoch 67/190\n",
            "16/16 [==============================] - ETA: 0s - loss: 0.2993 - binary_accuracy: 0.8533\n",
            "Epoch 67: val_binary_accuracy did not improve from 0.85714\n",
            "16/16 [==============================] - 30s 2s/step - loss: 0.2993 - binary_accuracy: 0.8533 - val_loss: 0.6022 - val_binary_accuracy: 0.7619 - lr: 0.0010\n",
            "Epoch 68/190\n",
            "16/16 [==============================] - ETA: 0s - loss: 0.2339 - binary_accuracy: 0.9076\n",
            "Epoch 68: val_binary_accuracy did not improve from 0.85714\n",
            "16/16 [==============================] - 30s 2s/step - loss: 0.2339 - binary_accuracy: 0.9076 - val_loss: 0.4988 - val_binary_accuracy: 0.8571 - lr: 0.0010\n",
            "Epoch 69/190\n",
            "16/16 [==============================] - ETA: 0s - loss: 0.2403 - binary_accuracy: 0.8804\n",
            "Epoch 69: val_binary_accuracy did not improve from 0.85714\n",
            "16/16 [==============================] - 30s 2s/step - loss: 0.2403 - binary_accuracy: 0.8804 - val_loss: 0.4661 - val_binary_accuracy: 0.8571 - lr: 0.0010\n",
            "Epoch 70/190\n",
            "16/16 [==============================] - ETA: 0s - loss: 0.2618 - binary_accuracy: 0.8750\n",
            "Epoch 70: val_binary_accuracy did not improve from 0.85714\n",
            "16/16 [==============================] - 30s 2s/step - loss: 0.2618 - binary_accuracy: 0.8750 - val_loss: 0.6057 - val_binary_accuracy: 0.7619 - lr: 0.0010\n",
            "Epoch 71/190\n",
            "16/16 [==============================] - ETA: 0s - loss: 0.2424 - binary_accuracy: 0.8913\n",
            "Epoch 71: val_binary_accuracy did not improve from 0.85714\n",
            "16/16 [==============================] - 30s 2s/step - loss: 0.2424 - binary_accuracy: 0.8913 - val_loss: 0.5629 - val_binary_accuracy: 0.8095 - lr: 0.0010\n",
            "Epoch 72/190\n",
            "16/16 [==============================] - ETA: 0s - loss: 0.2504 - binary_accuracy: 0.9076\n",
            "Epoch 72: val_binary_accuracy did not improve from 0.85714\n",
            "16/16 [==============================] - 30s 2s/step - loss: 0.2504 - binary_accuracy: 0.9076 - val_loss: 0.3695 - val_binary_accuracy: 0.8571 - lr: 0.0010\n",
            "Epoch 73/190\n",
            "16/16 [==============================] - ETA: 0s - loss: 0.2287 - binary_accuracy: 0.9022\n",
            "Epoch 73: val_binary_accuracy did not improve from 0.85714\n",
            "16/16 [==============================] - 30s 2s/step - loss: 0.2287 - binary_accuracy: 0.9022 - val_loss: 0.7692 - val_binary_accuracy: 0.7619 - lr: 0.0010\n",
            "Epoch 74/190\n",
            "16/16 [==============================] - ETA: 0s - loss: 0.3239 - binary_accuracy: 0.8533\n",
            "Epoch 74: val_binary_accuracy did not improve from 0.85714\n",
            "16/16 [==============================] - 30s 2s/step - loss: 0.3239 - binary_accuracy: 0.8533 - val_loss: 0.6219 - val_binary_accuracy: 0.7619 - lr: 0.0010\n",
            "Epoch 75/190\n",
            "16/16 [==============================] - ETA: 0s - loss: 0.3682 - binary_accuracy: 0.8424\n",
            "Epoch 75: val_binary_accuracy did not improve from 0.85714\n",
            "16/16 [==============================] - 30s 2s/step - loss: 0.3682 - binary_accuracy: 0.8424 - val_loss: 0.6450 - val_binary_accuracy: 0.7619 - lr: 0.0010\n",
            "Epoch 76/190\n",
            "16/16 [==============================] - ETA: 0s - loss: 0.2364 - binary_accuracy: 0.9022\n",
            "Epoch 76: val_binary_accuracy did not improve from 0.85714\n",
            "16/16 [==============================] - 30s 2s/step - loss: 0.2364 - binary_accuracy: 0.9022 - val_loss: 0.5215 - val_binary_accuracy: 0.8095 - lr: 0.0010\n",
            "Epoch 77/190\n",
            "16/16 [==============================] - ETA: 0s - loss: 0.2365 - binary_accuracy: 0.9185\n",
            "Epoch 77: val_binary_accuracy did not improve from 0.85714\n",
            "16/16 [==============================] - 30s 2s/step - loss: 0.2365 - binary_accuracy: 0.9185 - val_loss: 0.4089 - val_binary_accuracy: 0.8571 - lr: 0.0010\n",
            "Epoch 78/190\n",
            "16/16 [==============================] - ETA: 0s - loss: 0.2164 - binary_accuracy: 0.9130\n",
            "Epoch 78: val_binary_accuracy did not improve from 0.85714\n",
            "16/16 [==============================] - 30s 2s/step - loss: 0.2164 - binary_accuracy: 0.9130 - val_loss: 0.3882 - val_binary_accuracy: 0.8571 - lr: 0.0010\n",
            "Epoch 79/190\n",
            "16/16 [==============================] - ETA: 0s - loss: 0.2411 - binary_accuracy: 0.8967\n",
            "Epoch 79: val_binary_accuracy did not improve from 0.85714\n",
            "16/16 [==============================] - 30s 2s/step - loss: 0.2411 - binary_accuracy: 0.8967 - val_loss: 0.3390 - val_binary_accuracy: 0.8571 - lr: 0.0010\n",
            "Epoch 80/190\n",
            "16/16 [==============================] - ETA: 0s - loss: 0.2862 - binary_accuracy: 0.8533\n",
            "Epoch 80: val_binary_accuracy did not improve from 0.85714\n",
            "16/16 [==============================] - 30s 2s/step - loss: 0.2862 - binary_accuracy: 0.8533 - val_loss: 0.3379 - val_binary_accuracy: 0.8571 - lr: 0.0010\n",
            "Epoch 81/190\n",
            "16/16 [==============================] - ETA: 0s - loss: 0.2286 - binary_accuracy: 0.9022\n",
            "Epoch 81: val_binary_accuracy did not improve from 0.85714\n",
            "16/16 [==============================] - 30s 2s/step - loss: 0.2286 - binary_accuracy: 0.9022 - val_loss: 0.4824 - val_binary_accuracy: 0.8571 - lr: 0.0010\n",
            "Epoch 82/190\n",
            "16/16 [==============================] - ETA: 0s - loss: 0.2160 - binary_accuracy: 0.9239\n",
            "Epoch 82: val_binary_accuracy did not improve from 0.85714\n",
            "16/16 [==============================] - 30s 2s/step - loss: 0.2160 - binary_accuracy: 0.9239 - val_loss: 0.5215 - val_binary_accuracy: 0.8571 - lr: 0.0010\n",
            "Epoch 83/190\n",
            "16/16 [==============================] - ETA: 0s - loss: 0.2465 - binary_accuracy: 0.8913\n",
            "Epoch 83: val_binary_accuracy did not improve from 0.85714\n",
            "16/16 [==============================] - 30s 2s/step - loss: 0.2465 - binary_accuracy: 0.8913 - val_loss: 0.7142 - val_binary_accuracy: 0.7619 - lr: 0.0010\n",
            "Epoch 84/190\n",
            "16/16 [==============================] - ETA: 0s - loss: 0.2291 - binary_accuracy: 0.9076\n",
            "Epoch 84: val_binary_accuracy did not improve from 0.85714\n",
            "16/16 [==============================] - 30s 2s/step - loss: 0.2291 - binary_accuracy: 0.9076 - val_loss: 0.4575 - val_binary_accuracy: 0.8571 - lr: 0.0010\n",
            "Epoch 85/190\n",
            "16/16 [==============================] - ETA: 0s - loss: 0.2172 - binary_accuracy: 0.9130\n",
            "Epoch 85: val_binary_accuracy did not improve from 0.85714\n",
            "16/16 [==============================] - 30s 2s/step - loss: 0.2172 - binary_accuracy: 0.9130 - val_loss: 0.4577 - val_binary_accuracy: 0.8571 - lr: 0.0010\n",
            "Epoch 86/190\n",
            "16/16 [==============================] - ETA: 0s - loss: 0.2190 - binary_accuracy: 0.9022\n",
            "Epoch 86: val_binary_accuracy did not improve from 0.85714\n",
            "16/16 [==============================] - 30s 2s/step - loss: 0.2190 - binary_accuracy: 0.9022 - val_loss: 0.3564 - val_binary_accuracy: 0.8571 - lr: 0.0010\n",
            "Epoch 87/190\n",
            "16/16 [==============================] - ETA: 0s - loss: 0.2073 - binary_accuracy: 0.9076\n",
            "Epoch 87: val_binary_accuracy did not improve from 0.85714\n",
            "16/16 [==============================] - 30s 2s/step - loss: 0.2073 - binary_accuracy: 0.9076 - val_loss: 0.4877 - val_binary_accuracy: 0.8571 - lr: 0.0010\n",
            "Epoch 88/190\n",
            "16/16 [==============================] - ETA: 0s - loss: 0.3581 - binary_accuracy: 0.8587\n",
            "Epoch 88: val_binary_accuracy improved from 0.85714 to 0.90476, saving model to HPLC_loss_0.35812_val_acc_0.90476.hdf5\n",
            "16/16 [==============================] - 30s 2s/step - loss: 0.3581 - binary_accuracy: 0.8587 - val_loss: 0.3385 - val_binary_accuracy: 0.9048 - lr: 0.0010\n",
            "Epoch 89/190\n",
            "16/16 [==============================] - ETA: 0s - loss: 0.2675 - binary_accuracy: 0.9076\n",
            "Epoch 89: val_binary_accuracy did not improve from 0.90476\n",
            "16/16 [==============================] - 30s 2s/step - loss: 0.2675 - binary_accuracy: 0.9076 - val_loss: 0.5690 - val_binary_accuracy: 0.8095 - lr: 0.0010\n",
            "Epoch 90/190\n",
            "16/16 [==============================] - ETA: 0s - loss: 0.2448 - binary_accuracy: 0.8804\n",
            "Epoch 90: val_binary_accuracy did not improve from 0.90476\n",
            "16/16 [==============================] - 30s 2s/step - loss: 0.2448 - binary_accuracy: 0.8804 - val_loss: 0.9238 - val_binary_accuracy: 0.7619 - lr: 0.0010\n",
            "Epoch 91/190\n",
            "16/16 [==============================] - ETA: 0s - loss: 0.2486 - binary_accuracy: 0.9076\n",
            "Epoch 91: val_binary_accuracy did not improve from 0.90476\n",
            "16/16 [==============================] - 30s 2s/step - loss: 0.2486 - binary_accuracy: 0.9076 - val_loss: 0.6733 - val_binary_accuracy: 0.7619 - lr: 0.0010\n",
            "Epoch 92/190\n",
            "16/16 [==============================] - ETA: 0s - loss: 0.2283 - binary_accuracy: 0.9022\n",
            "Epoch 92: val_binary_accuracy did not improve from 0.90476\n",
            "16/16 [==============================] - 30s 2s/step - loss: 0.2283 - binary_accuracy: 0.9022 - val_loss: 0.8956 - val_binary_accuracy: 0.7619 - lr: 0.0010\n",
            "Epoch 93/190\n",
            "16/16 [==============================] - ETA: 0s - loss: 0.2924 - binary_accuracy: 0.8750\n",
            "Epoch 93: val_binary_accuracy did not improve from 0.90476\n",
            "16/16 [==============================] - 30s 2s/step - loss: 0.2924 - binary_accuracy: 0.8750 - val_loss: 0.7751 - val_binary_accuracy: 0.7619 - lr: 0.0010\n",
            "Epoch 94/190\n",
            "16/16 [==============================] - ETA: 0s - loss: 0.2711 - binary_accuracy: 0.8696\n",
            "Epoch 94: val_binary_accuracy did not improve from 0.90476\n",
            "16/16 [==============================] - 30s 2s/step - loss: 0.2711 - binary_accuracy: 0.8696 - val_loss: 0.7618 - val_binary_accuracy: 0.7619 - lr: 0.0010\n",
            "Epoch 95/190\n",
            "16/16 [==============================] - ETA: 0s - loss: 0.2197 - binary_accuracy: 0.8913\n",
            "Epoch 95: val_binary_accuracy did not improve from 0.90476\n",
            "16/16 [==============================] - 30s 2s/step - loss: 0.2197 - binary_accuracy: 0.8913 - val_loss: 0.7005 - val_binary_accuracy: 0.7619 - lr: 0.0010\n",
            "Epoch 96/190\n",
            "16/16 [==============================] - ETA: 0s - loss: 0.2217 - binary_accuracy: 0.9130\n",
            "Epoch 96: val_binary_accuracy did not improve from 0.90476\n",
            "16/16 [==============================] - 30s 2s/step - loss: 0.2217 - binary_accuracy: 0.9130 - val_loss: 0.7543 - val_binary_accuracy: 0.7619 - lr: 0.0010\n",
            "Epoch 97/190\n",
            "16/16 [==============================] - ETA: 0s - loss: 0.2628 - binary_accuracy: 0.8750\n",
            "Epoch 97: val_binary_accuracy did not improve from 0.90476\n",
            "16/16 [==============================] - 30s 2s/step - loss: 0.2628 - binary_accuracy: 0.8750 - val_loss: 0.5617 - val_binary_accuracy: 0.8095 - lr: 0.0010\n",
            "Epoch 98/190\n",
            "16/16 [==============================] - ETA: 0s - loss: 0.2194 - binary_accuracy: 0.9076\n",
            "Epoch 98: val_binary_accuracy did not improve from 0.90476\n",
            "16/16 [==============================] - 30s 2s/step - loss: 0.2194 - binary_accuracy: 0.9076 - val_loss: 0.5130 - val_binary_accuracy: 0.8571 - lr: 0.0010\n",
            "Epoch 99/190\n",
            "16/16 [==============================] - ETA: 0s - loss: 0.2338 - binary_accuracy: 0.8967\n",
            "Epoch 99: val_binary_accuracy did not improve from 0.90476\n",
            "16/16 [==============================] - 30s 2s/step - loss: 0.2338 - binary_accuracy: 0.8967 - val_loss: 0.3453 - val_binary_accuracy: 0.9048 - lr: 0.0010\n",
            "Epoch 100/190\n",
            "16/16 [==============================] - ETA: 0s - loss: 0.2430 - binary_accuracy: 0.9022\n",
            "Epoch 100: val_binary_accuracy did not improve from 0.90476\n",
            "16/16 [==============================] - 30s 2s/step - loss: 0.2430 - binary_accuracy: 0.9022 - val_loss: 0.4102 - val_binary_accuracy: 0.8571 - lr: 0.0010\n",
            "Epoch 101/190\n",
            "16/16 [==============================] - ETA: 0s - loss: 0.2587 - binary_accuracy: 0.8804\n",
            "Epoch 101: val_binary_accuracy did not improve from 0.90476\n",
            "16/16 [==============================] - 30s 2s/step - loss: 0.2587 - binary_accuracy: 0.8804 - val_loss: 0.2598 - val_binary_accuracy: 0.9048 - lr: 0.0010\n",
            "Epoch 102/190\n",
            "16/16 [==============================] - ETA: 0s - loss: 0.3000 - binary_accuracy: 0.8587\n",
            "Epoch 102: val_binary_accuracy did not improve from 0.90476\n",
            "16/16 [==============================] - 30s 2s/step - loss: 0.3000 - binary_accuracy: 0.8587 - val_loss: 0.3222 - val_binary_accuracy: 0.9048 - lr: 0.0010\n",
            "Epoch 103/190\n",
            "16/16 [==============================] - ETA: 0s - loss: 0.3636 - binary_accuracy: 0.8478\n",
            "Epoch 103: val_binary_accuracy did not improve from 0.90476\n",
            "16/16 [==============================] - 30s 2s/step - loss: 0.3636 - binary_accuracy: 0.8478 - val_loss: 0.3258 - val_binary_accuracy: 0.9048 - lr: 0.0010\n",
            "Epoch 104/190\n",
            "16/16 [==============================] - ETA: 0s - loss: 0.2844 - binary_accuracy: 0.8913\n",
            "Epoch 104: val_binary_accuracy did not improve from 0.90476\n",
            "16/16 [==============================] - 30s 2s/step - loss: 0.2844 - binary_accuracy: 0.8913 - val_loss: 0.5516 - val_binary_accuracy: 0.8095 - lr: 0.0010\n",
            "Epoch 105/190\n",
            "16/16 [==============================] - ETA: 0s - loss: 0.2441 - binary_accuracy: 0.8967\n",
            "Epoch 105: val_binary_accuracy did not improve from 0.90476\n",
            "16/16 [==============================] - 30s 2s/step - loss: 0.2441 - binary_accuracy: 0.8967 - val_loss: 0.4658 - val_binary_accuracy: 0.8571 - lr: 0.0010\n",
            "Epoch 106/190\n",
            "16/16 [==============================] - ETA: 0s - loss: 0.2145 - binary_accuracy: 0.9130\n",
            "Epoch 106: val_binary_accuracy did not improve from 0.90476\n",
            "16/16 [==============================] - 30s 2s/step - loss: 0.2145 - binary_accuracy: 0.9130 - val_loss: 0.4865 - val_binary_accuracy: 0.8571 - lr: 0.0010\n",
            "Epoch 107/190\n",
            "16/16 [==============================] - ETA: 0s - loss: 0.2064 - binary_accuracy: 0.9076\n",
            "Epoch 107: val_binary_accuracy did not improve from 0.90476\n",
            "16/16 [==============================] - 30s 2s/step - loss: 0.2064 - binary_accuracy: 0.9076 - val_loss: 0.6452 - val_binary_accuracy: 0.8095 - lr: 0.0010\n",
            "Epoch 108/190\n",
            "16/16 [==============================] - ETA: 0s - loss: 0.2241 - binary_accuracy: 0.8967\n",
            "Epoch 108: val_binary_accuracy did not improve from 0.90476\n",
            "16/16 [==============================] - 30s 2s/step - loss: 0.2241 - binary_accuracy: 0.8967 - val_loss: 0.9533 - val_binary_accuracy: 0.7619 - lr: 0.0010\n",
            "Epoch 109/190\n",
            "16/16 [==============================] - ETA: 0s - loss: 0.2402 - binary_accuracy: 0.8967\n",
            "Epoch 109: val_binary_accuracy did not improve from 0.90476\n",
            "16/16 [==============================] - 30s 2s/step - loss: 0.2402 - binary_accuracy: 0.8967 - val_loss: 0.5569 - val_binary_accuracy: 0.8095 - lr: 0.0010\n",
            "Epoch 110/190\n",
            "16/16 [==============================] - ETA: 0s - loss: 0.2245 - binary_accuracy: 0.9076\n",
            "Epoch 110: val_binary_accuracy did not improve from 0.90476\n",
            "16/16 [==============================] - 30s 2s/step - loss: 0.2245 - binary_accuracy: 0.9076 - val_loss: 0.3152 - val_binary_accuracy: 0.9048 - lr: 0.0010\n",
            "Epoch 111/190\n",
            "16/16 [==============================] - ETA: 0s - loss: 0.2241 - binary_accuracy: 0.9185\n",
            "Epoch 111: val_binary_accuracy did not improve from 0.90476\n",
            "16/16 [==============================] - 30s 2s/step - loss: 0.2241 - binary_accuracy: 0.9185 - val_loss: 0.4362 - val_binary_accuracy: 0.8571 - lr: 0.0010\n",
            "Epoch 112/190\n",
            "16/16 [==============================] - ETA: 0s - loss: 0.2086 - binary_accuracy: 0.9022\n",
            "Epoch 112: val_binary_accuracy did not improve from 0.90476\n",
            "16/16 [==============================] - 30s 2s/step - loss: 0.2086 - binary_accuracy: 0.9022 - val_loss: 0.5073 - val_binary_accuracy: 0.8571 - lr: 0.0010\n",
            "Epoch 113/190\n",
            "16/16 [==============================] - ETA: 0s - loss: 0.2061 - binary_accuracy: 0.9130\n",
            "Epoch 113: val_binary_accuracy did not improve from 0.90476\n",
            "16/16 [==============================] - 30s 2s/step - loss: 0.2061 - binary_accuracy: 0.9130 - val_loss: 0.3751 - val_binary_accuracy: 0.8571 - lr: 0.0010\n",
            "Epoch 114/190\n",
            "16/16 [==============================] - ETA: 0s - loss: 0.2389 - binary_accuracy: 0.9022\n",
            "Epoch 114: val_binary_accuracy did not improve from 0.90476\n",
            "16/16 [==============================] - 30s 2s/step - loss: 0.2389 - binary_accuracy: 0.9022 - val_loss: 0.4650 - val_binary_accuracy: 0.8571 - lr: 0.0010\n",
            "Epoch 115/190\n",
            "16/16 [==============================] - ETA: 0s - loss: 0.1919 - binary_accuracy: 0.9293\n",
            "Epoch 115: val_binary_accuracy did not improve from 0.90476\n",
            "16/16 [==============================] - 30s 2s/step - loss: 0.1919 - binary_accuracy: 0.9293 - val_loss: 0.6768 - val_binary_accuracy: 0.7619 - lr: 0.0010\n",
            "Epoch 116/190\n",
            "16/16 [==============================] - ETA: 0s - loss: 0.2056 - binary_accuracy: 0.8967\n",
            "Epoch 116: val_binary_accuracy did not improve from 0.90476\n",
            "16/16 [==============================] - 30s 2s/step - loss: 0.2056 - binary_accuracy: 0.8967 - val_loss: 0.6129 - val_binary_accuracy: 0.8095 - lr: 0.0010\n",
            "Epoch 117/190\n",
            "16/16 [==============================] - ETA: 0s - loss: 0.2384 - binary_accuracy: 0.8967\n",
            "Epoch 117: val_binary_accuracy did not improve from 0.90476\n",
            "16/16 [==============================] - 30s 2s/step - loss: 0.2384 - binary_accuracy: 0.8967 - val_loss: 0.3381 - val_binary_accuracy: 0.9048 - lr: 0.0010\n",
            "Epoch 118/190\n",
            "16/16 [==============================] - ETA: 0s - loss: 0.3244 - binary_accuracy: 0.8641\n",
            "Epoch 118: val_binary_accuracy did not improve from 0.90476\n",
            "16/16 [==============================] - 30s 2s/step - loss: 0.3244 - binary_accuracy: 0.8641 - val_loss: 0.5367 - val_binary_accuracy: 0.8571 - lr: 0.0010\n",
            "Epoch 119/190\n",
            "16/16 [==============================] - ETA: 0s - loss: 0.2187 - binary_accuracy: 0.9239\n",
            "Epoch 119: val_binary_accuracy did not improve from 0.90476\n",
            "16/16 [==============================] - 30s 2s/step - loss: 0.2187 - binary_accuracy: 0.9239 - val_loss: 0.4517 - val_binary_accuracy: 0.8571 - lr: 0.0010\n",
            "Epoch 120/190\n",
            "16/16 [==============================] - ETA: 0s - loss: 0.2206 - binary_accuracy: 0.9130\n",
            "Epoch 120: val_binary_accuracy did not improve from 0.90476\n",
            "16/16 [==============================] - 30s 2s/step - loss: 0.2206 - binary_accuracy: 0.9130 - val_loss: 0.5793 - val_binary_accuracy: 0.8095 - lr: 0.0010\n",
            "Epoch 121/190\n",
            "16/16 [==============================] - ETA: 0s - loss: 0.2299 - binary_accuracy: 0.9185\n",
            "Epoch 121: val_binary_accuracy did not improve from 0.90476\n",
            "16/16 [==============================] - 30s 2s/step - loss: 0.2299 - binary_accuracy: 0.9185 - val_loss: 0.5175 - val_binary_accuracy: 0.8571 - lr: 0.0010\n",
            "Epoch 122/190\n",
            "16/16 [==============================] - ETA: 0s - loss: 0.2218 - binary_accuracy: 0.9076\n",
            "Epoch 122: val_binary_accuracy did not improve from 0.90476\n",
            "16/16 [==============================] - 30s 2s/step - loss: 0.2218 - binary_accuracy: 0.9076 - val_loss: 0.8146 - val_binary_accuracy: 0.7619 - lr: 0.0010\n",
            "Epoch 123/190\n",
            "16/16 [==============================] - ETA: 0s - loss: 0.2041 - binary_accuracy: 0.8750\n",
            "Epoch 123: val_binary_accuracy did not improve from 0.90476\n",
            "16/16 [==============================] - 30s 2s/step - loss: 0.2041 - binary_accuracy: 0.8750 - val_loss: 0.4831 - val_binary_accuracy: 0.8571 - lr: 0.0010\n",
            "Epoch 124/190\n",
            "16/16 [==============================] - ETA: 0s - loss: 0.2216 - binary_accuracy: 0.9130\n",
            "Epoch 124: val_binary_accuracy did not improve from 0.90476\n",
            "16/16 [==============================] - 30s 2s/step - loss: 0.2216 - binary_accuracy: 0.9130 - val_loss: 0.4664 - val_binary_accuracy: 0.8571 - lr: 0.0010\n",
            "Epoch 125/190\n",
            "16/16 [==============================] - ETA: 0s - loss: 0.1975 - binary_accuracy: 0.9076\n",
            "Epoch 125: val_binary_accuracy did not improve from 0.90476\n",
            "16/16 [==============================] - 30s 2s/step - loss: 0.1975 - binary_accuracy: 0.9076 - val_loss: 0.3588 - val_binary_accuracy: 0.9048 - lr: 0.0010\n",
            "Epoch 126/190\n",
            "16/16 [==============================] - ETA: 0s - loss: 0.2553 - binary_accuracy: 0.8913\n",
            "Epoch 126: val_binary_accuracy did not improve from 0.90476\n",
            "16/16 [==============================] - 30s 2s/step - loss: 0.2553 - binary_accuracy: 0.8913 - val_loss: 0.4339 - val_binary_accuracy: 0.8571 - lr: 0.0010\n",
            "Epoch 127/190\n",
            "16/16 [==============================] - ETA: 0s - loss: 0.2096 - binary_accuracy: 0.9022\n",
            "Epoch 127: val_binary_accuracy did not improve from 0.90476\n",
            "16/16 [==============================] - 30s 2s/step - loss: 0.2096 - binary_accuracy: 0.9022 - val_loss: 0.3791 - val_binary_accuracy: 0.8571 - lr: 0.0010\n",
            "Epoch 128/190\n",
            "16/16 [==============================] - ETA: 0s - loss: 0.2399 - binary_accuracy: 0.8859\n",
            "Epoch 128: val_binary_accuracy did not improve from 0.90476\n",
            "16/16 [==============================] - 30s 2s/step - loss: 0.2399 - binary_accuracy: 0.8859 - val_loss: 0.3992 - val_binary_accuracy: 0.9048 - lr: 0.0010\n",
            "Epoch 129/190\n",
            "16/16 [==============================] - ETA: 0s - loss: 0.2150 - binary_accuracy: 0.9185\n",
            "Epoch 129: val_binary_accuracy did not improve from 0.90476\n",
            "16/16 [==============================] - 30s 2s/step - loss: 0.2150 - binary_accuracy: 0.9185 - val_loss: 0.3799 - val_binary_accuracy: 0.8571 - lr: 0.0010\n",
            "Epoch 130/190\n",
            "16/16 [==============================] - ETA: 0s - loss: 0.1977 - binary_accuracy: 0.9076\n",
            "Epoch 130: val_binary_accuracy did not improve from 0.90476\n",
            "16/16 [==============================] - 30s 2s/step - loss: 0.1977 - binary_accuracy: 0.9076 - val_loss: 0.4556 - val_binary_accuracy: 0.8571 - lr: 0.0010\n",
            "Epoch 131/190\n",
            "16/16 [==============================] - ETA: 0s - loss: 0.2055 - binary_accuracy: 0.9185\n",
            "Epoch 131: val_binary_accuracy did not improve from 0.90476\n",
            "16/16 [==============================] - 30s 2s/step - loss: 0.2055 - binary_accuracy: 0.9185 - val_loss: 0.5617 - val_binary_accuracy: 0.8571 - lr: 0.0010\n",
            "Epoch 132/190\n",
            "16/16 [==============================] - ETA: 0s - loss: 0.2097 - binary_accuracy: 0.9185\n",
            "Epoch 132: val_binary_accuracy did not improve from 0.90476\n",
            "16/16 [==============================] - 30s 2s/step - loss: 0.2097 - binary_accuracy: 0.9185 - val_loss: 0.6158 - val_binary_accuracy: 0.8095 - lr: 0.0010\n",
            "Epoch 133/190\n",
            "16/16 [==============================] - ETA: 0s - loss: 0.1829 - binary_accuracy: 0.9293\n",
            "Epoch 133: val_binary_accuracy did not improve from 0.90476\n",
            "16/16 [==============================] - 30s 2s/step - loss: 0.1829 - binary_accuracy: 0.9293 - val_loss: 0.5278 - val_binary_accuracy: 0.8571 - lr: 0.0010\n",
            "Epoch 134/190\n",
            "16/16 [==============================] - ETA: 0s - loss: 0.2048 - binary_accuracy: 0.9022\n",
            "Epoch 134: val_binary_accuracy did not improve from 0.90476\n",
            "16/16 [==============================] - 32s 2s/step - loss: 0.2048 - binary_accuracy: 0.9022 - val_loss: 0.4176 - val_binary_accuracy: 0.9048 - lr: 0.0010\n",
            "Epoch 135/190\n",
            " 8/16 [==============>...............] - ETA: 14s - loss: 0.1701 - binary_accuracy: 0.9375"
          ]
        }
      ],
      "source": [
        "# Illesszük az adatra a modellt\n",
        "history=model.fit(\n",
        "        x=df_X_minmax,\n",
        "        y=df_y2, \n",
        "        epochs=190, \n",
        "        batch_size=12,\n",
        "        validation_split=0.1,         \n",
        "        callbacks=[callbacks]          \n",
        "        )\n"
      ]
    },
    {
      "cell_type": "code",
      "source": [
        ""
      ],
      "metadata": {
        "id": "I132le63oAkN"
      },
      "execution_count": null,
      "outputs": []
    },
    {
      "cell_type": "code",
      "source": [
        ""
      ],
      "metadata": {
        "id": "el4jLBvoybTN"
      },
      "execution_count": null,
      "outputs": []
    },
    {
      "cell_type": "code",
      "source": [
        ""
      ],
      "metadata": {
        "id": "05jpd7BjeYez"
      },
      "execution_count": null,
      "outputs": []
    },
    {
      "cell_type": "code",
      "execution_count": null,
      "metadata": {
        "id": "nk87VBSQndA5"
      },
      "outputs": [],
      "source": [
        "dfmodel.load_weights(\"XXXX_loss_0.35812_val_acc_0.90476.hdf5\")"
      ]
    },
    {
      "cell_type": "code",
      "execution_count": null,
      "metadata": {
        "id": "m1ks758inc_Z"
      },
      "outputs": [],
      "source": [
        ""
      ]
    },
    {
      "cell_type": "code",
      "execution_count": null,
      "metadata": {
        "id": "Y_CHGgYja_bB"
      },
      "outputs": [],
      "source": [
        "pred=model.predict(df_X_minmax)"
      ]
    },
    {
      "cell_type": "code",
      "execution_count": null,
      "metadata": {
        "id": "loCl2-qmA6SL"
      },
      "outputs": [],
      "source": [
        "def maxpos(alist):\n",
        "    temp = max(alist)\n",
        "    res = [i for i, j in enumerate(alist) if j == temp]\n",
        "    return res[0]  \n"
      ]
    },
    {
      "cell_type": "code",
      "execution_count": null,
      "metadata": {
        "id": "CIFRZ753bMNi"
      },
      "outputs": [],
      "source": [
        "from IPython.lib.display import YouTubeVideo\n",
        "def show_difference(pred,ytrain,verbose=False):\n",
        "    ecounter=0\n",
        "    for i in range(len(pred)):\n",
        "        predi=pred[i]\n",
        "        traini=ytrain[i]\n",
        "        if predi!=traini:\n",
        "            ecounter+=1\n",
        "        if verbose:\n",
        "            print(f\"{i}, {predi}, {traini}\")\n",
        "                \n",
        "    print(f\"Hiba szám: {ecounter:6}, arány: {ecounter/len(ytrain)*100}% \")\n"
      ]
    },
    {
      "cell_type": "code",
      "execution_count": null,
      "metadata": {
        "id": "IWKt2DCcFbKc"
      },
      "outputs": [],
      "source": [
        "show_difference(pred,df_y2)"
      ]
    },
    {
      "cell_type": "code",
      "execution_count": null,
      "metadata": {
        "id": "x39xe3TmGHJ_"
      },
      "outputs": [],
      "source": [
        "---"
      ]
    },
    {
      "cell_type": "markdown",
      "metadata": {
        "id": "hlKyrRqfG6GP"
      },
      "source": [
        "### Model usage"
      ]
    },
    {
      "cell_type": "code",
      "execution_count": null,
      "metadata": {
        "id": "vvmmKvBIF4n8"
      },
      "outputs": [],
      "source": [
        "test_df=pd.read_csv(\"test_200.csv\")"
      ]
    },
    {
      "cell_type": "code",
      "execution_count": null,
      "metadata": {
        "id": "Mc0vyTmcHRvY"
      },
      "outputs": [],
      "source": [
        "print(len(test_df))"
      ]
    },
    {
      "cell_type": "code",
      "execution_count": null,
      "metadata": {
        "id": "5utaqxGNHU7y"
      },
      "outputs": [],
      "source": [
        "test_df.head()"
      ]
    },
    {
      "cell_type": "code",
      "execution_count": null,
      "metadata": {
        "id": "ykk17oAEoPwM"
      },
      "outputs": [],
      "source": [
        "__MAXWORD__=200\n",
        "test_word_list=list(test_df.Words_in_Numbers)\n",
        "x_test=create_x(test_word_list,maxword=__MAXWORD__)"
      ]
    },
    {
      "cell_type": "code",
      "execution_count": null,
      "metadata": {
        "id": "Yg0DqmUWoj5s"
      },
      "outputs": [],
      "source": [
        "y_pred=model.predict(x_test)"
      ]
    },
    {
      "cell_type": "code",
      "execution_count": null,
      "metadata": {
        "id": "itw7lX_hqO5m"
      },
      "outputs": [],
      "source": [
        "o=[\"kitaifa\",\"michezo\",\"biashara\",\"kamataifa\",\"burudani\"]"
      ]
    },
    {
      "cell_type": "code",
      "execution_count": null,
      "metadata": {
        "id": "JOQFlEC2oj2i"
      },
      "outputs": [],
      "source": [
        "def data_generator(y_pred):\n",
        "    out=[]\n",
        "    for pred in y_pred:\n",
        "        t1=[0,0,0,0,0]\n",
        "        ox=pred.argmax()\n",
        "        t1[ox]=1\n",
        "        out.append(t1) \n",
        "    return(out)"
      ]
    },
    {
      "cell_type": "code",
      "execution_count": null,
      "metadata": {
        "id": "tSRQc0kWojzb"
      },
      "outputs": [],
      "source": [
        "output=data_generator(y_pred)\n",
        "\n",
        "output0=[x[0] for x in output]\n",
        "output1=[x[1] for x in output]\n",
        "output2=[x[2] for x in output]\n",
        "output3=[x[3] for x in output]\n",
        "output4=[x[4] for x in output]"
      ]
    },
    {
      "cell_type": "code",
      "execution_count": null,
      "metadata": {
        "id": "G88pQ7jYojvu"
      },
      "outputs": [],
      "source": [
        "df_csv=pd.DataFrame()\n",
        "df_csv[\"test_id\"]=test_df[\"swahili_id\"]\n",
        "df_csv[o[0]]=output0\n",
        "df_csv[o[1]]=output1\n",
        "df_csv[o[2]]=output2\n",
        "df_csv[o[3]]=output3\n",
        "df_csv[o[4]]=output4"
      ]
    },
    {
      "cell_type": "code",
      "execution_count": null,
      "metadata": {
        "id": "3NSaY0zkyu1t"
      },
      "outputs": [],
      "source": [
        "df_csv.head()"
      ]
    },
    {
      "cell_type": "code",
      "execution_count": null,
      "metadata": {
        "id": "hw4CUPobbH7A"
      },
      "outputs": [],
      "source": [
        "from datetime  import datetime"
      ]
    },
    {
      "cell_type": "code",
      "execution_count": null,
      "metadata": {
        "id": "CAbhqmcPdF6U"
      },
      "outputs": [],
      "source": [
        "a=datetime.now().strftime(\"%Y%m%d_%H%M%S\")"
      ]
    },
    {
      "cell_type": "code",
      "execution_count": null,
      "metadata": {
        "id": "MiOwO9UTdeUt"
      },
      "outputs": [],
      "source": [
        "fname=\"submission_\"+a+\".csv\""
      ]
    },
    {
      "cell_type": "code",
      "execution_count": null,
      "metadata": {
        "id": "8ELciPC_OpWA"
      },
      "outputs": [],
      "source": [
        "df_csv.to_csv(fname,index=False)"
      ]
    },
    {
      "cell_type": "code",
      "execution_count": null,
      "metadata": {
        "id": "wvmaQZGBYM_7"
      },
      "outputs": [],
      "source": [
        "!head $fname"
      ]
    },
    {
      "cell_type": "code",
      "execution_count": null,
      "metadata": {
        "id": "OrtPBTgcYwtg"
      },
      "outputs": [],
      "source": [
        ""
      ]
    }
  ],
  "metadata": {
    "accelerator": "GPU",
    "colab": {
      "collapsed_sections": [],
      "name": "HPLC.ipynb",
      "provenance": [],
      "include_colab_link": true
    },
    "kernelspec": {
      "display_name": "Python 3",
      "name": "python3"
    },
    "language_info": {
      "name": "python"
    }
  },
  "nbformat": 4,
  "nbformat_minor": 0
}